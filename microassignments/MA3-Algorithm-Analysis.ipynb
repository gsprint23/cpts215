{
 "cells": [
  {
   "cell_type": "markdown",
   "metadata": {},
   "source": [
    "# [CptS 215 Data Analytics Systems and Algorithms](https://github.com/gsprint23/cpts215)\n",
    "[Washington State University](https://wsu.edu)\n",
    "\n",
    "[Gina Sprint](http://eecs.wsu.edu/~gsprint/)\n",
    "## MA3 Algorithm Analysis (50 pts)\n",
    "\n",
    "### Learner Objectives\n",
    "At the conclusion of this micro assignment, participants should be able to:\n",
    "* Derive growth rate functions\n",
    "* Analyze algorithms for efficiency in terms of time and space complexity\n",
    "\n",
    "### Prerequisites\n",
    "Before starting this micro assignment, participants should be able to:\n",
    "* Implement/analyze algorithms\n",
    "* Write Markdown and code cells in Jupyter Notebook\n",
    "* Type set equations using Latex\n",
    "\n",
    "### Acknowledgments\n",
    "Content used in this assignment is based upon information in the following sources:\n",
    "* A WSU CptS 223 assignment by [Aaron Crandall](http://eecs.wsu.edu/~acrandal/)."
   ]
  },
  {
   "cell_type": "markdown",
   "metadata": {
    "collapsed": true
   },
   "source": [
    "## Overview and Requirements\n",
    "For this micro assignment, you are going to download this Jupyter Notebook and answer the following questions. Your answer for a problem should be in a cell *immediately* after the problem cell. *Do not modify the problem cell.*"
   ]
  },
  {
   "cell_type": "markdown",
   "metadata": {},
   "source": [
    "### Problem 1 (7 pts)\n",
    "Order the following set of functions by their growth rate:\n",
    "1. $N$\n",
    "2. $\\sqrt{N}$\n",
    "3. $N^{1.5}$\n",
    "4. $N^{2}$\n",
    "5. $N log N$\n",
    "6. $N log(log(N))$\n",
    "7. $N log^{2} N$\n",
    "8. $2/N$\n",
    "9. $N log^{2} (N)$\n",
    "10. $2^{N}$\n",
    "11. $2^{N/2}$\n",
    "12. $15$\n",
    "13. $N^{2} log(N)$\n",
    "14. $N^{4}$"
   ]
  },
  {
   "cell_type": "markdown",
   "metadata": {},
   "source": [
    "### Problem 2 (4 pts)\n",
    "A program takes 20 seconds for input size 250 (i.e., n=250). Ignoring the effect of constants, approximately how much time can the same program be expected to take if the input size is increased to 1000 given the following run-time complexities? \n",
    "1.\t$\\mathcal{O}(N)$\n",
    "2.\t$\\mathcal{O}(N log N)$\n",
    "3.\t$\\mathcal{O}(N^{3})$\n",
    "4.\t$\\mathcal{O}(2^{N})$"
   ]
  },
  {
   "cell_type": "markdown",
   "metadata": {},
   "source": [
    "### Problem 3 (4 pts)\n",
    "I've developed a new, super cool sorting algorithm.  Here's the procedure:\n",
    "\n",
    "Until sorted:\n",
    "1.\tRandomly generate i = some number between 0 and n - 1 (n = size of array)\n",
    "2.\tRandomly generate j = some number between i + 1 and n - 1\n",
    "3.\tif array[i] > array[j], swap\n",
    "4.\tCheck to see if the array has been sorted\n",
    "\n",
    "List the algorithm's efficiency using Big-O."
   ]
  },
  {
   "cell_type": "markdown",
   "metadata": {},
   "source": [
    "### Problem 4 (10 pts)\n",
    "Given the following two functions:\n",
    "\n",
    "```python\n",
    "def f(n):\n",
    "   if n <= 0:\n",
    "      return 0\n",
    "   return 1 + f(n - 1)\n",
    "```\n",
    "\n",
    "```python\n",
    "def g(n):\n",
    "   summ = 0\n",
    "   for i in range(0, n, 1):\n",
    "      summ += 1\n",
    "   return summ\n",
    "```\n",
    "\n",
    "1. (2 pts) State the runtime complexity of both `f()` and `g()`\n",
    "1. (2 pts) State the memory (space) complexity for both `f()` and `g()`\n",
    "1. (6 pts) Write another function called `h(n)` that does the same thing, but is significantly faster."
   ]
  },
  {
   "cell_type": "markdown",
   "metadata": {},
   "source": [
    "### Problem 5 (4 pts)\n",
    "State `g(n)`'s runtime complexity:\n",
    "\n",
    "```python\n",
    "def f(n):\n",
    "   if n <= 1:`\n",
    "      return 1\n",
    "   return 1 + f(n/2)\n",
    "\n",
    "def g(n):\n",
    "   i = 1\n",
    "   while i < n:\n",
    "       f(i)\n",
    "       i *= 2\n",
    "```"
   ]
  },
  {
   "cell_type": "markdown",
   "metadata": {},
   "source": [
    "### Problem 6 (8 pts)\n",
    "(Adapted from the 2012 ICPC programming competition) Write an algorithm to solve the following problem and specify its runtime complexity using the most relevant terms:\n",
    "\n",
    "Given a nonnegative integer, what is the smallest value, $k$, such that:\n",
    "\n",
    "$$n, 2n, 3n, ..., kn$$\n",
    "\n",
    "contains all 10 decimal numbers (0 through 9) at least once? \n",
    "\n",
    "For example, given an input of \"1\", our sequence would be:\n",
    "\n",
    "$$1,2(1),3(1),4(1),5(1),6(1),7(1),8(1),9(1),10(1)$$\n",
    "\n",
    "and thus $k$ would be 10.  Other examples:\n",
    "\n",
    "|Integer Value|K value|\n",
    "|----|-----|\n",
    "|10|9|\n",
    "|123456789|3|\n",
    "|3141592|5|\n"
   ]
  },
  {
   "cell_type": "markdown",
   "metadata": {},
   "source": [
    "### Problem 7 (10 pts)\n",
    "Provide the algorithmic efficiency for the following tasks.  Justify your answer.\n",
    "1. Determining whether a provided number is odd or even\n",
    "1. Determining whether or not a number exists in a list\n",
    "1. Finding the smallest number in a list\n",
    "1. Determining whether or not two unsorted lists of the same length contain all of the same values (assume no duplicate values)\n",
    "1. Determining whether or not two sorted list contain all of the same values (assume no duplicate values)"
   ]
  },
  {
   "cell_type": "markdown",
   "metadata": {},
   "source": [
    "## Submitting Assignments\n",
    "1.\tUse the Blackboard tool https://learn.wsu.edu to submit your assignment. You will submit your solution to the corresponding programming assignment under the \"Content\" tab. You must upload your solutions as `<your last name>_ma3.zip` by the due date and time.\n",
    "2.\tYour .zip file should contain your .ipynb file and a .html file representing your Notebook as a webpage (File->Download as->HTML)."
   ]
  },
  {
   "cell_type": "markdown",
   "metadata": {},
   "source": [
    "## Grading Guidelines\n",
    "This assignment is worth 50 points. Your assignment will be evaluated based on adherence to the requirements. See each problem above for individual problem point values. In addition, we will grade according to the following criteria:\n",
    "* 3 pts for for adherence to proper programming style and comments established for the class"
   ]
  }
 ],
 "metadata": {
  "anaconda-cloud": {},
  "kernelspec": {
   "display_name": "Python 3",
   "language": "python",
   "name": "python3"
  },
  "language_info": {
   "codemirror_mode": {
    "name": "ipython",
    "version": 3
   },
   "file_extension": ".py",
   "mimetype": "text/x-python",
   "name": "python",
   "nbconvert_exporter": "python",
   "pygments_lexer": "ipython3",
   "version": "3.7.1"
  }
 },
 "nbformat": 4,
 "nbformat_minor": 1
}
