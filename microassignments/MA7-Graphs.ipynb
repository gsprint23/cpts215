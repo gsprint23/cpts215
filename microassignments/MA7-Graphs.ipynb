{
 "cells": [
  {
   "cell_type": "markdown",
   "metadata": {},
   "source": [
    "# [CptS 215 Data Analytics Systems and Algorithms](https://github.com/gsprint23/cpts215)\n",
    "[Washington State University](https://wsu.edu)\n",
    "\n",
    "[Gina Sprint](http://eecs.wsu.edu/~gsprint/)\n",
    "## MA7 Graphs (50 pts)\n",
    "\n",
    "### Learner Objectives\n",
    "At the conclusion of this micro assignment, participants should be able to:\n",
    "* Implement/analyze graphs\n",
    "* Traverse graphs\n",
    "\n",
    "### Prerequisites\n",
    "Before starting this micro assignment, participants should be able to:\n",
    "* Write Markdown and code cells in Jupyter Notebook\n",
    "* Perform algorithm analysis\n",
    "\n",
    "### Acknowledgments\n",
    "Content used in this assignment is based upon information in the following sources:\n",
    "* [Data Structures: Abstraction and Design Using Java](http://www.wiley.com/WileyCDA/WileyTitle/productCd-EHEP001607.html) by Koffman and Wolfgang\n",
    "* [Miller and Ranum](http://interactivepython.org/runestone/static/pythonds/Graphs/DiscussionQuestions.html)"
   ]
  },
  {
   "cell_type": "markdown",
   "metadata": {
    "collapsed": true
   },
   "source": [
    "## Overview and Requirements\n",
    "For this micro assignment, you are going to download this Jupyter Notebook and answer the following questions. Your answer for a problem should be in a cell *immediately* after the problem cell. *Do not modify the problem cell.*\n",
    "\n",
    "We are going to solve several problems related to graphs and their efficiency. This micro assignment includes conceptional questions and programming.\n",
    "\n",
    "### Conceptual Questions\n",
    "Solve the following problems and *justify* your answers:\n",
    "\n",
    "|from|to|cost|\n",
    "|-|-|-|\n",
    "|1\t|2|\t10|\n",
    "|1\t|3|\t15|\n",
    "|1\t|6|\t5|\n",
    "|2\t|3|\t7|\n",
    "|3\t|4|\t7|\n",
    "|3\t|6|\t10|\n",
    "|4\t|5|\t7|\n",
    "|6\t|4|\t5|\n",
    "|5\t|6|\t13|\n",
    "1. (2 pts) Draw the graph corresponding to the above list of edges.\n",
    "1. (2 pts) Draw the graph corresponding to the following adjacency matrix:\n",
    "<img src=\"http://interactivepython.org/runestone/static/pythonds/_images/adjMatEX.png\" width=\"350\"/>\n",
    "(image from [http://interactivepython.org/runestone/static/pythonds/_images/adjMatEX.png](http://interactivepython.org/runestone/static/pythonds/_images/adjMatEX.png))\n",
    "1. For the following digraph:\n",
    "<img src=\"https://raw.githubusercontent.com/gsprint23/cpts215/master/microassignments/figures/ma7_digraph.png\" width=\"400\"/>\n",
    "    1. (2 pts) List the vertices.\n",
    "    1. (2 pts) List the edges.\n",
    "    1. (2 pts) Does this graph contain any cycles?\n",
    "    1. (2 pts) Show the adjacency matrix.\n",
    "    1. (2 pts) Show the adjacency list.\n",
    "    1. Starting at vertex 0, list the vertices in the graph in the order they would be visited during a:\n",
    "        1. (2 pts) Breadth-first traversal.\n",
    "        1. (2 pts) Depth-first traversal.\n",
    "    1. (2 pts) Starting at vertex 0, show the breadth-first search tree subgraph.\n",
    "    1. (2 pts) Starting at vertex 0, show the depth-first search tree subgraph.\n",
    "1. (2 pts) What is the time complexity for breadth-first search and for depth-first search?\n",
    "1. (4 pts) For the following weighted digraph, find the shortest path from 0 to all other vertices.\n",
    "<img src=\"https://raw.githubusercontent.com/gsprint23/cpts215/master/microassignments/figures/ma7_weighted_digraph.png\" width=\"400\"/>\n",
    "1. (4 pts) For the following weighted graph, find the minimum spanning tree:\n",
    "<img src=\"https://raw.githubusercontent.com/gsprint23/cpts215/master/microassignments/figures/ma7_weighted_graph.png\" width=\"400\"/>\n",
    "1. (2 pts) What is the time complexity for Prim's minimum spanning tree problem?\n",
    "\n",
    "### Implementation Question\n",
    "In CptS 121/131 you learned how to write a recursive function to solve a solution through a maze. The maze was represented as a 2 dimensional array of cells. Each cell was either open or an \"X\", which represented a wall. The solution you derived was a backtracking algorithm that tried many different paths (probably something like right, down, left, up). If the algorithm hit a dead end it would back track, trying a different path. The solution of the backtracking algorithm was not optimal. Using graphs, we can find the shortest path from the start point to the end point.\n",
    "\n",
    "We can represent a maze as a graph by adding a vertex for the start, the end, each decision point (i.e. an intersection), and a vertex for each dead end. The edges represent connections in the maze between locations (our graph vertices). Each edge will be unweighted, meaning we are ignoring the length of the connection in terms of the number of cells in the maze. \n",
    "\n",
    "Define a 16x16 semi-difficult maze. Include your maze as an image in your notebook, code it up as a 2D list, or visualize it using matplotlib. Construct a graph from your maze. Find the shortest path from the start vertex to the end vertex using a breadth-first search. The shortest path will represent the fewest number of vertices (decision points) in the graph, not the shortest distance in terms of the number of cells along the path. Display the shortest path and the number of decision points in the path."
   ]
  },
  {
   "cell_type": "markdown",
   "metadata": {},
   "source": [
    "## Bonus (4 pts)\n",
    "Read about [topological sorting](http://interactivepython.org/runestone/static/pythonds/Graphs/TopologicalSorting.html). Show a topological sort for the unweighted directed graph of question 3. "
   ]
  },
  {
   "cell_type": "markdown",
   "metadata": {},
   "source": [
    "## Submitting Assignments\n",
    "1.\tUse the Blackboard tool https://learn.wsu.edu to submit your assignment. You will submit your code to the corresponding programming assignment under the \"Content\" tab. You must upload your solutions as `<your last name>_ma5.zip` by the due date and time.\n",
    "2.\tYour .zip file should contain your .ipynb file and a .html file representing your Notebook as a webpage (File->Download as->HTML)."
   ]
  },
  {
   "cell_type": "markdown",
   "metadata": {},
   "source": [
    "## Grading Guidelines\n",
    "This assignment is worth 50 points + 4 points bonus. Your assignment will be evaluated based on a successful compilation and adherence to the program requirements. We will grade according to the following criteria:\n",
    "* 34 pts for answering the conception questions\n",
    "* 12 pts for correct implementation of the maze solver\n",
    "    * 2 pts for visualizing the maze\n",
    "    * 2 pts for constructing a graph to represent the maze\n",
    "    * 4 pts for correct shortest path computation\n",
    "    * 4 pts for displaying the results (visualizing the shortest path and the number of decision points)\n",
    "* 4 pts for for adherence to proper programming style and comments established for the class"
   ]
  }
 ],
 "metadata": {
  "anaconda-cloud": {},
  "kernelspec": {
   "display_name": "Python 3",
   "language": "python",
   "name": "python3"
  },
  "language_info": {
   "codemirror_mode": {
    "name": "ipython",
    "version": 3
   },
   "file_extension": ".py",
   "mimetype": "text/x-python",
   "name": "python",
   "nbconvert_exporter": "python",
   "pygments_lexer": "ipython3",
   "version": "3.7.1"
  }
 },
 "nbformat": 4,
 "nbformat_minor": 1
}
