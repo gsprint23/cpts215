{
 "cells": [
  {
   "cell_type": "markdown",
   "metadata": {},
   "source": [
    "# [CptS 215 Data Analytics Systems and Algorithms](https://github.com/gsprint23/cpts215)\n",
    "[Washington State University](https://wsu.edu)\n",
    "\n",
    "[Gina Sprint](http://eecs.wsu.edu/~gsprint/)\n",
    "## MA4 Queue Analysis (50 pts)\n",
    "\n",
    "### Learner Objectives\n",
    "At the conclusion of this micro assignment, participants should be able to:\n",
    "* Analyze stack and queue data structures for efficiency\n",
    "* Implement a queue using two stacks\n",
    "* Compare/contrast different implementations of a queue ADT\n",
    "\n",
    "### Prerequisites\n",
    "Before starting this micro assignment, participants should be able to:\n",
    "* Write object oriented Python code\n",
    "* Write Markdown and code cells in Jupyter Notebook\n",
    "* Understand the stack ADT and implement a stack\n",
    "* Understand the queue ADT and implement a queue\n",
    "\n",
    "### Acknowledgments\n",
    "Content used in this assignment is based upon information in the following sources:\n",
    "* Carl Kingsford's [Basic Data Structures](https://www.engage-csedu.org/find-resources/problem-set-1-basic-data-structures) problem set."
   ]
  },
  {
   "cell_type": "markdown",
   "metadata": {
    "collapsed": true
   },
   "source": [
    "## Overview and Requirements\n",
    "For this micro assignment, you are going to download this Jupyter Notebook and answer the following questions. Your answer for a problem should be in a cell *immediately* after the problem cell. *Do not modify the problem cell.*\n",
    "\n",
    "We are going to explore the efficiency of two different queue implementations. This micro assignment includes conceptional questions and programming.\n",
    "\n",
    "### Conceptual Questions\n",
    "Suppose you are given a (strange) computer that can only perform the following instructions (in addition to if and while):\n",
    "* `S = create_stack()` create stack makes a new stack `S`\n",
    "* `i = S.pop()` removes the top item from stack `S` and places it in variable `i`\n",
    "* `S.push(i)` makes item `i` the top item in stack `S`\n",
    "\n",
    "Solve the following problems and *justify* your answers:\n",
    "1. (10 pts) Show how you can use these operations to implement a queue (operations `Q = create_queue()`, `enqueue(i)`, `i = dequeue()`)\n",
    "    * A picture might help to explain your answer\n",
    "    * Hint: take a look at the following image:\n",
    "<img src=\"http://www.algoqueue.com/algoqueue/members/get_uploaded_image.load/149\" width=\"500\">\n",
    "(image from [http://www.algoqueue.com/algoqueue/members/get_uploaded_image.load/149](http://www.algoqueue.com/algoqueue/members/get_uploaded_image.load/149))\n",
    "1. (5 pts) What's the worst case running time of your dequeue implementation?\n",
    "1. (5 pts) Over a series of `n` enqueues followed by `n` dequeues, how many `pop()` operations does your implementation perform?\n",
    "\n",
    "### Implementation Questions\n",
    "Write a program that implements a queue using a standard list implementation (see [M&R 3.12](http://interactivepython.org/runestone/static/pythonds/BasicDS/ImplementingaQueueinPython.html)) and a queue using your solution to conceptual question #1. For the latter, you must implement a stack using a standard list implementation (see [M&R 3.5](http://interactivepython.org/runestone/static/pythonds/BasicDS/ImplementingaStackinPython.html)).\n",
    "\n",
    "Generate a sequence of `enqueue`s and `dequeue`s to test your two queue implementations. To generate the test sequence, randomly `enqueue` and `dequeue` strings from [words.txt](https://raw.githubusercontent.com/gsprint23/cpts215/master/microassignments/files/words.txt), a file containing all 118,309 valid crossword puzzle words, one on each line. Evaluate the differences between the two implementations by performing the following:\n",
    "1. Using [`timeit()`](https://docs.python.org/3/library/timeit.html), compare the running time for each queue implementation operating on your test sequence. Vary the size of your test sequence.\n",
    "    * Note: Make sure you are using the same test sequence for each implementation! Also, remove all frivolous code from your implementations (e.g. `print()` statements), as these can affect the timing!\n",
    "1. Write code to test your answer to conceptual question #2. Write up your observations.\n",
    "1. Write code to test your answer to conceptual question #3. Write up your observations."
   ]
  },
  {
   "cell_type": "markdown",
   "metadata": {},
   "source": [
    "## Bonus (5 pts)\n",
    "Perform additional analysis and comparisons of your two queue implementations above to the following:\n",
    "1. Linked lists implementations of the stacks and queue (you must write the implementation yourself)\n",
    "1. Python's `deque` container from `collections`\n",
    "\n",
    "Include `timeit()` results and a write up of your observations."
   ]
  },
  {
   "cell_type": "markdown",
   "metadata": {},
   "source": [
    "## Submitting Assignments\n",
    "1.\tUse the Blackboard tool https://learn.wsu.edu to submit your assignment. You will submit your code to the corresponding programming assignment under the \"Content\" tab. You must upload your solutions as `<your last name>_ma4.zip` by the due date and time.\n",
    "2.\tYour .zip file should contain your .ipynb file and a .html file representing your Notebook as a webpage (File->Download as->HTML). Also include [words.txt](https://raw.githubusercontent.com/gsprint23/cpts215/master/microassignments/files/words.txt) in your .zip file."
   ]
  },
  {
   "cell_type": "markdown",
   "metadata": {},
   "source": [
    "## Grading Guidelines\n",
    "This assignment is worth 50 points + 5 points bonus. Your assignment will be evaluated based on a successful compilation and adherence to the program requirements. We will grade according to the following criteria:\n",
    "* 20 pts for answering the conception questions\n",
    "* 5 pts for correct implementation of the list-based queue\n",
    "* 10 pts for correct implementation of the stack-based queue\n",
    "* 5 pts for `timeit()` results\n",
    "* 5 pts for observation write ups\n",
    "* 5 pts for for adherence to proper programming style and comments established for the class"
   ]
  }
 ],
 "metadata": {
  "anaconda-cloud": {},
  "kernelspec": {
   "display_name": "Python 3",
   "language": "python",
   "name": "python3"
  },
  "language_info": {
   "codemirror_mode": {
    "name": "ipython",
    "version": 3
   },
   "file_extension": ".py",
   "mimetype": "text/x-python",
   "name": "python",
   "nbconvert_exporter": "python",
   "pygments_lexer": "ipython3",
   "version": "3.7.1"
  }
 },
 "nbformat": 4,
 "nbformat_minor": 1
}
