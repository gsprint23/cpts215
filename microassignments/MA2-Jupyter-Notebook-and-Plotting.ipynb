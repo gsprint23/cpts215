{
 "cells": [
  {
   "cell_type": "markdown",
   "metadata": {},
   "source": [
    "# [CptS 215 Data Analytics Systems and Algorithms](https://github.com/gsprint23/cpts215)\n",
    "[Washington State University](https://wsu.edu)\n",
    "\n",
    "[Gina Sprint](http://eecs.wsu.edu/~gsprint/)\n",
    "## MA2 Jupyter Notebook and Plotting (50 pts)\n",
    "\n",
    "### Learner Objectives\n",
    "At the conclusion of this micro assignment, participants should be able to:\n",
    "* Write Markdown and code cells in Jupyter Notebook\n",
    "* Type set equations using Latex\n",
    "* Create plots with `matplotlib`\n",
    "\n",
    "### Prerequisites\n",
    "Before starting this micro assignment, participants should be able to:\n",
    "* Write Python code"
   ]
  },
  {
   "cell_type": "markdown",
   "metadata": {
    "collapsed": true
   },
   "source": [
    "## Overview and Requirements\n",
    "For this micro assignment you are going to derive a loan payment schedule numerically and graphically using Jupyter Notebook.\n",
    "\n",
    "### Background Information: Amortized Loans\n",
    "From [Wikipedia](https://en.wikipedia.org/wiki/Amortizing_loan): \n",
    ">An amortized loan is a loan where the principal of the loan is paid down over the life a loan (that is, amortized) according to an amortization schedule. Each payment to the lender will consist of a portion of interest and a portion of principal. Mortgage loans are typically amortizing loans. The calculations for an amortizing loan are those of an annuity using the time value of money formulas, and can be done using an amortization calculator.\n",
    "\n",
    "### Monthly Payment Calculation\n",
    "For calculating monthly payments, use the following formula:\n",
    "\n",
    "$$mpymt = \\frac{r(P)}{1 - (1 + r)^{-n}}$$\n",
    "\n",
    "Where $r$ is the *monthly* interest rate, $P$ is the cost of the car, and $n$ is the number of monthly payments. You can figure out $r$ by converting the interest rate the user enters to a decimal (divide by 100) and then dividing by 12 (12 months in a year). \n",
    "\n",
    "You can check your program output by comparing the computed monthly payment to an [online payment calculator](http://www.thecalculatorsite.com/finance/calculators/loancalculator.php). \n",
    "\n",
    "### Remaining Loan Balance\n",
    "For calculating the remaining balance on a loan, use the following [formula](http://www.financeformulas.net/Remaining_Balance_Formula.html):\n",
    "\n",
    "$$Balance = P(1 + r)^{n} - mpymt \\frac{(1 + r)^{n} - 1}{r}$$\n",
    "\n",
    "Note: you can also compute this iteratively. For each month, compute the interest ($i = r * P_{remaining}$) and subtract the interest from the monthly payment to get the monthly principal paid ($P_{monthlypaid} = mpymt - i$). Subtract the accumulated monthly principal paid from the original principal $P$ to find the remaining balance.\n",
    "\n",
    "### Program Details\n",
    "Open a new Jupyter Notebook and include the following items in Markdown and code:\n",
    "1. A description of amortized loans\n",
    "1. Relevant formulas using Latex\n",
    "1. Code to prompt the user for:\n",
    "    1. What the loan is for\n",
    "    1. Principal loan amount\n",
    "    1. Yearly interest rate of the loan as a percent\n",
    "    1. Number of years of the loan\n",
    "1. Code to display the monthly payment, total amount paid in interest, and total amount paid for the loan. \n",
    "1. Code to display the [loan repayment schedule](https://www.vertex42.com/ExcelArticles/amortization-calculation.html).\n",
    "1. An inline `matplotlib` plot that looks like the loan payment graph on [http://www.calcamo.net/loancalculator/paymentschedule/graph.php5](http://www.calcamo.net/loancalculator/paymentschedule/graph.php5):\n",
    "<img src=\"https://raw.githubusercontent.com/gsprint23/cpts215/master/microassignments/figures/bmw_i8_loan_plot_calcamo.png\" width=400/>\n",
    "    * Include balance, principal paid, and interest paid curves\n",
    "    * Shade the area under the principal paid and interest paid curves appropriately (see [`fill_between()`](http://matplotlib.org/examples/pylab_examples/fill_between_demo.html))\n",
    "    * Include a [legend](http://matplotlib.org/api/pyplot_api.html#matplotlib.pyplot.legend)\n",
    "    * Include grid lines\n",
    "    * Include a title stating what the loan graph is for (from the user)\n",
    "    * Your x-axis can be in months or in years (see Bonus)\n",
    "\n",
    "All values should be rounded to 2 decimal places and displayed with a \\$.\n",
    "\n",
    "### Example\n",
    "The following example is for a loan for a BMW i8:\n",
    "<img src=\"https://raw.githubusercontent.com/gsprint23/cpts215/master/microassignments/figures/i8.jpg\" width=\"250\"/>\n",
    "(Image from [https://c2.staticflickr.com/8/7152/13650180553_2febc742d3_b.jpg](https://c2.staticflickr.com/8/7152/13650180553_2febc742d3_b.jpg))\n",
    "\n",
    "BMW has a loan estimator on their website. [Try it](https://www.bmwusa.com/secured/content/forms/EstimateAPaymentBYO.aspx?namodelcode=16IC&byo=true&vehicleconfigid=d4h4yolb&from=/standard/content/Vehicles/2016/i8/bmwi8) for the i8 to check your work!\n",
    "\n",
    "#### User Interaction\n",
    "```\n",
    "What is this loan for? BMW i8\n",
    "Please enter the principal amount for the loan: 141695.00\n",
    "Please enter the yearly interest rate (as a percent) for the loan: 2.0\n",
    "Please enter the number of years for the loan: 5\n",
    "```\n",
    "\n",
    "#### Calculation Output\n",
    "```\n",
    "Monthly payment: $4158.94\n",
    "Total loan amount: $249536.15\n",
    "Total interest paid: $107841.15\n",
    "Month\tStart Balance\tPrincipal\tInterest    Payment\n",
    "1\t$141695.00\t  $1206.96\t$2951.98\t$4158.94\n",
    "2\t$140488.04\t  $1232.10\t$2926.83\t$4158.94\n",
    "...\n",
    "60\t$  4074.06\t  $4074.06\t$  84.88\t$4158.94\n",
    "61\t$     0.00\t  $   0.00\t$   0.00\t$   0.00\n",
    "```\n",
    "\n",
    "#### Loan Payment Graph\n",
    "<img src=\"https://raw.githubusercontent.com/gsprint23/cpts215/master/microassignments/figures/bmw_i8_loan_plot.png\" width=\"400\"/>"
   ]
  },
  {
   "cell_type": "markdown",
   "metadata": {},
   "source": [
    "## Bonus (2 pts)\n",
    "As in the example plot above, make the units for the x axis be years and add \\$ signs to the y tick labels."
   ]
  },
  {
   "cell_type": "markdown",
   "metadata": {},
   "source": [
    "## Submitting Assignments\n",
    "1.\tUse the Blackboard tool https://learn.wsu.edu to submit your assignment. You will submit your code to the corresponding programming assignment under the \"Content\" tab. You must upload your solutions as `<your last name>_ma2.zip` by the due date and time.\n",
    "2.\tYour .zip file should contain your .ipynb file and a .html file representing your Notebook as a webpage (File->Download as->HTML)."
   ]
  },
  {
   "cell_type": "markdown",
   "metadata": {},
   "source": [
    "## Grading Guidelines\n",
    "This assignment is worth 50 points + 2 points bonus. Your assignment will be evaluated based on a successful compilation and adherence to the program requirements. We will grade according to the following criteria:\n",
    "* 10 pts for typesetting the equations\n",
    "* 15 pts for correct calculation output\n",
    "* 20 pts for correct plot output\n",
    "* 5 pts for adherence to proper programming style and comments established for the class"
   ]
  }
 ],
 "metadata": {
  "anaconda-cloud": {},
  "kernelspec": {
   "display_name": "Python 3",
   "language": "python",
   "name": "python3"
  },
  "language_info": {
   "codemirror_mode": {
    "name": "ipython",
    "version": 3
   },
   "file_extension": ".py",
   "mimetype": "text/x-python",
   "name": "python",
   "nbconvert_exporter": "python",
   "pygments_lexer": "ipython3",
   "version": "3.7.1"
  }
 },
 "nbformat": 4,
 "nbformat_minor": 1
}
