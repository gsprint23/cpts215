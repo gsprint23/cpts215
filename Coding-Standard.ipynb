{
 "cells": [
  {
   "cell_type": "markdown",
   "metadata": {},
   "source": [
    "# [CptS 215](https://github.com/gsprint23/cpts215) Coding Standard\n",
    "[Washington State University](https://wsu.edu/)\n",
    "\n",
    "[Gina Sprint](http://eecs.wsu.edu/~gsprint/)\n",
    "\n",
    "## Overview\n",
    "This document outlines the expectations of code organization and style for [CptS 215](http://piazza.com/wsu/fall2017/cpts215/home). \n",
    "\n",
    "## File Names\n",
    "Source files (.py and .ipynb files) should have a name that describes your program. For example, a Python program to compute the area of various shapes could be called `area.py` instead of a non-informative name, such as `program.py`. For labs, it is recommended you name your python files for each task, e.g. `lab1task1.py`. For programming assignments, the assignment specification will state what to name your source file.\n",
    "\n",
    "Input/output files (e.g. .txt files, .csv files, etc.) should have a name that describes the content of the file.\n",
    "\n",
    "## Programmer-Defined Identifiers\n",
    "Variables, functions, and classes should be named informatively. For example, do not name a variable, `variable`. The name should describe the value of the variable (i.e. `radius` for storing the radius of a circle), computation performed by the function (i.e. `compute_circumference()` to compute the circumference of a circle), or the semantics of the class (i.e. `Circle` to represent information and functionality related to circles). Thoughtful identifier names improves the readability of your code to yourself and others. \n",
    "\n",
    "## Comments\n",
    "Liberally comment your code! It helps you and others who may read your code. Also, should you use an algorithm, idea, or any other content that is not your own, use comments in your code to properly **cite your sources**.\n",
    "\n",
    "### Inline Comments\n",
    "To describe the purpose of a line of code, it is beneficial to place comments throughout your code, not just when defining functions and objects.\n",
    "\n",
    "### Source File Comments\n",
    "Begin programs with a header section that indicates\n",
    "* Programmer's name\n",
    "* Date of current version\n",
    "* Brief description of what program does\n",
    "* The course (\"CptS 215\") \n",
    "* Assignment number (e.g., \"Programming Assignment #1\")\n",
    "\n",
    "For example:"
   ]
  },
  {
   "cell_type": "code",
   "execution_count": null,
   "metadata": {},
   "outputs": [],
   "source": [
    "##############################################\n",
    "# Programmer: Gina Sprint\n",
    "# Class: CptS 215-01, Fall 2017\n",
    "# Programming Assignment #1\n",
    "# 8/24/17\n",
    "#\n",
    "# Description: This program computes...\n",
    "##############################################\n",
    "\n",
    "'''\n",
    "Programmer: Gina Sprint\n",
    "Class: CptS 215-01, Fall 2017\n",
    "Programming Assignment #1\n",
    "8/24/17\n",
    "\n",
    "Description: This program computes...\n",
    "'''"
   ]
  },
  {
   "cell_type": "code",
   "execution_count": null,
   "metadata": {
    "collapsed": true
   },
   "outputs": [],
   "source": [
    "# Programmer: Gina Sprint\n",
    "# Class: CptS 215-01, Fall 2017\n",
    "# Programming Assignment #1\n",
    "# 8/24/17\n",
    "#\n",
    "# Description: This program computes..."
   ]
  },
  {
   "cell_type": "markdown",
   "metadata": {},
   "source": [
    "### Function/Method Comments\n",
    "Every function (and method) should contain a docstring, a comment placed immediately under the function header. Docstrings appear when you use the `help()` function with a function. The docstring should describe the function, function parameters, and the result if the function returns a value. \n",
    " \n",
    "For example:"
   ]
  },
  {
   "cell_type": "code",
   "execution_count": null,
   "metadata": {},
   "outputs": [],
   "source": [
    "def compute_area_circle(radius):\n",
    "    '''\n",
    "    Computes the area of a circle by multiplying PI by the square of the circle's radius\n",
    "    Parameter radius: radius of the circle whose area this function computes\n",
    "    Returns: area of a circle\n",
    "    '''\n",
    "    area = 3.14 * radius ** 2\n",
    "    return area\n",
    "\n",
    "help(compute_area_circle)\n",
    "print(compute_area_circle(2.0))"
   ]
  },
  {
   "cell_type": "markdown",
   "metadata": {},
   "source": [
    "### Class Comments\n",
    "Every class should contain a docstring, a comment placed immediately under the class header. Docstrings appear when you use the `help()` function with a class or object. The docstring should describe the class and what it represents. \n",
    " \n",
    "For example:"
   ]
  },
  {
   "cell_type": "code",
   "execution_count": null,
   "metadata": {},
   "outputs": [],
   "source": [
    "class Circle:\n",
    "    '''\n",
    "    A class representing a circle shape. \n",
    "    Circle has a radius attribute.\n",
    "    '''\n",
    "help(Circle)"
   ]
  },
  {
   "cell_type": "markdown",
   "metadata": {},
   "source": [
    "## Jupyter Notebook\n",
    "The flow of Markdown and code cells in a Jupyter Notebook should tell a story. The following guidelines describe how best to use Jupyter Notebook to tell a story:\n",
    "* Start from general information to specific information.\n",
    "* Use headings and sub-headings liberally to organize your code. \n",
    "* Plots should be rendered inline.\n",
    "* Include links to references you used.\n",
    "* If a math formula is relevant, type set it using Latex."
   ]
  },
  {
   "cell_type": "markdown",
   "metadata": {},
   "source": [
    "## Other Good Styling\n",
    "Insert blank space before and after commas and operators such as +, =, *, /, //"
   ]
  }
 ],
 "metadata": {
  "anaconda-cloud": {},
  "kernelspec": {
   "display_name": "Python 3",
   "language": "python",
   "name": "python3"
  },
  "language_info": {
   "codemirror_mode": {
    "name": "ipython",
    "version": 3
   },
   "file_extension": ".py",
   "mimetype": "text/x-python",
   "name": "python",
   "nbconvert_exporter": "python",
   "pygments_lexer": "ipython3",
   "version": "3.7.1"
  }
 },
 "nbformat": 4,
 "nbformat_minor": 1
}
