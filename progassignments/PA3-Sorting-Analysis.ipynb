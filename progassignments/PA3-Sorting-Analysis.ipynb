{
 "cells": [
  {
   "cell_type": "markdown",
   "metadata": {},
   "source": [
    "# [CptS 215 Introduction to Algorithmic Problem Solving](https://github.com/gsprint23/cpts215)\n",
    "[Washington State University](https://wsu.edu)\n",
    "\n",
    "[Gina Sprint](http://eecs.wsu.edu/~gsprint/)\n",
    "## PA3 Sorting Analysis (100 pts)\n",
    "\n",
    "### Learner Objectives\n",
    "At the conclusion of this programming assignment, participants should be able to:\n",
    "* Implement sorting routines\n",
    "* Analyze the \"work\" of sorting routines\n",
    "\n",
    "### Prerequisites\n",
    "Before starting this programming assignment, participants should be able to:\n",
    "* Implement linked lists\n",
    "* Perform algorithm analysis\n",
    "* Use the `pandas` library\n",
    "* Create plots with `matplotlib`\n",
    "\n",
    "### Acknowledgments\n",
    "Content used in this assignment is based upon information in the following sources:\n",
    "* None to report"
   ]
  },
  {
   "cell_type": "markdown",
   "metadata": {
    "collapsed": true
   },
   "source": [
    "## Overview and Requirements\n",
    "For this programming assignment, we are going to investigate how much \"work\" different sorting routines do, based on the input size and order of the data. We will record the work done by writing output CSV (comma separated value) files and creating various plots using [`matplotlib`](https://matplotlib.org/).\n",
    "\n",
    "Note: for this assignment, *do not use Jupyter Notebook* to code your solution. Use standard .py files and save your output to .csv and .png files (see the program details below for more on program output)."
   ]
  },
  {
   "cell_type": "markdown",
   "metadata": {},
   "source": [
    "### Program Details\n",
    "#### Data Structure\n",
    "Implement a doubly linked circular linked list of `Node` objects called `CircularDoublyLinkedList`. The data of each `Node` in the list is an integer. You will collect measurements for:\n",
    "1. An already sorted linked list\n",
    "1. An already sorted linked list in *descending* order\n",
    "1. A linked list containing random data\n",
    "\n",
    "#### List Size Configurations\n",
    "Generate each of the above linked lists with the following number of nodes:\n",
    "1. 500\n",
    "1. 1000\n",
    "1. 5000\n",
    "1. 10000\n",
    "1. (more values if you wish)\n",
    "\n",
    "Note: **Make copies of the original lists (as necessary) and pass the copies to each sorting routine so each routine is operating on the same data!** This is important in order to compare the results of the different algorithms.\n",
    "\n",
    "#### Sorting Routines\n",
    "Implement the following linked list sorting routines (implemented as a function or as a method of your `CircularDoublyLinkedList` class):\n",
    "1. Selection sort\n",
    "1. Early exit bubble sort (stops when the list is sorted)\n",
    "1. Insertion sort\n",
    "1. Shell sort\n",
    "1. Merge sort\n",
    "1. Quick sort\n",
    "\n",
    "#### Data to Collect\n",
    "For each sorting routine above, create a [`pandas`](http://pandas.pydata.org/) `DataFrame` with rows for each list size configuration and columns for each metric to collect. The metrics to collect include the algorithm's execution time using [`timeit`](https://docs.python.org/3/library/timeit.html) and counts for the following operations:\n",
    "1. Number of data comparisons\n",
    "1. Number of loop control comparisons\n",
    "1. Number of assignment operations involving data\n",
    "1. Number of assignment operations involving loop control\n",
    "1. \"Other\" operations (operations that don't fall into one of the above categories)\n",
    "1. Total number of operations (sum of the above)\n",
    "\n",
    "Note: Be sure to comment everything you count in your code.\n",
    "\n",
    "Pictorially, here is an example `DataFrame` for a sorting routine:\n",
    "\n",
    "|List configuration|Seconds|# Data|# Loop|# Data assignments|# Loop assignments|# Other|Total|\n",
    "|-|-|-|-|-|-|-|-|\n",
    "|Sorted N=500||||||||\n",
    "|Sorted N=1000||||||||\n",
    "|Sorted N=5000||||||||\n",
    "|Sorted N=10000||||||||\n",
    "|Descending sorted N=500||||||||\n",
    "|Descending sorted N=1000||||||||\n",
    "|Descending sorted N=5000||||||||\n",
    "|Descending sorted N=10000||||||||\n",
    "|Random N=500||||||||\n",
    "|Random N=1000||||||||\n",
    "|Random N=5000||||||||\n",
    "|Random N=10000|||||||||\n",
    "\n",
    "\n",
    "#### Program Output\n",
    "##### CSV Files\n",
    "Write the contents of each sorting routine `DataFrame` to a CSV file with a filename of the form `<algorithm>_sort_results.csv`. For example, `bubble_sort_results.csv`. See the function [`to_csv()`](http://pandas.pydata.org/pandas-docs/stable/generated/pandas.DataFrame.to_csv.html) in the pandas library for a straightforward way to do this! In total, your program should output 6 csv files, one for each sorting routine.\n",
    "\n",
    "#### Plots to Generate\n",
    "For each of the three list configurations (sorted, descending sorted, random), create two plots with list size on the x-axis (i.e. 500, 1000, 5000, 10000) and the following on the y-axis:\n",
    "1. Plot 1: running time\n",
    "1. Plot 2: total operation count\n",
    "\n",
    "Each plot should have a separate curve for each sorting routine. For example (example purposes only!!):"
   ]
  },
  {
   "cell_type": "code",
   "execution_count": 38,
   "metadata": {},
   "outputs": [
    {
     "data": {
      "text/plain": [
       "<matplotlib.legend.Legend at 0x551e49c828>"
      ]
     },
     "execution_count": 38,
     "metadata": {},
     "output_type": "execute_result"
    },
    {
     "data": {
      "image/png": "[encoded data removed]",
      "text/plain": [
       "<matplotlib.figure.Figure at 0x551e63d8d0>"
      ]
     },
     "metadata": {},
     "output_type": "display_data"
    }
   ],
   "source": [
    "%matplotlib inline\n",
    "import matplotlib.pyplot as plt\n",
    "import numpy as np\n",
    "import pandas as pd\n",
    "\n",
    "# dummy data for plotting purposes only!\n",
    "s1 = pd.Series([2491628, 9757340, 231305150, 912997432], index=[500, 1000, 5000, 10000], name=\"s1\")\n",
    "s2 = pd.Series([1000400, 3999374, 99946590, 399770054], index=[500, 1000, 5000, 10000], name=\"s2\")\n",
    "s3 = pd.Series([2693079, 9860287, 251320053, 953027247], index=[500, 1000, 5000, 10000], name=\"s3\")\n",
    "s4 = pd.Series([1139655, 4526769, 112543347, 449865228], index=[500, 1000, 5000, 10000], name=\"s4\")\n",
    "s5 = pd.Series([1000689, 2885861, 108040588, 307912139], index=[500, 1000, 5000, 10000], name=\"s5\")\n",
    "s6 = pd.Series([2127301, 4673410, 110782327, 414933108], index=[500, 1000, 5000, 10000], name=\"s6\")\n",
    "sers = [s1, s2, s3, s4, s5, s6]\n",
    "\n",
    "x_locs = np.arange(1, 5)\n",
    "x_labels = [500, 1000, 5000, 10000]\n",
    "f, ax = plt.subplots()\n",
    "ax.set_title(\"Descending Sorted\")\n",
    "ax.set_ylabel(\"Total operations\")\n",
    "ax.set_xlabel(\"List size N\")\n",
    "ax.set_xticks(x_locs)\n",
    "ax.set_xticklabels(x_labels)\n",
    "for ser in sers:\n",
    "    plt.plot(x_locs, ser, label=ser.name)\n",
    "plt.legend(loc=0)"
   ]
  },
  {
   "cell_type": "markdown",
   "metadata": {},
   "source": [
    "In total, your program should output 6 plots (3 list configurations * 2 metrics to plot). Save your plots as .png files (see the function [`savefig()`](https://matplotlib.org/api/pyplot_api.html#matplotlib.pyplot.savefig) for a straightforward way to do this!)."
   ]
  },
  {
   "cell_type": "markdown",
   "metadata": {},
   "source": [
    "## Bonus (5 pts)\n",
    "Read about the `pandas` [`Panel`](http://pandas.pydata.org/pandas-docs/stable/generated/pandas.Panel.html) object:\n",
    ">Panel is a somewhat less-used, but still important container for 3-dimensional data. The term panel data is derived from econometrics and is partially responsible for the name pandas: pan(el)-da(ta)-s. The names for the 3 axes are intended to give some semantic meaning to describing operations involving panel data and, in particular, econometric analysis of panel data. However, for the strict purposes of slicing and dicing a collection of DataFrame objects, you may find the axis names slightly arbitrary:\n",
    "* items: axis 0, each item corresponds to a DataFrame contained inside\n",
    "* major_axis: axis 1, it is the index (rows) of each of the DataFrames\n",
    "* minor_axis: axis 2, it is the columns of each of the DataFrames\n",
    "\n",
    "Instead of storing each sorting routine's measurements in a `DataFrame` store the measurements in a `Panel` in the following configuration:\n",
    "* items: list configuration (e.g. labels [\"sorted\", \"descending sorted\", \"random\"])\n",
    "* major_axis: N (e.g. labels [500, 1000, 5000, 10000])\n",
    "* minor_axis: metrics (e.g. labels [\"Seconds\", \"# Data\", \"# Loop\", \"# Data assignments\", \"# Loop assignments\", \"# Other\", \"Total\"])"
   ]
  },
  {
   "cell_type": "markdown",
   "metadata": {},
   "source": [
    "## Submitting Assignments\n",
    "1.\tUse the Blackboard tool https://learn.wsu.edu to submit your assignment. You will submit your code to the corresponding programming assignment under the \"Content\" tab. You must upload your solutions as `<your last name>_pa3.zip` by the due date and time.\n",
    "2.\tYour .zip file should contain your .py files, .csv files, and .png files."
   ]
  },
  {
   "cell_type": "markdown",
   "metadata": {},
   "source": [
    "## Grading Guidelines\n",
    "This assignment is worth 100 points + 5 points bonus. Your assignment will be evaluated based on a successful compilation and adherence to the program requirements. We will grade according to the following criteria:\n",
    "* 20 pts for correct `CircularDoublyLinkedList` implementation\n",
    "* 30 pts for correct implementation of each sorting routine and operation counts (5 pts/per routine)\n",
    "* 10 pts for correct list type generation (sorted, descending sorted, random)\n",
    "* 5 pts for correct list size configurations\n",
    "* 10 pts for properly using `DataFrame`s to store results\n",
    "* 5 pts for correct CSV file output\n",
    "* 15 pts for correct plots\n",
    "* 5 pts for adherence to proper programming style and comments established for the class"
   ]
  }
 ],
 "metadata": {
  "anaconda-cloud": {},
  "kernelspec": {
   "display_name": "Python 3",
   "language": "python",
   "name": "python3"
  },
  "language_info": {
   "codemirror_mode": {
    "name": "ipython",
    "version": 3
   },
   "file_extension": ".py",
   "mimetype": "text/x-python",
   "name": "python",
   "nbconvert_exporter": "python",
   "pygments_lexer": "ipython3",
   "version": "3.7.1"
  }
 },
 "nbformat": 4,
 "nbformat_minor": 1
}
