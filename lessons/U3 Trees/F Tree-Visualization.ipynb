{
 "cells": [
  {
   "cell_type": "markdown",
   "metadata": {},
   "source": [
    "# [CptS 215 Data Analytics Systems and Algorithms](https://github.com/gsprint23/cpts215)\n",
    "[Washington State University](https://wsu.edu)\n",
    "\n",
    "[Gina Sprint](http://eecs.wsu.edu/~gsprint/)\n",
    "# Tree Visualization\n",
    "\n",
    "Learner objectives for this lesson:\n",
    "* Learn about different libraries for tree visualization\n",
    "* Understand the relationship between a tree and a graph\n",
    "* Produce a simple tree visualization using `networkx`\n",
    "\n",
    "\n",
    "## Acknowledgments\n",
    "Content used in this lesson is based upon information in the following sources:\n",
    "* No sources to report"
   ]
  },
  {
   "cell_type": "markdown",
   "metadata": {},
   "source": [
    "## Tree Visualization\n",
    "In our last lesson, we learned how to implement a decision tree. We built a tree to classify whether a job candidate should be hired or not based on four job candidate attributes. The tree our algorithm built looked like this:\n",
    "\n",
    "```python\n",
    "tree = ['level', \\\n",
    "        {None: True, \\\n",
    "         'Senior': ('tweets', \\\n",
    "                    {'no': False, None: False, 'yes': True}), \\\n",
    "         'Junior': ('phd', \\\n",
    "                    {'no': True, None: True, 'yes': False}), \\\n",
    "         'Mid': True}]\n",
    "```\n",
    "\n",
    "Pictorially the tree looks like this:\n",
    "<img src=\"https://raw.githubusercontent.com/gsprint23/cpts215/master/lessons/figures/job_candidate_tree.png\" width=\"700\"/>\n",
    "\n",
    "I made the above tree diagram in Microsoft Powerpoint. Manually making a tree in Powerpoint is inefficient and not scalable. Ideally, it would be best to programmatically create visualizations of trees. These can be used for debugging our algorithm, investigating the results, and sharing the decision tree in a paper or Jupyter Notebook. \n",
    "\n",
    "A tree is a type of graph, which is a data structure we are going to learn about soon! Until then, you should know a little bit about graphs from your math background. A graph is a set of vertices (nodes) and a set of edges that connect the vertices. A tree is an acyclic, connected graph. This means there are no cycles in the graph and there are no unreachable vertices. There are several python libraries that have support for visualizing graphs, such as:\n",
    "* [pygraphviz](https://pygraphviz.github.io/)\n",
    "* [networkx](https://networkx.github.io/) (uses Matplotlib and/or graphviz via pygraphviz or pydot)\n",
    "* [plotly](https://plot.ly/python/)\n",
    "\n",
    "Currently, pygraphviz is the best option but the most difficult to install. At the time of writing, pygraphviz does not have support (official or unofficial) for Python 3.5. So, instead we will walk through an example using networkx."
   ]
  },
  {
   "cell_type": "markdown",
   "metadata": {},
   "source": [
    "## networkx\n",
    "[networkx](https://networkx.github.io/) is a Python language software package for the creation, manipulation, and study of the structure, dynamics, and functions of complex networks. We will use networkx's `DiGraph` (directed graph) object to store nodes and edges between those nodes. For a decision tree, the nodes will be either decision or leaf nodes, and the edges will be attribute values that route examples from one node to the next."
   ]
  },
  {
   "cell_type": "code",
   "execution_count": 1,
   "metadata": {},
   "outputs": [
    {
     "data": {
      "text/plain": [
       "(-0.20000000000000001,\n",
       " 1.2000000000000002,\n",
       " -0.10000000000000001,\n",
       " 0.90000000000000002)"
      ]
     },
     "execution_count": 1,
     "metadata": {},
     "output_type": "execute_result"
    },
    {
     "data": {
      "image/png": "[encoded data removed]",
      "text/plain": [
       "<matplotlib.figure.Figure at 0x8a6156b080>"
      ]
     },
     "metadata": {},
     "output_type": "display_data"
    }
   ],
   "source": [
    "%matplotlib inline\n",
    "import matplotlib.pyplot as plt\n",
    "import networkx as nx\n",
    "\n",
    "    \n",
    "def build_graph(tree, G, parent=None, value=None):\n",
    "    '''\n",
    "    tree is the decision tree format used by Joel Grus\n",
    "    in Data Science from Scratch:\n",
    "    leaf node: True/False\n",
    "    decision node: tuple of (attribute, subtree_dict)\n",
    "    '''\n",
    "    if tree in [True, False]:\n",
    "        G.add_node(tree) # add leaf node\n",
    "        G.add_edge(parent, tree, label=value)\n",
    "    else:\n",
    "        attribute, subtree_dict = tree\n",
    "        attribute = str(attribute)\n",
    "        G.add_node(attribute) # add attribute node\n",
    "\n",
    "        if parent is not None:\n",
    "            G.add_edge(parent, attribute, label=value)\n",
    "\n",
    "        for attribute_value, subtree in subtree_dict.items():\n",
    "            attribute_value = str(attribute_value)\n",
    "            build_graph(subtree, G, attribute, attribute_value)\n",
    "\n",
    "# tree built previously for candidate hire classification problem\n",
    "tree = ('level', \\\n",
    "        {None: True, \\\n",
    "         'Senior': ('tweets', \\\n",
    "                    {'no': False, None: False, 'yes': True}), \\\n",
    "         'Junior': ('phd', \\\n",
    "                    {'no': True, None: True, 'yes': False}), \\\n",
    "         'Mid': True})\n",
    "\n",
    "G = nx.DiGraph()\n",
    "build_graph(tree, G)\n",
    "pos = nx.spring_layout(G)\n",
    "# draw nodes and edges\n",
    "nx.draw_networkx_nodes(G, pos)\n",
    "nx.draw_networkx_edges(G, pos)\n",
    "\n",
    "# add node and edge labels\n",
    "labels = {node:str(node) for i, node in enumerate(G.nodes())}\n",
    "elabels = {edge:G[edge[0]][edge[1]][\"label\"] for i, edge in enumerate(G.edges())}\n",
    "nx.draw_networkx_labels(G, pos, labels)\n",
    "nx.draw_networkx_edge_labels(G, pos, edge_labels=elabels)\n",
    "plt.axis('off')"
   ]
  },
  {
   "cell_type": "markdown",
   "metadata": {},
   "source": [
    "What do you notice about this visualization? \n",
    "1. The data is visualized as a *graph*, not a *tree*. For a tree visualization we would expect a hierarchy with the root node at the top, and each subsequent level of the tree spaced below. \n",
    "1. Notice how there are only two `True`/`False` nodes. A networkx graph has unique nodes, so we cannot add multiple `True` or `False` nodes to represent leaf nodes.\n",
    "1. What happened to our `None` attribute value off of the root node level? For example, `level` should have four children, Senior, Junior, Mid, and `None`. Like with nodes, only unique edges are stored in the graph. Edge (level -> `False`) exists for attribute value Mid and `None`.\n",
    "\n",
    "To address (1), we will need a tree-specific layout for our graph (instead of the spring layout). To address (2) and (3), we can create a new, unique node every time we need a `True`/`False` leaf node. I'll use a [generator](https://wiki.python.org/moin/Generators) function, `get_number()`, to do this."
   ]
  },
  {
   "cell_type": "code",
   "execution_count": null,
   "metadata": {},
   "outputs": [],
   "source": [
    "%matplotlib inline\n",
    "import matplotlib.pyplot as plt\n",
    "import networkx as nx\n",
    "\n",
    "def get_number():\n",
    "    '''\n",
    "    \n",
    "    '''\n",
    "    num = 0\n",
    "    while True:\n",
    "        yield num\n",
    "        num += 1\n",
    "\n",
    "def build_graph(tree, G, parent=None, value=None, gen=get_number()):\n",
    "    '''\n",
    "    \n",
    "    '''\n",
    "    if tree in [True, False]:\n",
    "        unique_label = str(tree) + str(next(gen))\n",
    "        G.add_node(unique_label) # add leaf node\n",
    "        G.add_edge(parent, unique_label, label=value)\n",
    "    else:\n",
    "        attribute, subtree_dict = tree\n",
    "        attribute = str(attribute)\n",
    "        G.add_node(attribute) # add attribute node\n",
    "\n",
    "        if parent is not None:\n",
    "            G.add_edge(parent, attribute, label=value)\n",
    "\n",
    "        for attribute_value, subtree in subtree_dict.items():\n",
    "            attribute_value = str(attribute_value)\n",
    "            build_graph(subtree, G, attribute, attribute_value, gen)\n",
    "\n",
    "tree = ['level', \\\n",
    "        {None: True, \\\n",
    "         'Senior': ('tweets', \\\n",
    "                    {'no': False, None: False, 'yes': True}), \\\n",
    "         'Junior': ('phd', \\\n",
    "                    {'no': True, None: True, 'yes': False}), \\\n",
    "         'Mid': True}]\n",
    "\n",
    "G = nx.DiGraph()\n",
    "build_graph(tree, G)\n",
    "pos = nx.spring_layout(G)\n",
    "# draw nodes and edges\n",
    "nx.draw_networkx_nodes(G, pos)\n",
    "nx.draw_networkx_edges(G, pos)\n",
    "\n",
    "# add node and edge labels\n",
    "labels = {node:str(node) for i, node in enumerate(G.nodes())}\n",
    "elabels = {edge:G[edge[0]][edge[1]][\"label\"] for i, edge in enumerate(G.edges())}\n",
    "nx.draw_networkx_labels(G, pos, labels)\n",
    "nx.draw_networkx_edge_labels(G, pos, edge_labels=elabels)\n",
    "plt.axis('off')"
   ]
  },
  {
   "cell_type": "markdown",
   "metadata": {},
   "source": [
    "Now we have the desired leaf nodes, but the graph is even more difficult to read! For the next iteration of our tree, will use the [`pydot`](https://pypi.python.org/pypi/pydot) module to visualize a tree, save the visualization as an image, and then open the image in Jupyter Notebook. "
   ]
  },
  {
   "cell_type": "code",
   "execution_count": null,
   "metadata": {},
   "outputs": [],
   "source": [
    "G = nx.DiGraph()\n",
    "build_graph(tree, G)\n",
    "p=nx.drawing.nx_pydot.to_pydot(G) # will need to install pydot and pydotplus\n",
    "p.write_png(r'figures\\example.png')\n",
    "from IPython.display import Image\n",
    "Image(r\"figures\\example.png\")"
   ]
  },
  {
   "cell_type": "markdown",
   "metadata": {
    "collapsed": true
   },
   "source": [
    "Now, we have a readable tree! When pygraphviz adds support for 64 bit Python 3.5, we will have a more elegant (and beautiful) way to do this. I also plan to around with plotly to make interactive tree visualizations, and I encourage you to do so as well! \n",
    "\n",
    "## \"Real\" Decision Tree Visualization\n",
    "In real data scientist contexts, you likely won't be using our greedy ID3 decision tree algorithm to build your trees. You will likely be using a well-tested, highly-efficient library like [scikit-learn]() or [WEKA](). Scikit-learn has built-in functionality ([sklearn.tree.export_graphviz](http://scikit-learn.org/stable/modules/generated/sklearn.tree.export_graphviz.html)) to export a decision tree model to a graphviz visualization. For this, you do not need pygraphviz (the graphviz Python bindings), so this is straightforward to install and use (in fact, this is what our `to_pydot()` code above is doing behind the scenes). "
   ]
  }
 ],
 "metadata": {
  "anaconda-cloud": {},
  "kernelspec": {
   "display_name": "Python 3",
   "language": "python",
   "name": "python3"
  },
  "language_info": {
   "codemirror_mode": {
    "name": "ipython",
    "version": 3
   },
   "file_extension": ".py",
   "mimetype": "text/x-python",
   "name": "python",
   "nbconvert_exporter": "python",
   "pygments_lexer": "ipython3",
   "version": "3.7.1"
  }
 },
 "nbformat": 4,
 "nbformat_minor": 1
}
