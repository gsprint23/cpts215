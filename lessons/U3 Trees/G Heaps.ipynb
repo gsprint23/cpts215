{
 "cells": [
  {
   "cell_type": "markdown",
   "metadata": {},
   "source": [
    "# [CptS 215 Data Analytics Systems and Algorithms](https://github.com/gsprint23/cpts215)\n",
    "[Washington State University](https://wsu.edu)\n",
    "\n",
    "[Gina Sprint](http://eecs.wsu.edu/~gsprint/)\n",
    "# Heaps\n",
    "\n",
    "Learner objectives for this lesson:\n",
    "* Understand what a priority queue is\n",
    "* Learn about the heap data structure to implement a priority queue\n",
    "\n",
    "\n",
    "## Acknowledgments\n",
    "Content used in this lesson is based upon information in the following sources:\n",
    "* [Miller and Ranum](http://interactivepython.org/runestone/static/pythonds/index.html)\n",
    "* [Dr. Ananth Kalyanaraman](http://www.eecs.wsu.edu/~ananth/)'s CptS 223 notes"
   ]
  },
  {
   "cell_type": "markdown",
   "metadata": {},
   "source": [
    "## Priority Queues\n",
    "A priority queue is a queue that orders the items in the queue by their *priority*. The items with the highest priority are at the front of the queue and the items with the lowest priority are at the back of the queue. If a very high priority item is enqueued, it will be stored toward (or possibly) at the front of the queue. It will thus be one of the first (or the first) items dequeued from the queue. \n",
    "<img src=\"https://raw.githubusercontent.com/gsprint23/cpts215/master/lessons/figures/heap1.png\" width=\"500\">\n",
    "\n",
    "We could adapt our queue code from several weeks ago to be an implementation of a priority queue. We can enqueue items into the queue in sorted order. Such an algorithm would be $\\mathcal{O}(n)$ for inserting items and $\\mathcal{O}(1)$ for removing the highest priority item. In fact, there are several data structures we could use to implement a priority queue:\n",
    "\n",
    "|Data structure|Insert|Remove highest priority|\n",
    "|-|-|-|\n",
    "|Unordered linked list|$\\mathcal{O}(1)$|$\\mathcal{O}(n)$|\n",
    "|Ordered linked list|$\\mathcal{O}(n)$|$\\mathcal{O}(1)$|\n",
    "|Balanced BST|$\\mathcal{O}(log n)$|$\\mathcal{O}(log n)$|\n",
    "\n",
    "In this lesson we are going to cover a new data structure that is more suited for a priority queue implementation. The new data structure, a binary heap, has a *special* tree-like structure that supports inserting and removing items with $\\mathcal{O}(log n)$ efficiency. The special tree is called a *binary heap*.\n",
    "\n",
    "## Binary Heaps\n",
    "A binary heap is a binary tree with two properties:\n",
    "1. Structure property\n",
    "1. Heap order property\n",
    "\n",
    "A binary heap is going to be implemented as a balanced binary tree in order to keep enqueue and dequeue $\\mathcal{O}(log n)$. A binary heap is usually a min heap or a max heap. A *min* heap maintains the smallest items at the front of the queue. A *max* heap maintains the largest items at the front of the queue. We will derive the interface and implementation of a min heap, though the implementation of the max heap is nearly the same."
   ]
  },
  {
   "cell_type": "markdown",
   "metadata": {},
   "source": [
    "### Structure Property\n",
    "We will keep the heap balanced by creating the heap as a *complete binary tree*. Each level in a complete binary tree is full, except for the bottom level of the tree. The bottom level of the tree will be filled from left to right. The height of a complete binary tree with $N$ items is $floor(log_{2}(N))$.\n",
    "\n",
    "Example of complete binary tree:\n",
    "<img src=\"http://interactivepython.org/runestone/static/pythonds/_images/compTree.png\" width=\"600\">\n",
    "(image from [http://interactivepython.org/runestone/static/pythonds/_images/compTree.png](http://interactivepython.org/runestone/static/pythonds/_images/compTree.png))\n",
    "\n",
    "While we can store a complete binary tree in an object oriented fashion (nodes and links), we can more conveniently store it as a single list using indexes and offsets. Let a parent node $p$ be at index $i$ in the list. \n",
    "* The left child of $p$ is at index $2 * i$. \n",
    "* The right child of $p$ is at index $2 * i + 1$. \n",
    "* The parent of any node $n$ at index $i$ is at index $i // 2$. \n",
    "\n",
    "<img src=\"https://raw.githubusercontent.com/gsprint23/cpts215/master/lessons/figures/heap2.png\" width=\"600\">\n",
    "<img src=\"https://raw.githubusercontent.com/gsprint23/cpts215/master/lessons/figures/heap3.png\" width=\"700\">\n",
    "\n",
    "This storage of a complete binary tree in a single list lends itself well to efficient traversals and an efficient binary heap implementation.\n",
    "\n",
    "Note: The first item at index 0 is 0. This is defined as such so the integer division used to lookup parent nodes results in the root node (smallest item in the heap) being at index position 1. \n",
    "\n",
    "Note: Since the list stores a complete binary tree, all nodes past the half way point in the list (`len(list)` // 2) are leaf nodes.\n",
    "\n",
    "### Heap Order Property\n",
    "In a heap, for every node `x` with parent node `p`, the item in `p` is smaller than or equal to the key in `x`. A tree that upholds the heap property will always have the smallest item in the root node. \n",
    "\n",
    "Example of a tree with the heap order property:\n",
    "<img src=\"http://interactivepython.org/runestone/static/pythonds/_images/heapOrder.png\" width=\"600\">\n",
    "(image from [http://interactivepython.org/runestone/static/pythonds/_images/heapOrder.png](http://interactivepython.org/runestone/static/pythonds/_images/heapOrder.png))\n",
    "\n",
    "Note: duplicates are allowed in a binary heap. No order is implied for elements which do not share ancestor-descendant relationship."
   ]
  },
  {
   "cell_type": "markdown",
   "metadata": {},
   "source": [
    "### Insertion\n",
    "To insert a new item into a min heap, insert the new item into the heap at the next available slot (\"hole\") in the complete binary tree (maintains heap structure property). Then, \"percolate\" the element up the heap while the heap order property is not satisfied. Let's take a look at an example:\n",
    "\n",
    "Insert 14 at the next available slot in the heap:\n",
    "<img src=\"https://raw.githubusercontent.com/gsprint23/cpts215/master/lessons/figures/heap4.png\" width=\"400\">\n",
    "Percolate 14 up to restore the heap order property:\n",
    "<img src=\"https://raw.githubusercontent.com/gsprint23/cpts215/master/lessons/figures/heap5.png\" width=\"600\">\n",
    "<img src=\"https://raw.githubusercontent.com/gsprint23/cpts215/master/lessons/figures/heap6.png\" width=\"600\">\n",
    "<img src=\"https://raw.githubusercontent.com/gsprint23/cpts215/master/lessons/figures/heap7.png\" width=\"700\">\n",
    "\n",
    "### Delete Min\n",
    "When we want to dequeue from the priority queue, we will delete the minimum item from the min heap. The minimum item is always at the root node so we will have to remove the root to delete the minimum key. To do this, we will decrease the heap size by one, move the last item in the heap to the root (maintains heap structure property) and \"percolate\" the element down while the heap order property is not satisfied. Let's take a look at an example:\n",
    "\n",
    "Delete 13:\n",
    "<img src=\"https://raw.githubusercontent.com/gsprint23/cpts215/master/lessons/figures/heap8.png\" width=\"400\">\n",
    "Replace the root with 31 and then percolate 13 down to restore the heap property:\n",
    "<img src=\"https://raw.githubusercontent.com/gsprint23/cpts215/master/lessons/figures/heap9.png\" width=\"600\">\n",
    "<img src=\"https://raw.githubusercontent.com/gsprint23/cpts215/master/lessons/figures/heap10.png\" width=\"400\">\n",
    "<img src=\"https://raw.githubusercontent.com/gsprint23/cpts215/master/lessons/figures/heap11.png\" width=\"600\">\n",
    "<img src=\"https://raw.githubusercontent.com/gsprint23/cpts215/master/lessons/figures/heap12.png\" width=\"400\">\n",
    "<img src=\"https://raw.githubusercontent.com/gsprint23/cpts215/master/lessons/figures/heap13.png\" width=\"600\">"
   ]
  },
  {
   "cell_type": "markdown",
   "metadata": {},
   "source": [
    "### Build Heap\n",
    "Suppose we need to construct a heap from an initial set of $N$ items. Think about the following two ways to construct a heap:\n",
    "1. Start with an empty heap and perform $N$ inserts\n",
    "    * $\\mathcal{O}(N log_{2} N)$ worst case\n",
    "1. Define a `build_heap()` method\n",
    "    * Randomly populate initial heap with structure property\n",
    "    * Perform a percolate down from each internal node (`H[size//2]` to `H[1]`) to establish the heap order property\n",
    "    * $\\mathcal{O}(N)$ worst case\n",
    "    \n",
    "Let's take a look at an example. Suppose the list of items to \"heapify\" is: 150, 80, 40, 10, 70, 110, 30, 120, 140, 60, 50, 130, 100, 20, 90\n",
    "<img src=\"https://raw.githubusercontent.com/gsprint23/cpts215/master/lessons/figures/heap14.png\" width=\"700\">\n",
    "<img src=\"https://raw.githubusercontent.com/gsprint23/cpts215/master/lessons/figures/heap15.png\" width=\"700\">\n",
    "<img src=\"https://raw.githubusercontent.com/gsprint23/cpts215/master/lessons/figures/heap16.png\" width=\"700\">\n",
    "<img src=\"https://raw.githubusercontent.com/gsprint23/cpts215/master/lessons/figures/heap17.png\" width=\"700\">\n",
    "<img src=\"https://raw.githubusercontent.com/gsprint23/cpts215/master/lessons/figures/heap18.png\" width=\"700\">"
   ]
  },
  {
   "cell_type": "markdown",
   "metadata": {},
   "source": [
    "### Min Heap Interface\n",
    "Public min heap methods include the following:\n",
    "1. `BinaryHeap()`: creates a new, empty binary min heap\n",
    "1. `insert(item)`: inserts the new item into the heap (like enqueue)\n",
    "    * Add `item` to the end of the list (fills the complete binary tree from left to right). Bubble (percolate) up the new item to its proper position in the tree by swapping with its parent until it is larger than its parent (maintains the binary heap property).\n",
    "1. `find_min()`: returns the item at the front of the heap without removing it (like peek)\n",
    "    * Min item is at index 1\n",
    "1. `delete_min()`: returns the item at the front of the heap and removes it (like dequeue)\n",
    "    * Replace the root with the last item in the list (maintains tree completeness). Restore the binary heap property in the tree by bubbling down the root item to its proper position in the tree by swapping with its smallest child until it is smaller than both of its children (maintains the binary heap property).\n",
    "1. `is_empty()`: returns True if the heap is empty, False otherwise\n",
    "1. `build_heap(list)`: builds a new heap from a list of items\n",
    "    * Set the heap to be the new list of items. Starting with the first non leaf node and working up to the node, move the nodes into their proper positions by bubbling down.\n",
    "1. `decrease_key(item, priority)`: lowers the current value of the item to a new, higher priority value. \n",
    "    * Represents promoting a job (need to percolate up).\n",
    "1. `increase_key(item, priority)`: increases the current value of the item to a new, lower priority value. \n",
    "    * Represents demoting a job (need to percolate down).\n",
    "1. `remove(item)`: remove an item (not necessarily at the root). \n",
    "    * Represents aborting/canceling a job (need to `decrease_key(item, -inf)` then `delete_min`)."
   ]
  },
  {
   "cell_type": "markdown",
   "metadata": {},
   "source": [
    "## Practice Problems\n",
    "Note: the following problems are adapted from Koffman and Wolfgang.\n",
    "\n",
    "### 1\n",
    "Show the heap that would be used to store the words \"this\", \"is\", \"the\", \"house\", \"that\", \"jack\", \"built\", assuming they are inserted in that sequence. Exchange the oder of arrival of the first and last words and build the new heap.\n",
    "\n",
    "### 2\n",
    "Draw the heaps for the previous problem as arrays.\n",
    "\n",
    "### 3\n",
    "Show the result of removing the word \"house\" from the heaps in the previous problem.\n",
    "\n",
    "### 4\n",
    "A max heap is a heap in which each element has a key that is smaller than its parent, so the largest key is a the top of the heap. Build the max heap that would result from the numbers 15, 25, 10, 33, 55, 47, 82, 90, 18."
   ]
  }
 ],
 "metadata": {
  "anaconda-cloud": {},
  "kernelspec": {
   "display_name": "Python 3",
   "language": "python",
   "name": "python3"
  },
  "language_info": {
   "codemirror_mode": {
    "name": "ipython",
    "version": 3
   },
   "file_extension": ".py",
   "mimetype": "text/x-python",
   "name": "python",
   "nbconvert_exporter": "python",
   "pygments_lexer": "ipython3",
   "version": "3.7.1"
  }
 },
 "nbformat": 4,
 "nbformat_minor": 1
}
