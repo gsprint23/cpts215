{
 "cells": [
  {
   "cell_type": "markdown",
   "metadata": {},
   "source": [
    "# [CptS 215 Data Analytics Systems and Algorithms](https://github.com/gsprint23/cpts215)\n",
    "[Washington State University](https://wsu.edu)\n",
    "\n",
    "[Gina Sprint](http://eecs.wsu.edu/~gsprint/)\n",
    "# Graphs\n",
    "\n",
    "Learner objectives for this lesson:\n",
    "* Learn about graph data structures\n",
    "* Gain familiarity with graph terminology\n",
    "\n",
    "\n",
    "## Acknowledgments\n",
    "Content used in this lesson is based upon information in the following sources:\n",
    "* [Miller and Ranum](http://interactivepython.org/runestone/static/pythonds/index.html)"
   ]
  },
  {
   "cell_type": "markdown",
   "metadata": {},
   "source": [
    "## Graph Overview\n",
    "We are quite familiar with the concept of a graph (the web of connections kind, not the plot kind). For example:\n",
    "* Airport system: each airport is connected by airline routes/flights\n",
    "* Internet: each computing device is connected by data transmission infrastructure\n",
    "* Power grid: each building is connected via power lines\n",
    "* Highway infrastructure: each town is connected by roads\n",
    "* etc.\n",
    "\n",
    "You can think of graphs as a more generalized version of a tree. As we will learn soon, a tree is a connected, acyclic digraph.\n",
    "\n",
    "### Definition\n",
    "A graph is a data structure representing connections (edges) between items (vertices). A vertex (or node) is an item in a graph. An edge (or link) is a connection between two vertices in a graph. Given a graph $G = (V, E)$, the set $V$ is the set of all vertices in $G$: $V = \\{v_{1}, ..., v_{i}, ..., v_{n}\\}$ and the set $E$ is the set of all edges in $G$: $E = \\{e_{1}, ..., e_{j}, ..., e_{m}\\}$ where $e_{j} = (v_{k}, v_{l})$ is an edge connecting vertices $v_{k}$ and $v_{l}$.\n",
    "\n",
    "Example graph:\n",
    "<img src=\"https://upload.wikimedia.org/wikipedia/commons/thumb/5/5b/6n-graf.svg/640px-6n-graf.svg.png\" width=\"300\">\n",
    "(image from [https://upload.wikimedia.org/wikipedia/commons/thumb/5/5b/6n-graf.svg/640px-6n-graf.svg.png](https://upload.wikimedia.org/wikipedia/commons/thumb/5/5b/6n-graf.svg/640px-6n-graf.svg.png)) "
   ]
  },
  {
   "cell_type": "markdown",
   "metadata": {},
   "source": [
    "For the above graph:\n",
    "* $V = \\{1, 2, 3, 4, 5, 6\\}$\n",
    "* $E =\\{(1, 2), (1, 5), (2, 5), (2, 3), (3, 4), (4, 5), (4, 6)\\}$\n",
    "\n",
    "### Terminology\n",
    "1. Adjacent: two vertices, $v_{k}$ and $v_{l}$, are adjacent if they are connected by an edge ($(v_{k}, v_{l}) \\in E$).\n",
    "    * Example: vertices 4 and 6 are adjacent\n",
    "    * Example vertices 4 and 2 are *not* adjacent\n",
    "1. Path: a sequence of edges leading from a source (starting) vertex to a destination (ending) vertex.\n",
    "    * Example: a path from 1 to 6 is: (1, 2), (2, 3), (3, 4), (4, 6)\n",
    "1. Path length: the number of edges in a path.\n",
    "    * Example: path length for (1, 2), (2, 3), (3, 4), (4, 6) is: 4\n",
    "1. Distance: the distance between two vertices is the path length for the shortest path between the two vertices.\n",
    "    * Example: the shortest path from 1 to 6 is: (1, 5), (5, 4), (4, 6) which has path length 3. Thus, the distance from 1 to 6 is 3.\n",
    "    * Note: we will find out soon how to compute the shortest path between two vertices!"
   ]
  },
  {
   "cell_type": "markdown",
   "metadata": {},
   "source": [
    "## Graph Variations\n",
    "### Weighted Graph\n",
    "Each edge in a weighted graph has an associated \"weight\", or value, associated with it. This weight represents the cost to move from one vertex to another. \n",
    "\n",
    "Example weighted graph:\n",
    "<img src=\"https://upload.wikimedia.org/wikipedia/commons/5/5f/CPT-Graphs-undirected-weighted.svg\" width=\"300\">\n",
    "(image from [https://upload.wikimedia.org/wikipedia/commons/5/5f/CPT-Graphs-undirected-weighted.svg](https://upload.wikimedia.org/wikipedia/commons/5/5f/CPT-Graphs-undirected-weighted.svg)) "
   ]
  },
  {
   "cell_type": "markdown",
   "metadata": {},
   "source": [
    "The above example shows the distances in miles between pairs of towns in England. In a weighted graph, the *weighted path length* is the sum of the weights of the edges in a path. For example, the path from Dunwich to Maldon: (Dunwich, Blaxhall, 15), (Blaxhall, Feering, 46), (Feering, Maldon, 11) has weight 15 + 46 + 11 = 72\n",
    "\n",
    "### Directed Graph (Digraph)\n",
    "Edges in a directed graph have a way associated with them (e.g. one-way or two-way). An arrow is typically used to denote the direction of an edge.\n",
    "\n",
    "Example digraph:\n",
    "<img src=\"https://upload.wikimedia.org/wikipedia/commons/thumb/8/8c/CPT-Graphs-directed-unweighted.svg/1000px-CPT-Graphs-directed-unweighted.svg.png\" width=\"300\">\n",
    "(image from [https://upload.wikimedia.org/wikipedia/commons/thumb/8/8c/CPT-Graphs-directed-unweighted.svg/1000px-CPT-Graphs-directed-unweighted.svg.png](https://upload.wikimedia.org/wikipedia/commons/thumb/8/8c/CPT-Graphs-directed-unweighted.svg/1000px-CPT-Graphs-directed-unweighted.svg.png)) \n",
    "\n",
    "The above example shows that it is easy to get between Dunwich and Blaxhall, but could be quite long to get between Feering and Tiptree, depending on the direction of travel! Tiptree to Feering is one edge away, but Feering to Tiptree is two edges away. In fact, one could get from Harwich to Dunwich, but how could one get from Dunwich to Harwich?"
   ]
  },
  {
   "cell_type": "markdown",
   "metadata": {},
   "source": [
    "#### Digraph Cycle\n",
    "A path that starts and ends at the same vertex is called a *cycle*. In the above example, there are several cycles. For example:\n",
    "* Feering, Maldon, Tiptree\n",
    "* Maldon, Tiptree, Clacton\n",
    "* Feering, Maldon, Tiptree, Clacton, Harwich, Tiptree, Feering\n",
    "\n",
    "Graphs without cycles are called *acyclic* graphs. An directed, acyclic graph is called a DAG. We will return to DAGs in future lessons."
   ]
  },
  {
   "cell_type": "markdown",
   "metadata": {},
   "source": [
    "#### Weighted Digraph\n",
    "A graph can be both directed and weighted. \n",
    "\n",
    "Example weighted digraph:\n",
    "<img src=\"https://upload.wikimedia.org/wikipedia/commons/thumb/2/22/CPT-Graphs-directed-weighted.svg/200px-CPT-Graphs-directed-weighted.svg.png\" width=\"300\">\n",
    "(image from [https://upload.wikimedia.org/wikipedia/commons/thumb/2/22/CPT-Graphs-directed-weighted.svg/200px-CPT-Graphs-directed-weighted.svg.png](https://upload.wikimedia.org/wikipedia/commons/thumb/2/22/CPT-Graphs-directed-weighted.svg/200px-CPT-Graphs-directed-weighted.svg.png)) "
   ]
  },
  {
   "cell_type": "markdown",
   "metadata": {},
   "source": [
    "## Graph Abstract Data Type\n",
    "Vertices in a graph ADT store a value, called the key, that names the vertex. Edges represent relationships/connections amongst the keys. The interface of a graph ADT includes the following constructor, methods, and operators: \n",
    "1. `Graph()` creates a new, empty graph.\n",
    "1. `add_vertex(vert)` adds an instance of Vertex to the graph.\n",
    "1. `add_edge(from_vert, to_vert)` adds a new, directed edge to the graph that connects two vertices.\n",
    "1. `add_edge(from_vert, to_vert, weight)` adds a new, weighted, directed edge to the graph that connects two vertices.\n",
    "1. `get_vertex(vert_key)` finds the vertex in the graph named vertKey.\n",
    "1. `get_vertices()` returns the list of all vertices in the graph.\n",
    "1. `in` returns True for a statement of the form vertex in graph, if the given vertex is in the graph, False otherwise."
   ]
  },
  {
   "cell_type": "markdown",
   "metadata": {},
   "source": [
    "## Practice Problems\n",
    "\n",
    "### 1\n",
    "<img src=\"https://upload.wikimedia.org/wikipedia/commons/thumb/2/22/CPT-Graphs-directed-weighted.svg/200px-CPT-Graphs-directed-weighted.svg.png\" width=\"300\">\n",
    "(image from [https://upload.wikimedia.org/wikipedia/commons/thumb/2/22/CPT-Graphs-directed-weighted.svg/200px-CPT-Graphs-directed-weighted.svg.png](https://upload.wikimedia.org/wikipedia/commons/thumb/2/22/CPT-Graphs-directed-weighted.svg/200px-CPT-Graphs-directed-weighted.svg.png)) \n",
    "\n",
    "In the graph above:\n",
    "1. What vertices are adjacent to Harwich?\n",
    "1. Is it possible to get from Clacton to all other vertices?\n",
    "1. Is it possible to get from Dunwich to all other vertices?\n",
    "\n",
    "### 2\n",
    "In the graph above:\n",
    "1. What are all possible paths from Harwich to Clacton?\n",
    "1. What is the shortest path from Harwich to Clacton?"
   ]
  }
 ],
 "metadata": {
  "anaconda-cloud": {},
  "kernelspec": {
   "display_name": "Python 3",
   "language": "python",
   "name": "python3"
  },
  "language_info": {
   "codemirror_mode": {
    "name": "ipython",
    "version": 3
   },
   "file_extension": ".py",
   "mimetype": "text/x-python",
   "name": "python",
   "nbconvert_exporter": "python",
   "pygments_lexer": "ipython3",
   "version": "3.7.1"
  }
 },
 "nbformat": 4,
 "nbformat_minor": 1
}
