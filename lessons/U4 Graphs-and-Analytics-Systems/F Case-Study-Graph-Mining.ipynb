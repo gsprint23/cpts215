{
 "cells": [
  {
   "cell_type": "markdown",
   "metadata": {},
   "source": [
    "# [CptS 215 Data Analytics Systems and Algorithms](https://github.com/gsprint23/cpts215)\n",
    "[Washington State University](https://wsu.edu)\n",
    "\n",
    "[Gina Sprint](http://eecs.wsu.edu/~gsprint/)\n",
    "# Case Study: Graph Mining\n",
    "\n",
    "Learner objectives for this lesson:\n",
    "* Interface with the Google Maps API\n",
    "* Utilize a graph structure with real world data\n",
    "    * US highways dataset\n",
    "    * `networkx` `Graph` object\n",
    "* Apply Dijkstra's algorithm to compute shortest paths\n",
    "\n",
    "\n",
    "## Acknowledgments\n",
    "Content used in this lesson is based upon information in the following sources:\n",
    "* [Google Maps API](https://developers.google.com/maps/web-services/overview)\n",
    "* [http://www2.lawrence.edu/fast/GREGGJ/CMSC150/101Graphs/highways.txt](http://www2.lawrence.edu/fast/GREGGJ/CMSC150/101Graphs/highways.txt)"
   ]
  },
  {
   "cell_type": "markdown",
   "metadata": {},
   "source": [
    "## Case Study Overview\n",
    "Before reading on in this lesson, read this article by Randal Olson: [*Computing the optimal road trip across the US*](http://www.randalolson.com/2015/03/08/computing-the-optimal-road-trip-across-the-u-s/). \n",
    "\n",
    "Let's write a program that implements a solution to a similar, smaller problem. Randal mentions a Python script when he states \"Thankfully, the Google Maps API makes this information freely available, so all it took was a short Python script to calculate the distance and time driven for all 2,450 routes between the 50 landmarks.\" In this case study, we are going to use the [Google Maps API](https://developers.google.com/maps/web-services/overview) to get real-time travel information. API stands for application programming interface. An API provides functions for programmers to use, without needing to know the details of the implementation. For example, Google Maps is a complex, well-tested program. We can use Google Maps via its API without knowing Google Map's details. This is also one of the beauties of functions. As long as we know:\n",
    "1. The name of the function to call\n",
    "1. What parameter(s) the functions expects\n",
    "1. What the function returns\n",
    "\n",
    "Then we can use Google Maps!\n",
    "\n",
    "Note: some APIs require *authentication*, meaning an API key that uniquely identifies you and/or your program is used to gain access to the API. The first part of this case study we will use the Google Maps Distance Matrix API, which is unauthenticated. For the second part, we will use the Google Maps Embed API, for which we will have to generate and use an API key.\n",
    "\n",
    "We will read in pairs of US cities that are connected by a major interstate highway from an input file. We will then construct a graph where each vertex is a US city and edges represent a highway connecting a pair of US cities. We will add attributes to the edges representing the distance in miles and the duration in seconds between the two cities the edge connects. We will get this information in real time via the Google Maps API. Lastly, we are going to prompt a user of program for an origin city and a destination city. Using Dijkstra's algorithm, we will find the shortest path between the two cities. We will also report how long it takes to drive between the two cities. To visualize the route, we will plot the route as a graph and use Google Maps Embed API to create a webpage with Google Maps embedded. Let's do this!\n",
    "\n",
    "### Google Maps Distance Matrix API\n",
    "Here is our code that queries the Google Maps Distance Matrix API and extracts the required information from the JSON response."
   ]
  },
  {
   "cell_type": "code",
   "execution_count": 1,
   "metadata": {
    "collapsed": true
   },
   "outputs": [],
   "source": [
    "import urllib.request\n",
    "\n",
    "def format_city_string(city_str):\n",
    "    '''\n",
    "    To prepare the city string for the query:\n",
    "    1. remove comma\n",
    "    2. replace spaces with +\n",
    "    '''\n",
    "    city_str = city_str.replace(\",\", \"\")\n",
    "    city_str = city_str.replace(\" \", \"+\")\n",
    "    return city_str\n",
    "  \n",
    "def build_query(origin, dest):\n",
    "    '''\n",
    "    Builds the query string for the Google Distance Matrix API according to this website:\n",
    "    https://developers.google.com/maps/documentation/distance-matrix/start\n",
    "    '''\n",
    "    query_base = \"http://maps.googleapis.com/maps/api/distancematrix/json?origins=\"    \n",
    "    query = query_base + origin\n",
    "    query += \"&destinations=\"\n",
    "    query += dest\n",
    "    query += \"&mode=driving&sensor=false\"\n",
    "    return query\n",
    "    \n",
    "def extract_value(results_str, value):\n",
    "    '''\n",
    "    Extracts the value from the JSON response.\n",
    "    '''\n",
    "    index = results_str.find(value)\n",
    "    results_str = results_str[index:]\n",
    "    index = results_str.find(\"value\")\n",
    "    results_str = results_str[index:]\n",
    "    index = results_str.find(\":\")\n",
    "    results_str = results_str[index + 2:]\n",
    "    index = results_str.find(r\"\\n\")\n",
    "    results_str = results_str[:index]\n",
    "    dist = int(results_str)\n",
    "    return dist\n",
    "    \n",
    "def get_distance_duration(city1, city2):\n",
    "    '''\n",
    "    Accepts 2 strings representing cities in the U.S.\n",
    "    Returns a tuple of the integer distance in meters between city1 and city2\n",
    "    and the integer number of seconds driving between city1 and city2\n",
    "    '''\n",
    "    city1 = format_city_string(city1)\n",
    "    city2 = format_city_string(city2)\n",
    "    \n",
    "    query = build_query(city1, city2)\n",
    "\n",
    "    web_obj = urllib.request.urlopen(query)\n",
    "    # web_obj.read() returns an array of bytes, need to convert to a string\n",
    "    results_str = str(web_obj.read())\n",
    "    web_obj.close()\n",
    "    \n",
    "    dist = extract_value(results_str, \"distance\")\n",
    "    duration = extract_value(results_str, \"duration\")\n",
    "    return dist, duration"
   ]
  },
  {
   "cell_type": "markdown",
   "metadata": {},
   "source": [
    "The `get_distance_duration(<city1 string>, <city2 string>)` returns a tuple of the distance (in meters) and driving duration (in seconds). Here is an example of how to call `get_distance_duration()`:"
   ]
  },
  {
   "cell_type": "code",
   "execution_count": 2,
   "metadata": {},
   "outputs": [
    {
     "name": "stdout",
     "output_type": "stream",
     "text": [
      "The distance between Seattle, WA and Pullman, WA is 457989 meters\n",
      "The driving duration between Seattle, WA and Pullman, WA is 16643 seconds\n"
     ]
    }
   ],
   "source": [
    "dist, dur = get_distance_duration(\"Seattle, WA\", \"Pullman, WA\")\n",
    "print(\"The distance between Seattle, WA and Pullman, WA is %d meters\" %(dist))\n",
    "print(\"The driving duration between Seattle, WA and Pullman, WA is %d seconds\" %(dur))"
   ]
  },
  {
   "cell_type": "markdown",
   "metadata": {},
   "source": [
    "### Dataset\n",
    "The road trip dataset we are going to use is a text file [highways.txt](https://raw.githubusercontent.com/gsprint23/cpts215/master/lessons/files/highways.txt) that I modified from its original source [http://www2.lawrence.edu/fast/GREGGJ/CMSC150/101Graphs/highways.txt](http://www2.lawrence.edu/fast/GREGGJ/CMSC150/101Graphs/highways.txt). According to the original dataset author, \"[the data file] represents a significant portion of the interstate highway system.\" The text file is formatted such that on each line, there is an edge represented by two cities separated by a comma. These two cities are connected by a major highway.\n",
    "\n",
    "Note: I performed the following modifications to the original dataset via the `remove_distance()` function:\n",
    "* Replaced the underscores with spaces\n",
    "* Separated city pairs by a comma\n",
    "* Removed the distance integer. We will get this from Google Maps \n",
    "\n",
    "Manually:\n",
    "* Removed cities Ontario, Birmingham, Florence, Cambridge, Seville, and Angola because without the state abbreviation after the city name, Google Maps was having a hard time figuring out which city was meant. For example, Ontario is meant to be Ontario, CA, but without the \"CA\" Ontario is ambiguous."
   ]
  },
  {
   "cell_type": "code",
   "execution_count": null,
   "metadata": {
    "collapsed": true
   },
   "outputs": [],
   "source": [
    "def remove_distance():\n",
    "    '''\n",
    "\n",
    "    '''\n",
    "    infile = open(\"highways_with_distances.txt\", \"r\")\n",
    "    outfile = open(\"highways.txt\", \"w\")\n",
    "    for line in infile.readlines():\n",
    "        words = line.strip().split(\" \")\n",
    "        city1 = words[0]\n",
    "        city1 = city1.replace(\"_\", \" \").lower()\n",
    "        city2 = words[1]\n",
    "        city2 = city2.replace(\"_\", \" \").lower()\n",
    "        outfile.write(\"%s,%s\\n\" %(city1, city2))\n",
    "        \n",
    "    infile.close()\n",
    "    outfile.close()"
   ]
  },
  {
   "cell_type": "markdown",
   "metadata": {},
   "source": [
    "### Graph Representation\n",
    "We are going to create a `networkx` `Graph` to represent the city-highway information. Each vertex in the graph will be a city (string key). For the edges in our graph, we are going to query the Google Maps API to find the distance (in miles) and driving time (in hours and minutes).\n",
    "\n",
    "Note: While we could use our own implementation of a `Graph` class, to keep the code short, I am opting to use the `networkx` library's `Graph` object instead.\n",
    "\n",
    "Note: I am pickling the `Graph` object for use if we are unable to connect to Google Maps for some reason (e.g. no Internet connection, exceeded API rate limit, Google Maps server is down, etc.). You can read more about Python pickling in the [Python `pickle` docs](https://docs.python.org/3/library/pickle.html) and in the [`networkx` `pickle` docs](https://networkx.github.io/documentation/networkx-1.9.1/reference/readwrite.gpickle.html)."
   ]
  },
  {
   "cell_type": "code",
   "execution_count": 3,
   "metadata": {},
   "outputs": [
    {
     "name": "stdout",
     "output_type": "stream",
     "text": [
      "Done\n"
     ]
    }
   ],
   "source": [
    "import os\n",
    "import networkx as nx\n",
    "\n",
    "def meters_to_miles(meters):\n",
    "    '''\n",
    "    \n",
    "    '''\n",
    "    miles = meters * 0.000621371\n",
    "    return miles    \n",
    "\n",
    "def seconds_to_hours_mins(seconds):\n",
    "    '''\n",
    "    \n",
    "    '''\n",
    "    mins = seconds / 60\n",
    "    hours = mins // 60\n",
    "    mins = mins % 60\n",
    "    return (hours, mins)\n",
    "\n",
    "def read_in_highways(fname):\n",
    "    '''\n",
    "\n",
    "    '''\n",
    "    G = nx.Graph()\n",
    "    infile = open(fname, \"r\")\n",
    "    for line in infile.readlines():\n",
    "        words = line.strip().split(\",\")\n",
    "        city1 = words[0]\n",
    "        city2 = words[1]\n",
    "        dist, dur = get_distance_duration(city1, city2)\n",
    "        dist = meters_to_miles(dist)\n",
    "        dist = round(dist, 1)\n",
    "        \n",
    "        if city1 not in G:\n",
    "            G.add_node(city1)\n",
    "        if city2 not in G:\n",
    "            G.add_node(city2)\n",
    "        G.add_edge(city1, city2, distance=dist, duration=dur)\n",
    "    infile.close()\n",
    "    \n",
    "    return G\n",
    "\n",
    "fname_base = \"files\\highways\"\n",
    "# adding support to save the graph by pickling\n",
    "# this way we can still run the code without Google Maps connection\n",
    "pickle_fname = fname_base + \"_graph.pickle\"\n",
    "if os.path.isfile(pickle_fname):\n",
    "    hwG = nx.read_gpickle(pickle_fname)\n",
    "else:\n",
    "    hwG = read_in_highways(fname_base + \".txt\")\n",
    "    nx.write_gpickle(hwG, pickle_fname)\n",
    "print(\"Done\")"
   ]
  },
  {
   "cell_type": "markdown",
   "metadata": {},
   "source": [
    "### Shortest Path\n",
    "To compute the *shortest* route (in terms of distance) between the origin and the destination, we will use Dijkstra's algorithm. For a more local graph (i.e. one that connects vertices that are geographically close together), we may also be interested in computing the *fastest* route (in terms of time). We could easily do that using the `duration` edge attribute instead of the `distance` edge attribute. For our current vertices that are spread out all across the US and represent major highway connections, the shortest routes and the fastest routes are going to be the same. However, since we are getting real-time information from Google Maps, a crash on a interstate will cause Google Maps to return an alternative route that is faster but longer. To create a robust application, we would want to query Google Maps for alternative routes and add multiple edges with different weights to our graph.\n",
    "\n",
    "### Graph Visualization using Networkx\n",
    "We will visualize our graph using `networkx`'s spring layout."
   ]
  },
  {
   "cell_type": "code",
   "execution_count": 4,
   "metadata": {},
   "outputs": [
    {
     "name": "stdout",
     "output_type": "stream",
     "text": [
      "seattle portland\n",
      "173.0 9889\n",
      "portland sacramento\n",
      "579.9 32676\n",
      "sacramento san francisco\n",
      "87.9 5292\n",
      "Total duration: 13 hours 17.62 minutes\n",
      "Total distance: 840.80 miles\n"
     ]
    },
    {
     "data": {
      "image/png": "[encoded data removed]",
      "text/plain": [
       "<matplotlib.figure.Figure at 0x7c22cbc438>"
      ]
     },
     "metadata": {},
     "output_type": "display_data"
    }
   ],
   "source": [
    "%matplotlib inline\n",
    "import matplotlib.pyplot as plt\n",
    "\n",
    "def compute_shortest_path(nx_graph, origin, destination):\n",
    "    '''\n",
    "    \n",
    "    '''\n",
    "    path = nx.dijkstra_path(nx_graph, origin, destination, weight=\"distance\")\n",
    "    return path\n",
    "\n",
    "def compute_path_distance_duration(G, path):\n",
    "    '''\n",
    "    \n",
    "    '''\n",
    "    duration = 0\n",
    "    distance = 0\n",
    "    for i in range(0, len(path) - 1, 1):\n",
    "        city1 = path[i]\n",
    "        city2 = path[i + 1]\n",
    "        print(city1, city2)\n",
    "        edge = G.get_edge_data(city1, city2)\n",
    "        dist = edge[\"distance\"]\n",
    "        dur = edge[\"duration\"]\n",
    "        print(dist, dur)\n",
    "        distance += dist\n",
    "        duration += dur\n",
    "        \n",
    "    h_m = seconds_to_hours_mins(duration)\n",
    "    return h_m, distance\n",
    "\n",
    "def visualize_nx_graph(nx_graph):\n",
    "    '''\n",
    "    \n",
    "    '''\n",
    "    pos = nx.spring_layout(nx_graph)\n",
    "    #pos = nx.circular_layout(nx_graph)\n",
    "    nx.draw_networkx_nodes(nx_graph, pos, node_size=700)\n",
    "    nx.draw_networkx_edges(nx_graph, pos, width=6)\n",
    "    nx.draw_networkx_labels(nx_graph, pos, font_size=16, font_family='sans-serif')\n",
    "    elabels = {edge:nx_graph[edge[0]][edge[1]][\"distance\"] for i, edge in enumerate(nx_graph.edges())}\n",
    "    nx.draw_networkx_edge_labels(nx_graph, pos, edge_labels=elabels, font_size=12)\n",
    "    plt.axis('off')\n",
    "    plt.tight_layout()\n",
    "    plt.show()\n",
    "    \n",
    "origin = \"seattle\"\n",
    "destination = \"san francisco\"\n",
    "path = compute_shortest_path(hwG, origin, destination)\n",
    "path_duration, path_distance = compute_path_distance_duration(hwG, path) \n",
    "print(\"Total duration: %d hours %.2f minutes\" %(path_duration[0], path_duration[1]))\n",
    "print(\"Total distance: %.2f miles\" %(path_distance))\n",
    "sub_hwG = hwG.subgraph(path)\n",
    "visualize_nx_graph(sub_hwG)"
   ]
  },
  {
   "cell_type": "markdown",
   "metadata": {},
   "source": [
    "### Graph Visualization using Google Maps Embed API\n",
    "Using the [Google Maps Embed API](https://developers.google.com/maps/documentation/embed/guide), we can create a webpage containing an embedded Google Map for a road trip path. For example, the webpage we are going to build for [highways.txt](https://raw.githubusercontent.com/gsprint23/cpts215/master/lessons/files/highways.txt) starting at Seattle and ending in San Francisco looks like the following:\n",
    "\n",
    "<img src=\"https://raw.githubusercontent.com/gsprint23/cpts215/master/lessons/figures/seattle_to_sanfrancisco.png\" width=\"500\">\n",
    "\n",
    "#### API Setup\n",
    "To do this, you will need a free Google account and a free Google Maps API key:\n",
    "1. Go to the [Google Maps Embed API page](https://developers.google.com/maps/documentation/embed/guide)\n",
    "1. Scroll down to the \"API Key\" section and click the blue \"Get a key\" button \n",
    "1. Create a new project\n",
    "1. Copy the API key. In your Python program, declare a variable called `api_key` to store your copied API key. \n",
    "    1. **Set `api_key` to an empty string before you submit your code to Blackboard.** The grader will use their own key to run your code.\n",
    "    1. Why remove your API key? Read Google's [\"Best practices for securing API keys\"](https://support.google.com/googleapi/answer/6310037) page. The first bullet point reads: **\"Do not embed API keys directly in code\".** Storing your API key in a variable, `api_key` in your code is bad practice!! However, for this application it is \"okay\" because only you will have access to your key. If you are going to release your code to others follow Google's [\"Best practices for securing API keys\"](https://support.google.com/googleapi/answer/6310037). \n",
    "    \n",
    "\n",
    "Next, read the [Google Maps Embed API documentation](https://developers.google.com/maps/documentation/embed/guide), specifically read:\n",
    "1. Overview\n",
    "2. Forming the URL\n",
    "3. Directions mode (we will need to use the parameter `waypoints`)\n",
    "\n",
    "#### Embed Code\n",
    "Now, we are ready to write code! There are 3 coding tasks we need to do:\n",
    "1. Build a string for the `waypoints` parameter according to the [Google Maps Embed API documentation](https://developers.google.com/maps/documentation/embed/guide). While iterating through each waypoint in the input file, use the provided `format_city_string()` function from the starter code and the string concatenation operator to build a string for the waypoints parameter.\n",
    "1. Build an `<iframe>` according to the [Google Maps Embed API documentation](https://developers.google.com/maps/documentation/embed/guide). \n",
    "1. Write the `<iframe>` string to an HTML file\n",
    "\n",
    "Now, programmatically open a web browser to the html file you just created. Python makes this really simple to do! To open a webpage, we can import the `webbrowser` module and pass in a string argument representing the webpage:"
   ]
  },
  {
   "cell_type": "code",
   "execution_count": 5,
   "metadata": {
    "collapsed": true
   },
   "outputs": [],
   "source": [
    "import webbrowser\n",
    "\n",
    "def build_embed_iframe(origin, destination, waypoints):\n",
    "    '''\n",
    "    \n",
    "    '''\n",
    "    origin = format_city_string(origin)\n",
    "    destination = format_city_string(destination)\n",
    "    url = '<iframe width=\"1000\" height=\"700\" '\n",
    "    # note this is not a valid key, you will need to insert your key here!!\n",
    "    url += 'src=\"https://www.google.com/maps/embed/v1/directions?key=NOTAVALIDKEY'\n",
    "    url += \"&origin=\" + origin\n",
    "    url += \"&destination=\" + destination\n",
    "    url += \"&waypoints=\" + waypoints\n",
    "    url += \"\\\" allowfullscreen></iframe>\"\n",
    "\n",
    "    return url\n",
    "    \n",
    "def extract_city_parameters(path):\n",
    "    '''\n",
    "    \n",
    "    '''\n",
    "    waypoints_str = \"\"\n",
    "    origin = path[0]\n",
    "    destination = path[-1]\n",
    "    for i in range(1, len(path) - 1, 1):\n",
    "        city = path[i]\n",
    "        if waypoints_str == \"\":\n",
    "            waypoints_str += format_city_string(city)\n",
    "        else:\n",
    "            waypoints_str += \"|\" + format_city_string(city)\n",
    "    return origin, destination, waypoints_str\n",
    "\n",
    "def launch_gmaps_in_browser(path, fname):\n",
    "    '''\n",
    "    \n",
    "    '''\n",
    "    origin, destination, waypoints = extract_city_parameters(path)\n",
    "    url = build_embed_iframe(origin, destination, waypoints)\n",
    "\n",
    "    temp = open(fname, \"w\")\n",
    "    temp.write(url)    \n",
    "    temp.close()\n",
    "    webbrowser.open(fname)\n",
    "    \n",
    "launch_gmaps_in_browser(path, fname_base + \".html\")"
   ]
  },
  {
   "cell_type": "markdown",
   "metadata": {},
   "source": [
    "And the associated output file [highways.html](https://raw.githubusercontent.com/gsprint23/cpts215/master/lessons/files/highways.html) file. Opened with a web browser it looks like [highways.html](http://htmlpreview.github.com/?https://raw.githubusercontent.com/gsprint23/cpts215/master/lessons/files/highways.html)."
   ]
  }
 ],
 "metadata": {
  "anaconda-cloud": {},
  "kernelspec": {
   "display_name": "Python 3",
   "language": "python",
   "name": "python3"
  },
  "language_info": {
   "codemirror_mode": {
    "name": "ipython",
    "version": 3
   },
   "file_extension": ".py",
   "mimetype": "text/x-python",
   "name": "python",
   "nbconvert_exporter": "python",
   "pygments_lexer": "ipython3",
   "version": "3.7.1"
  }
 },
 "nbformat": 4,
 "nbformat_minor": 1
}
