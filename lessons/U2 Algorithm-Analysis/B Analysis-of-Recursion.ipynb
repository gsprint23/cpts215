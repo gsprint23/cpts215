{
 "cells": [
  {
   "cell_type": "markdown",
   "metadata": {},
   "source": [
    "# [CptS 215 Data Analytics Systems and Algorithms](https://github.com/gsprint23/cpts215)\n",
    "[Washington State University](https://wsu.edu)\n",
    "\n",
    "[Gina Sprint](http://eecs.wsu.edu/~gsprint/)\n",
    "# Analysis of Recursion\n",
    "\n",
    "Learner objectives for this lesson\n",
    "* Analyze recursive algorithms\n",
    "\n",
    "\n",
    "## Acknowledgments\n",
    "Content used in this lesson is based upon information in the following sources:\n",
    "* [Dr. Ananth Kalyanaraman](http://www.eecs.wsu.edu/~ananth/)'s CptS 223 notes"
   ]
  },
  {
   "cell_type": "markdown",
   "metadata": {},
   "source": [
    "## Recursion\n",
    "Recursion is a method of solving problems by breaking a problem down into increasingly smaller subproblems until the subproblem is small enough to be solved trivially. A *recursive algorithm* is an algorithm that solves a problem using recursion. Recursive algorithms have the following characteristics:\n",
    "1. A base case (the small subproblem that can be trivially solved)\n",
    "2. Progress towards the base case\n",
    "3. It calls itself, recursively\n",
    "\n",
    "When implementing a recursive solution, we typically define *recursive functions*. A recursive function is a function that either directly or indirectly calls itself. \n",
    "\n",
    "Let's review binary search, a common algorithm that is covered iteratively and recursively in CptS 121/131."
   ]
  },
  {
   "cell_type": "markdown",
   "metadata": {},
   "source": [
    "### Binary Search\n",
    "Big picture: Find an item in a sorted sequence by repeatedly halving the sequence to search. \n",
    "\n",
    "Algorithm:\n",
    "1. Initialize a start index to 0\n",
    "1. Initialize an end index to the length of the list minus 1\n",
    "1. Initialize a mid index to the middle of the list\n",
    "1. While the start index <= end index:\n",
    "    1. Update mid index\n",
    "    1. If the item at mid is smaller than target, advance start to mid index plus one\n",
    "    1. Else if the item at mid is larger than target, decrement end index to mid index minus one\n",
    "    1. Else the item at mid is the target, return mid\n",
    "1. Target not found\n",
    "    \n",
    "#### Iterative BS\n",
    "Python implementation using lists:"
   ]
  },
  {
   "cell_type": "code",
   "execution_count": 3,
   "metadata": {},
   "outputs": [
    {
     "name": "stdout",
     "output_type": "stream",
     "text": [
      "[1, 2, 3, 4, 5]\n",
      "3\n"
     ]
    }
   ],
   "source": [
    "import numpy.random as rand\n",
    "\n",
    "def binary_search_iterative(array, target):\n",
    "    '''\n",
    "    \n",
    "    '''\n",
    "    start = 0\n",
    "    end =  len(array) - 1\n",
    "    while start <= end:\n",
    "        mid = (start + end) // 2\n",
    "        if array[mid] < target:\n",
    "            start = mid + 1\n",
    "        elif array[mid] > target:\n",
    "            end = mid - 1\n",
    "        else:\n",
    "            return mid\n",
    "    return -1\n",
    "\n",
    "data = [1, 2, 3, 4, 5]\n",
    "print(data)\n",
    "found = binary_search_iterative(data, 4)\n",
    "print(found)"
   ]
  },
  {
   "cell_type": "markdown",
   "metadata": {},
   "source": [
    "#### Recursive BS\n",
    "Algorithm $BinarySearch(A, x)$:\n",
    "1. Let $A$ be an array, $x$ be a target element to search for, and $n$ be the number of elements in the array $A$\n",
    "1. If $n\\leq 1$ compare the single element to the query $x$\n",
    "    1. Return found or not\n",
    "1. If $x$ is between $A[0]$ and $A[\\frac{n}{2}]$\n",
    "    1. Then $BinarySearch(x, A[0:\\frac{n}{2}]$)\n",
    "1. If $x$ is between $A[\\frac{n}{2}]$ and $A[n]$\n",
    "    1. Then $BinarySearch(x, A[\\frac{n}{2}:n]$)\n",
    "1. Return not found otherwise\n",
    "\n",
    "Python implementation using lists:"
   ]
  },
  {
   "cell_type": "code",
   "execution_count": 4,
   "metadata": {},
   "outputs": [
    {
     "name": "stdout",
     "output_type": "stream",
     "text": [
      "[1, 2, 3, 4, 5]\n",
      "3\n"
     ]
    }
   ],
   "source": [
    "import numpy.random as rand\n",
    "\n",
    "def binary_search(array, target, start, end):\n",
    "    '''\n",
    "    \n",
    "    '''\n",
    "    if start > end:\n",
    "        return -1\n",
    "    \n",
    "    mid = (start + end) // 2\n",
    "    if array[mid] < target:\n",
    "        return binary_search(array, target, mid + 1, end)\n",
    "    elif array[mid] > target:\n",
    "        return binary_search(array, target, start, mid - 1)\n",
    "    else:\n",
    "        return mid\n",
    "\n",
    "data = [1, 2, 3, 4, 5]\n",
    "print(data)\n",
    "found = binary_search(data, 4, 0, len(data))\n",
    "print(found)"
   ]
  },
  {
   "cell_type": "markdown",
   "metadata": {},
   "source": [
    "#### BS Time Complexity\n",
    "Let $T(n)\\leftarrow$ the time to search in an array of size $n$. \n",
    "The amount of work done in each recursive step is constant (i.e., \n",
    "$\\mathcal{O}(1)$), since a fixed number of comparisons are performed to select \n",
    "the next half to search. \n",
    "\n",
    "\\begin{eqnarray*}\n",
    " T(n) &=&  T(\\frac{n}{2}) + \\mathcal{O}(1)      \\nonumber \\\\\n",
    "     &=&  T(\\frac{n}{2^2}) + \\mathcal{O}(1) + \\mathcal{O}(1)    \\nonumber \\\\\n",
    "     \\textrm{(after k steps)} \\ldots \\nonumber \\\\\n",
    "     &=& T(\\frac{n}{2^k}) +  k(\\mathcal{O}(1))   \\nonumber \\\\ \n",
    "\\end{eqnarray*}\n",
    "\n",
    "For termination, $\\frac{n}{2^k}=1$ (i.e., when the problem size shrinks to 1). Therefore, $k=\\log(n)$. \n",
    "This implies, $T(n)=\\mathcal{O}(\\log(n))$.\n",
    "\n",
    "In summary, repetitive division by two is represented by the mathematical function $log_{2} n$. The loop iterates $log_{2} n$ because of `mid = (start + end) // 2`\n",
    "\n",
    "* Average case: $\\mathcal{O}(log_{2} n)$\n",
    "* Worst case: $\\mathcal{O}(log_{2} n)$\n",
    "* Best case (with early exit): $\\Omega(1)$"
   ]
  },
  {
   "cell_type": "markdown",
   "metadata": {},
   "source": [
    "### Another Recursive Example"
   ]
  },
  {
   "cell_type": "code",
   "execution_count": 2,
   "metadata": {
    "collapsed": true
   },
   "outputs": [],
   "source": [
    "def f1(n):\n",
    "    '''\n",
    "    \n",
    "    '''\n",
    "    if n > 0:\n",
    "        f1(n - 1)\n",
    "        f1(n - 1)\n",
    "        f1(n - 1)\n",
    "f1(3)"
   ]
  },
  {
   "cell_type": "markdown",
   "metadata": {},
   "source": [
    "Each call to `f1()` results in 3 more additional calls. If we call `f1(3)` with the argument 3, we get the following call tree:\n",
    "\n",
    "<img src=\"https://raw.githubusercontent.com/gsprint23/cpts215/master/lessons/figures/recursive_f1_tree.png\" width=700/>\n",
    "\n",
    "#### Time Complexity\n",
    "Note: repetitive multiplication by 3 is represented by the mathematical function $3^{n}$.\n",
    "\n",
    "* Average case: $\\mathcal{O}(3^{n})$\n",
    "* Worst case: $\\mathcal{O}(3^{n})$\n",
    "* Best case (`n = 0`): $\\Omega(1)$"
   ]
  },
  {
   "cell_type": "markdown",
   "metadata": {},
   "source": [
    "### Fibonacci Series (Another Recursive Example)\n",
    "Sometimes Recursive Codes are Bad! The Fibonacci series can be expressed in the form of the following recurrence. Let $F(n)$ denote the $n^{th}$ number in the series.  We will assume $n>0$. Then, \n",
    "\n",
    "$$\n",
    "F(n) = \\left\\{ \\begin{array}{ll}\n",
    "                   F(n-1) + F(n-2) & \\mbox{ if $n>2$} \\\\\n",
    "                  1 & \\mbox{ otherwise}\n",
    "       \\end{array} \\right.\n",
    "$$\n",
    "\n",
    "A naive algorithm will be a recursive code that directly mimics the above \n",
    "recurrence.\n",
    "\n",
    "\n",
    "Algorithm $F(n)$:\n",
    "1. If $n\\leq 2$\n",
    "    1. Return 1\n",
    "1. Return $F(n-1)+F(n-2)$\n",
    "\n",
    "This algorithm, however, will take exponential time to complete as it does *not* know how to reuse values that have already been recomputed. \n",
    "\n",
    "An efficient algorithm, that completes in $\\mathcal{O}(n)$ time, can be written as follows:\n",
    "\n",
    "Algorithm $F(n)$:\n",
    "1. If $n\\leq 2$\n",
    "    1. Return 1\n",
    "1. $last \\leftarrow 1$\n",
    "1. $lastlast \\leftarrow 1$\n",
    "1. $value \\leftarrow 0$\n",
    "1. For $i=3$ to $n$\n",
    "    1. $value \\leftarrow last + lastlast$\n",
    "    1. $lastlast \\leftarrow last$\n",
    "    1. $last \\leftarrow value$\n",
    "1. Return $value$\n",
    "\n",
    "## Tail Recursion\n",
    "If the *last* instruction of a function is another functional call (be it itself or some other function), this is called tail recursion. Here are a few examples of tail recursion:\n",
    "\n",
    "```python\n",
    "# this is tail recursion because foo's stack space is not released until the call to bar returns\n",
    "def foo(a):\n",
    "    print(a)\n",
    "    bar(a)\n",
    "    \n",
    "# example of tail recursion where a function calls itself at the end instead of some other function\n",
    "def foo1(a):\n",
    "    if a <= 1:\n",
    "        return\n",
    "    print(a)\n",
    "    foo1(a - 1)\n",
    "```\n",
    "\n",
    "Here is an example of a recursive function that does not have tail recursion:\n",
    "\n",
    "```python\n",
    "def factorial(n):\n",
    "    if n <= 1:\n",
    "        return 1\n",
    "    return n * factorial(n - 1)\n",
    "```\n",
    "Even though the above may appear like a tail recursion, it is NOT. The reason is that the last instruction in the `factorial(n)` is not `factorial(n-1)` but it is the multiplication operation between n and the answer of `factorial(n-1)`. In other words, because there is some operation that is left to happen inside `factorial(n)` after the call to `factorial(n-1)` returns, it is not a case of tail recursion, and what that means is that it is imperative to keep the function space of `factorial(n) alive during the entire execution of `factorial(n-1).\n",
    "\n",
    "### Does Tail Recursion Matter?\n",
    "The answer is - it depends! Tail recursion is bad because it allows an unnecessary growth in stack space and could be a cause of stack overflows. In some cases, we may be able to easily avoid stack overflow by replacing tail recursion with an iteration. However, there is no guarantee that eliminating tail recursion will always provide this benefit. \n",
    "\n",
    "### Eliminating Tail Recursions\n",
    "Let an arbitrary recursive function have the following structure:\n",
    "\n",
    "Algorithm $f(n)$:\n",
    "1. If $n == 1$ \n",
    "    1. \\{$\\ldots$\\} # do something   \n",
    "1. Else\n",
    "    1. \\{ $\\ldots$\\} # some code\n",
    "    1. $f(n-1)$  # last line makes a recursive call\n",
    "\n",
    "Tail recursions can be eliminated. This code can be rewritten such that the last recursive call can be avoided. The trick is to use iteration (instead of recursion).\n",
    "\n",
    "Algorithm $f(n)$:\n",
    "1. For $i=n$ downto $1$\n",
    "    1. \\{$\\ldots$\\} # some code\n",
    "\n",
    "For more information about tail recursion, please see Dr. Ananth's [tail recursion notes](http://www.eecs.wsu.edu/~ananth/CptS223/Lectures/TailRecursion.htm)."
   ]
  },
  {
   "cell_type": "markdown",
   "metadata": {},
   "source": [
    "## Practice Problems\n",
    "### 1\n",
    "Implement the following recursive algorithms and determine each algorithm's efficiency.\n",
    "1. Factorial\n",
    "1. String reversal\n",
    "1. Sum of $n$ Fibonacci numbers\n",
    "1. [Towers of Hanoi](https://en.wikipedia.org/wiki/Tower_of_Hanoi)\n",
    "\n",
    "### 2\n",
    "What is $\\mathcal{O}(n)$ for the following code snippet? Justify your answer with a growth rate function or with a description."
   ]
  },
  {
   "cell_type": "code",
   "execution_count": 1,
   "metadata": {
    "collapsed": true
   },
   "outputs": [],
   "source": [
    "def func3(n):\n",
    "    if n > 1:\n",
    "        print(n)\n",
    "        func3(n - 1)\n",
    "    for i in range(n):\n",
    "        print(i)"
   ]
  },
  {
   "cell_type": "markdown",
   "metadata": {},
   "source": [
    "Answer: $\\mathcal{O}(n) = n^{2}$ \n",
    "\n",
    "Recursive call will happen `n` times. Each recursive call has a for loop that runs `n`, `n - 1`, ..., 1 times: $\\frac{n(n-1)}{2}$"
   ]
  }
 ],
 "metadata": {
  "anaconda-cloud": {},
  "kernelspec": {
   "display_name": "Python 3",
   "language": "python",
   "name": "python3"
  },
  "language_info": {
   "codemirror_mode": {
    "name": "ipython",
    "version": 3
   },
   "file_extension": ".py",
   "mimetype": "text/x-python",
   "name": "python",
   "nbconvert_exporter": "python",
   "pygments_lexer": "ipython3",
   "version": "3.7.1"
  }
 },
 "nbformat": 4,
 "nbformat_minor": 1
}
