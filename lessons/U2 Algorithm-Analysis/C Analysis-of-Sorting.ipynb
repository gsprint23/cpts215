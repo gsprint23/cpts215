{
 "cells": [
  {
   "cell_type": "markdown",
   "metadata": {},
   "source": [
    "# [CptS 215 Data Analytics Systems and Algorithms](https://github.com/gsprint23/cpts215)\n",
    "[Washington State University](https://wsu.edu)\n",
    "\n",
    "[Gina Sprint](http://eecs.wsu.edu/~gsprint/)\n",
    "# Analysis of Sorting\n",
    "\n",
    "Learner objectives for this lesson:\n",
    "* Review sorting routines\n",
    "* Perform algorithm analysis of sorting routines\n",
    "\n",
    "\n",
    "## Acknowledgments\n",
    "Content used in this lesson is based upon information in the following sources:\n",
    "* No sources to report\n",
    "\n",
    "## Review of Sorting Routines\n",
    "Sorting is the process of organizing items in a collection into an ordered sequence. The order depends on the data type and the problem. For example, suppose we want to sort U.S. city populations from largest to smallest. Here the data type is integer and the problem dictates the integers are sorted in *descending* order. As another example, supposed we want to sort words in a document alphabetically. Here the data type is a string and the problem dictates the strings are sorted in *ascending* alphabetical order. We could also consider sorting the words in order by their frequency in the document, from the most frequently occurring words to the least frequently occurring words.\n",
    "\n",
    "While there are many sorting routines, we are going to first review the most common sorting algorithms:\n",
    "* Selection sort\n",
    "* Bubble sort\n",
    "* Insertion sort\n",
    "* Shell sort\n",
    "* Merge sort\n",
    "* Quick sort\n",
    "* Heap sort (to be learned when we cover heaps)\n",
    "\n",
    "Note: [Here](https://visualgo.net/sorting) is a great site that visualizes the sorting algorithms.\n",
    "\n",
    "For each algorithm, we will implement it in Python and analyze its time complexity for the average, best, and worst case scenarios. For analysis of sorting routines, we are going to measure and compare two main operations:\n",
    "1. Number of comparisons\n",
    "1. Number of data swaps\n",
    "\n",
    "### Selection Sort\n",
    "Big picture: *Select* the smallest item in the unsorted portion of the sequence and add it to the sorted portion of the sequence.\n",
    "\n",
    "Algorithm:\n",
    "1. Walk through each location `i` in the sequence\n",
    "    1. Walk through each location `j` in the sub-sequence starting at the `i`th location and find the smallest value\n",
    "        * Save the location of the smallest value\n",
    "    1. Swap the data at the `i`th location in the sequence with the location of the smallest value\n",
    "    \n",
    "Python implementation using lists:"
   ]
  },
  {
   "cell_type": "code",
   "execution_count": 1,
   "metadata": {},
   "outputs": [
    {
     "name": "stdout",
     "output_type": "stream",
     "text": [
      "[ 1.8146135  -0.36891753  0.09588123 -0.70163335 -0.74257802  1.06622815\n",
      " -1.91328379  0.17385816 -0.2903398   1.4942705  -1.9693279   1.39247707\n",
      " -1.81163403 -2.54225156  1.17809481 -1.63965553 -0.14151793 -0.50778633\n",
      "  0.24872875  0.49631872]\n",
      "[-2.54225156 -1.9693279  -1.91328379 -1.81163403 -1.63965553 -0.74257802\n",
      " -0.70163335 -0.50778633 -0.36891753 -0.2903398  -0.14151793  0.09588123\n",
      "  0.17385816  0.24872875  0.49631872  1.06622815  1.17809481  1.39247707\n",
      "  1.4942705   1.8146135 ]\n"
     ]
    }
   ],
   "source": [
    "import numpy.random as rand\n",
    "\n",
    "def selection_sort(array):\n",
    "    '''\n",
    "    \n",
    "    '''\n",
    "    for i in range(len(array)):\n",
    "        smallest_index = i\n",
    "        for j in range(i + 1, len(array)):\n",
    "            if array[j] < array[smallest_index]:\n",
    "                smallest_index = j\n",
    "        temp = array[i]\n",
    "        array[i] = array[smallest_index]\n",
    "        array[smallest_index] = temp\n",
    "\n",
    "data = rand.randn(20)\n",
    "print(data)\n",
    "selection_sort(data)\n",
    "print(data)"
   ]
  },
  {
   "cell_type": "markdown",
   "metadata": {},
   "source": [
    "#### Selection Sort Time Complexity\n",
    "* Average case: $\\mathcal{O}(n^{2})$\n",
    "* Worst case: $\\mathcal{O}(n^{2})$\n",
    "* Best case (with early exit): $\\Omega(n^{2})$\n",
    "\n",
    "#### Practice Problem #1\n",
    "Adapt the above algorithm to sort a linked list. First, define a `Node` class and a `LinkedList` class. Then, create a `LinkedList` with random data. Then, pass the `LinkedList` object into `selection_sort()` and sort the linked list."
   ]
  },
  {
   "cell_type": "markdown",
   "metadata": {},
   "source": [
    "### Bubble Sort\n",
    "Big picture: Perform pairwise comparisons, swapping data such that the largest items in the unsorted portion of the sequence *bubble* to the end and form the sorted portion of the sequence.\n",
    "\n",
    "Algorithm:\n",
    "1. Walk through each location `i` in the sequence\n",
    "    1. Walk through each location `j` in the sub-sequence starting at the `i`th location\n",
    "        * If the data at the `j`th position is smaller than the data at the `j+1`th position\n",
    "            * Swap the data\n",
    "    \n",
    "Python implementation using lists:"
   ]
  },
  {
   "cell_type": "code",
   "execution_count": 2,
   "metadata": {},
   "outputs": [
    {
     "name": "stdout",
     "output_type": "stream",
     "text": [
      "[-1.60831716 -0.49560813 -0.60907064 -0.8482408  -0.38105834 -0.14798523\n",
      "  0.51624905 -0.20985352 -1.47816246  0.69571234  0.18621439 -0.26189422\n",
      " -0.73897571  0.31214107 -0.10836942 -0.93460077 -1.16597431  2.00540992\n",
      " -0.69423641 -1.79954617]\n",
      "[-1.79954617 -1.60831716 -1.47816246 -1.16597431 -0.93460077 -0.8482408\n",
      " -0.73897571 -0.69423641 -0.60907064 -0.49560813 -0.38105834 -0.26189422\n",
      " -0.20985352 -0.14798523 -0.10836942  0.18621439  0.31214107  0.51624905\n",
      "  0.69571234  2.00540992]\n"
     ]
    }
   ],
   "source": [
    "import numpy.random as rand\n",
    "\n",
    "def bubble_sort(array):\n",
    "    '''\n",
    "    \n",
    "    '''\n",
    "    for i in range(len(array) - 1):\n",
    "        for j in range(i, len(array)):\n",
    "            if array[j + 1] < array[j]:\n",
    "                temp = array[j]\n",
    "                array[j + 1] = array[j]\n",
    "                array[j] = temp\n",
    "\n",
    "data = rand.randn(20)\n",
    "print(data)\n",
    "selection_sort(data)\n",
    "print(data)"
   ]
  },
  {
   "cell_type": "markdown",
   "metadata": {},
   "source": [
    "#### Bubble Sort Time Complexity\n",
    "* Average case: $\\mathcal{O}(n^{2})$\n",
    "* Worst case: $\\mathcal{O}(n^{2})$\n",
    "* Best case (with early exit, see the practice problem): $\\Omega(n)$\n",
    "\n",
    "#### Practice Problem #2 \n",
    "Improve the above algorithm so sorting stops once the array is sorted. \n",
    "\n",
    "Hint: Using the inner loop, how can you determine if the list is sorted?"
   ]
  },
  {
   "cell_type": "markdown",
   "metadata": {},
   "source": [
    "### Insertion Sort\n",
    "Big picture: Build the sorted portion of the sequence by *inserting* items into their sorted position in the sorted portion of the sequence.\n",
    "\n",
    "Algorithm:\n",
    "1. Assume the first location in the sequence is sorted\n",
    "1. Walk through each location `i` in the sequence\n",
    "    1. Walk through each location `j` in the sub-sequence starting at the `i`th location\n",
    "        * If the data at the `j`th position is smaller than the data at the `j+1`th position\n",
    "            * Swap the data\n",
    "    \n",
    "<img src=\"https://upload.wikimedia.org/wikipedia/commons/b/b1/Insertion-sort.svg\" width=\"600\">\n",
    "(image from [https://upload.wikimedia.org/wikipedia/commons/b/b1/Insertion-sort.svg](https://upload.wikimedia.org/wikipedia/commons/b/b1/Insertion-sort.svg))\n",
    "    \n",
    "Python implementation using lists:"
   ]
  },
  {
   "cell_type": "code",
   "execution_count": 3,
   "metadata": {},
   "outputs": [
    {
     "name": "stdout",
     "output_type": "stream",
     "text": [
      "[-0.16600798 -1.18790374  0.87574693 -1.86813251  0.82862806 -0.79820175\n",
      " -0.95699579  0.46773705  0.5026483   0.32423749 -0.08715077 -0.28315698\n",
      "  0.47360401  0.41098634 -1.41405215  1.68399034 -0.95187858 -0.7847223\n",
      " -0.77511054  1.02798421]\n",
      "[-1.86813251 -1.41405215 -1.18790374 -0.95699579 -0.95187858 -0.79820175\n",
      " -0.7847223  -0.77511054 -0.28315698 -0.16600798 -0.08715077  0.32423749\n",
      "  0.41098634  0.46773705  0.47360401  0.5026483   0.82862806  0.87574693\n",
      "  1.02798421  1.68399034]\n"
     ]
    }
   ],
   "source": [
    "import numpy.random as rand\n",
    "\n",
    "def insertion_sort(array):\n",
    "    '''\n",
    "    \n",
    "    '''\n",
    "    for i in range(1, len(array)):\n",
    "        temp = array[i]\n",
    "        for j in range(i - 1, -1, -1):\n",
    "            if temp < array[j]:      \n",
    "                array[j + 1] = array[j]\n",
    "                array[j] = temp\n",
    "                temp = array[j]\n",
    "data = rand.randn(20)\n",
    "print(data)\n",
    "insertion_sort(data)\n",
    "print(data)"
   ]
  },
  {
   "cell_type": "markdown",
   "metadata": {},
   "source": [
    "#### Insertion Sort Time Complexity\n",
    "* Average case: $\\mathcal{O}(n^{2})$\n",
    "* Worst case: $\\mathcal{O}(n^{2})$\n",
    "* Best case (with early exit): $\\Omega(n)$"
   ]
  },
  {
   "cell_type": "markdown",
   "metadata": {},
   "source": [
    "### Shell Sort\n",
    "Big picture: Perform repeated insertion sorts by sorting every item in a gapped sequence (e.g. gapped sequences comprised of items at position 0, 1 * gap, 2 * gap; 1, 1 + 1 * gap, 1 + 2 * gap,...; 2, 2 + 1 * gap, 2 + 2 * gap, ...etc.) until the gap is 1 (the entire sequence).\n",
    "\n",
    "Note: The choices for `gap` are important and highly researched (read more [here](https://en.wikipedia.org/wiki/Shellsort)). For our introductory implementation of shell sort, we will use powers of two. We will start with the largest gap (initialize `gap` to `n // 2`) and repeatedly divide `gap` by 2 until `gap` is 1. \n",
    "\n",
    "Algorithm:\n",
    "1. Initialize `gap` to `n // 2`\n",
    "1. While gap is greater than one\n",
    "    1. Assume the first items in the sequence slice [0:gap] are sorted in gapped order (the first item in each gapped sequence is assumed sorted)\n",
    "    1. For each gapped sequence\n",
    "        1. Apply insertion sort\n",
    "        \n",
    "<img src=\"https://upload.wikimedia.org/wikipedia/commons/2/26/Shellsort.svg\" width=\"600\">\n",
    "(image from [https://upload.wikimedia.org/wikipedia/commons/2/26/Shellsort.svg](https://upload.wikimedia.org/wikipedia/commons/2/26/Shellsort.svg))\n",
    "        \n",
    "For example, suppose the sequence to sort is the following:\n",
    "\n",
    "|index|0|1|2|3|4|5|6|7|8|9|10|11|\n",
    "|-|-|-|-|-|-|-|-|-|-|-|-|-|\n",
    "|value|61|2|78|54|17|1|34|9|26|90|11|50|"
   ]
  },
  {
   "cell_type": "markdown",
   "metadata": {},
   "source": [
    "The first pass, `gap = n // 2 = 12 // 2 = 6`. The slice [0:6] is sorted in gapped order. The gapped sequences are as follows:\n",
    "1. Indices: 0, 6\n",
    "    * (61, 34) sorted: (34, 61)\n",
    "1. Indices: 1, 7\n",
    "    * (2, 9) sorted: (2, 9)\n",
    "1. Indices: 2, 8\n",
    "    * (78, 26) sorted: (26, 78)\n",
    "1. Indices: 3, 9\n",
    "    * (54, 90) sorted: (54, 90)\n",
    "1. Indices: 4, 10\n",
    "    * (17, 11) sorted: (11, 17)\n",
    "1. Indices: 5, 11\n",
    "    * (1, 50) sorted (1, 50)\n",
    "    \n",
    "|index|0|1|2|3|4|5|6|7|8|9|10|11|\n",
    "|-|-|-|-|-|-|-|-|-|-|-|-|-|\n",
    "|value|34|2|26|54|11|1|61|9|78|90|17|50|"
   ]
  },
  {
   "cell_type": "markdown",
   "metadata": {},
   "source": [
    "The second pass, `gap = gap // 2 = 6 // 2 = 3`. The gapped sequences are as follows:\n",
    "1. Indices: 0, 3, 6, 9\n",
    "    * (34, 54, 61, 90) sorted: (34, 54, 61, 90)\n",
    "1. Indices: 1, 4, 7, 10\n",
    "    * (2, 11, 9, 17) sorted: (2, 9, 11, 17)\n",
    "1. Indices: 2, 5, 8, 11\n",
    "    * (26, 1, 78, 50) sorted: (1, 26, 50, 78)\n",
    "\n",
    "|index|0|1|2|3|4|5|6|7|8|9|10|11|\n",
    "|-|-|-|-|-|-|-|-|-|-|-|-|-|\n",
    "|value|34|2|1|54|9|26|61|11|50|90|17|78|\n",
    "\n",
    "Python implementation using lists:"
   ]
  },
  {
   "cell_type": "markdown",
   "metadata": {},
   "source": [
    "The second pass, `gap = gap // 2 = 3 // 2 = 1`. The gapped sequence is as follows:\n",
    "1. Indices: 0, 1, 2, 3, 4, 5, 6, 7, 8, 9, 10, 11\n",
    "\n",
    "|index|0|1|2|3|4|5|6|7|8|9|10|11|\n",
    "|-|-|-|-|-|-|-|-|-|-|-|-|-|\n",
    "|value|1|2|9|11|17|26|38|50|54|61|78|90|\n",
    "\n",
    "Python implementation using lists:"
   ]
  },
  {
   "cell_type": "code",
   "execution_count": 4,
   "metadata": {},
   "outputs": [
    {
     "name": "stdout",
     "output_type": "stream",
     "text": [
      "[-0.0876752   0.28055368  0.36811016 -0.52886688 -0.0296252   0.73190635\n",
      "  1.66354357  0.20394456 -1.19194637 -0.01126536 -1.52877352  0.58463557\n",
      "  0.32968584 -1.62408656  1.26625469  1.11043323  0.73527598  0.33374931\n",
      " -0.33161215 -0.29119189]\n",
      "[-1.62408656 -1.52877352 -1.19194637 -0.52886688 -0.33161215 -0.29119189\n",
      " -0.0876752  -0.0296252  -0.01126536  0.20394456  0.28055368  0.32968584\n",
      "  0.33374931  0.36811016  0.58463557  0.73190635  0.73527598  1.11043323\n",
      "  1.26625469  1.66354357]\n"
     ]
    }
   ],
   "source": [
    "import numpy.random as rand\n",
    "\n",
    "def shell_sort(array):\n",
    "    '''\n",
    "    \n",
    "    '''\n",
    "    gap = len(array) // 2\n",
    "    while gap > 0:\n",
    "        for i in range(gap, len(array)):\n",
    "            temp = array[i]\n",
    "            j = i\n",
    "            while j >= gap and temp < array[j - gap]:   \n",
    "                array[j] = array[j - gap]\n",
    "                j -= gap\n",
    "            array[j] = temp\n",
    "        gap //= 2\n",
    "data = rand.randn(20) #[61,2,78,54,17,1,34,9,26,90,11,50]\n",
    "print(data)\n",
    "shell_sort(data)\n",
    "print(data)"
   ]
  },
  {
   "cell_type": "markdown",
   "metadata": {},
   "source": [
    "#### Shell Sort Time Complexity\n",
    "Note: repetitive division by two is represented by the mathematical function $log_{2} n$. The loop iterates $log_{2} n$ because of `gap //= 2`\n",
    "\n",
    "* Average case: $\\mathcal{O}(n log_{2}^{2} n)$\n",
    "* Worst case: $\\mathcal{O}(n log_{2}^{2} n)$\n",
    "* Best case: $\\Omega(n log_{2} n)$"
   ]
  },
  {
   "cell_type": "markdown",
   "metadata": {},
   "source": [
    "## Practice Problems\n",
    "\n",
    "### 1\n",
    "For the following list, 34 50 25 16 60 82 76 5 25, walk through the following algorithms and show the state of the list at each pass:\n",
    "* Selection sort\n",
    "* Bubble sort\n",
    "* Insertion sort\n",
    "\n",
    "The following questions refer to the code above for Shell sort:\n",
    "\n",
    "### 2\n",
    "Show what the array below will look like after the first two passes through the outer loop of shell sort (this means show the array after it is sorted with the initial gap and then show the array after it is sorted with the second gap).\n",
    "\n",
    "Assume an initial call is as follows: `shell_sort(a_list)`\n",
    "\n",
    "|Initial list|2|90|50|80|10|5|75|0|21|60|78|30|40|\n",
    "|-|\n",
    "|After initial gap (gap is: )||||||||||||||\n",
    "|After second gap (gap is: )||||||||||||||\n",
    "|...||||||||||||||\n",
    "|Final (after gap of 1)|||||||||||||||\n",
    "\n",
    "Answer: \n",
    "\n",
    "|Initial list|2|90|50|80|10|5|75|0|21|60|78|30|40|\n",
    "|-|\n",
    "|After initial gap (gap is: )|2|0|21|60|10|5|40|90|50|80|78|30|15|\n",
    "|After second gap (gap is: )|2|0|5|40|10|21|60|78|30|75|90|50|80|\n",
    "|...||||||||||||||\n",
    "|Final (after gap of 1)|0|2|5|10|21|30|40|50|60|75|78|80|90|\n",
    "\n",
    "### 3\n",
    "In `shell_sort()` above, do the following:\n",
    "1. Circle all loop control assignments\n",
    "1. Double circle all loop control comparisons\n",
    "1. Place a square around all data assignments\n",
    "1. Place a double square around all data comparisons\n",
    "\n",
    "### 4\n",
    "Implement insertion sort using recursion.\n",
    "\n",
    "### 5\n",
    "Which quadratic sort's performance is least affected by the ordering of the array elements? Which is most affected?"
   ]
  },
  {
   "cell_type": "markdown",
   "metadata": {},
   "source": [
    "### Stable vs. Unstable Sorting\n",
    "Stable sorting algorithms retain the order of equal value items from input (unsorted) to output (sorted). Unstable sorting algorithms do not guarantee the final ordering for equivalent items. We will return to this topic when we visit priority queues (heap sort)."
   ]
  }
 ],
 "metadata": {
  "anaconda-cloud": {},
  "kernelspec": {
   "display_name": "Python 3",
   "language": "python",
   "name": "python3"
  },
  "language_info": {
   "codemirror_mode": {
    "name": "ipython",
    "version": 3
   },
   "file_extension": ".py",
   "mimetype": "text/x-python",
   "name": "python",
   "nbconvert_exporter": "python",
   "pygments_lexer": "ipython3",
   "version": "3.7.1"
  }
 },
 "nbformat": 4,
 "nbformat_minor": 1
}
