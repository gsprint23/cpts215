{
 "cells": [
  {
   "cell_type": "markdown",
   "metadata": {},
   "source": [
    "# [CptS 215 Data Analytics Systems and Algorithms](https://github.com/gsprint23/cpts215)\n",
    "[Washington State University](https://wsu.edu)\n",
    "\n",
    "[Gina Sprint](http://eecs.wsu.edu/~gsprint/)\n",
    "# Merge Sort\n",
    "\n",
    "Learner objectives for this lesson:\n",
    "* Implement the merge sort algorithm\n",
    "* Perform algorithm analysis of merge sort\n",
    "\n",
    "## Acknowledgments\n",
    "Content used in this lesson is based upon information in the following sources:\n",
    "* [Dr. Ananth Kalyanaraman](http://www.eecs.wsu.edu/~ananth/)'s CptS 223 notes"
   ]
  },
  {
   "cell_type": "markdown",
   "metadata": {},
   "source": [
    "## Merge Sort\n",
    "Merge sort is a divide-and-conquer algorithm to sort a sequence. The divide and conquer algorithm strategy recursively breaks a problem into two or more subproblems, until the subproblems become simple enough to be solved directly. The solutions to the subproblems are then combined to give a solution to the original problem. Merge sort is naturally implemented recursively, though it can be implemented iteratively.\n",
    "\n",
    "Big picture: Continue dividing a sequence into 2 subsequences, until the subsequences are singletons (single item sequences). Successively merge the subsequences into sorted order until a single sequence is merged.\n",
    "\n",
    "<img src=\"https://upload.wikimedia.org/wikipedia/commons/thumb/e/e6/Merge_sort_algorithm_diagram.svg/1064px-Merge_sort_algorithm_diagram.svg.png\" width=\"500\">\n",
    "(image from [https://upload.wikimedia.org/wikipedia/commons/thumb/e/e6/Merge_sort_algorithm_diagram.svg/1064px-Merge_sort_algorithm_diagram.svg.png](https://upload.wikimedia.org/wikipedia/commons/thumb/e/e6/Merge_sort_algorithm_diagram.svg/1064px-Merge_sort_algorithm_diagram.svg.png))\n",
    "\n",
    "Algorithm $MergeSort(A)$:\n",
    "1. Let $A$ be an array and $n$ be the number of elements in the array $A$\n",
    "1. If $n\\leq 1$ return $A$\n",
    "1. $MergeSort(A[0:\\frac{n}{2}]$)\n",
    "1. $MergeSort(A[\\frac{n}{2}:n]$)\n",
    "1. Merge the two sorted halves $A[0:\\frac{n}{2}]$ and $A[\\frac{n}{2}:n]$\n",
    "    \n",
    "Python implementation using lists:"
   ]
  },
  {
   "cell_type": "code",
   "execution_count": 1,
   "metadata": {},
   "outputs": [
    {
     "name": "stdout",
     "output_type": "stream",
     "text": [
      "[ 0.36131257  0.33463664  1.069625   -0.85734736  1.35750981 -2.55610712\n",
      "  0.86628731 -0.13997897 -1.63650906 -1.28540182 -0.77923464 -0.65887848\n",
      " -1.16948865 -0.98777702 -1.09992097 -0.13780627  0.00390041  0.11927134\n",
      " -1.58032382 -1.91544264]\n",
      "[-2.55610712 -1.91544264 -1.63650906 -1.58032382 -1.28540182 -1.16948865\n",
      " -1.09992097 -0.98777702 -0.85734736 -0.77923464 -0.65887848 -0.13997897\n",
      " -0.13780627  0.00390041  0.11927134  0.33463664  0.36131257  0.86628731\n",
      "  1.069625    1.35750981]\n"
     ]
    }
   ],
   "source": [
    "import numpy.random as rand\n",
    "\n",
    "def merge_sort(array):\n",
    "    '''\n",
    "    \n",
    "    '''\n",
    "    if len(array) <= 1:\n",
    "        return\n",
    "    mid = len(array) // 2\n",
    "    # since array is a ndarray, need to do a copy\n",
    "    # otherwise get a view\n",
    "    left = array[:mid].copy()\n",
    "    right = array[mid:].copy()\n",
    "    merge_sort(left)\n",
    "    merge_sort(right)\n",
    "    merge(array, left, right)\n",
    "    \n",
    "def merge(array, lefthalf, righthalf):\n",
    "    '''\n",
    "    \n",
    "    '''\n",
    "    i=0; j=0; k=0\n",
    "    while i < len(lefthalf) and j < len(righthalf):\n",
    "        if lefthalf[i] < righthalf[j]:\n",
    "            array[k]=lefthalf[i]\n",
    "            i=i+1\n",
    "        else:\n",
    "            array[k]=righthalf[j]\n",
    "            j=j+1\n",
    "        k=k+1\n",
    "\n",
    "    while i < len(lefthalf):\n",
    "        array[k]=lefthalf[i]\n",
    "        i=i+1\n",
    "        k=k+1\n",
    "\n",
    "    while j < len(righthalf):\n",
    "        array[k]=righthalf[j]\n",
    "        j=j+1\n",
    "        k=k+1\n",
    "   \n",
    "data = rand.randn(20)\n",
    "print(data)\n",
    "merge_sort(data)\n",
    "print(data)"
   ]
  },
  {
   "cell_type": "markdown",
   "metadata": {},
   "source": [
    "#### Merge Sort Time Complexity\n",
    "Let $T(n)$ be the time for sorting an array with $n$ numbers, using the Merge Sort algorithm. At each recursive step, two sorted arrays of size $\\frac{n}{2}$ are *merged*. The latter merge step costs $\\mathcal{O}(n)$ time in the worst-case. Therefore, the mathematical recurrence for sorting $n$ numbers is as follows:\n",
    "\n",
    "\\begin{eqnarray*}\n",
    " T(n) &=&  2\\times T(\\frac{n}{2}) + \\mathcal{O}(n)      \\nonumber \\\\\n",
    "     &=&  2 (2\\times T(\\frac{n}{2^2}) + \\mathcal{O}(\\frac{n}{2})) + \\mathcal{O}(n)    \\nonumber \\\\\n",
    "     &=&  2^2\\times T(\\frac{n}{2^2}) + \\mathcal{O}(n) + \\mathcal{O}(n)    \\nonumber \\\\\n",
    "      \\textrm{(after k steps)} \\ldots \\nonumber \\\\\n",
    "     &=& 2^k\\times T(\\frac{n}{2^k}) + \\Sigma_{1}^{k}( \\mathcal{O}(n))     \\nonumber \\\\ \n",
    "\\end{eqnarray*}\n",
    "\n",
    "For termination, $\\frac{n}{2^k}=1$ (i.e., when the problem size shrinks to 1). This implies, $k=\\log n$. Therefore, $T(n)=\\mathcal{O}(n\\times \\log n)$.\n",
    "\n",
    "In summary:\n",
    "* Average case: $\\mathcal{O}(n log n)$\n",
    "* Worst case: $\\mathcal{O}(n log n)$\n",
    "* Best case: $\\Omega(n log n)$"
   ]
  },
  {
   "cell_type": "markdown",
   "metadata": {},
   "source": [
    "## Practice Problems\n",
    "\n",
    "### 1\n",
    "For the following list, 34 50 25 16 60 82 76 5 25, walk through the merge sort algorithm and show the state of the list at each pass.\n",
    "\n",
    "### 2\n",
    "What determines whether you should use a quadratic sort or a logarithmic sort?"
   ]
  }
 ],
 "metadata": {
  "anaconda-cloud": {},
  "kernelspec": {
   "display_name": "Python 3",
   "language": "python",
   "name": "python3"
  },
  "language_info": {
   "codemirror_mode": {
    "name": "ipython",
    "version": 3
   },
   "file_extension": ".py",
   "mimetype": "text/x-python",
   "name": "python",
   "nbconvert_exporter": "python",
   "pygments_lexer": "ipython3",
   "version": "3.7.1"
  }
 },
 "nbformat": 4,
 "nbformat_minor": 1
}
