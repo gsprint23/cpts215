{
 "cells": [
  {
   "cell_type": "markdown",
   "metadata": {},
   "source": [
    "# [CptS 215 Data Analytics Systems and Algorithms](https://github.com/gsprint23/cpts215)\n",
    "[Washington State University](https://wsu.edu)\n",
    "\n",
    "[Gina Sprint](http://eecs.wsu.edu/~gsprint/)\n",
    "# Hash Functions\n",
    "\n",
    "Learner objectives for this lesson:\n",
    "* Understand requirements for a hash function\n",
    "* Learn about different hash functions\n",
    "\n",
    "\n",
    "## Acknowledgments\n",
    "Content used in this lesson is based upon information in the following sources:\n",
    "* [Miller and Ranum](http://interactivepython.org/runestone/static/pythonds/index.html)"
   ]
  },
  {
   "cell_type": "markdown",
   "metadata": {},
   "source": [
    "## Perfect Hash Function\n",
    "A hash function that maps each item to a unique slot is a *perfect hash function.* Unfortunately, given an arbitrary collection of items, there is no systematic way to construct a perfect hash function. Luckily, we do not need the hash function to be perfect to still gain performance efficiency. \n",
    "\n",
    "One way to always have a perfect hash function is to increase the size of the hash table so that each possible value in the item range can be accommodated. This guarantees that each item will have a unique slot. Although this is practical for small numbers of items, it is not feasible when the number of possible items is large. For example, if the items were nine-digit Social Security numbers, this method would require almost one billion slots. If we only want to store data for a class of 25 students, we will be wasting an enormous amount of memory.\n",
    "\n",
    "## Extensions to the Remainder Method\n",
    "Our goal is to create a hash function that minimizes the number of collisions, is easy to compute, and evenly distributes the items in the hash table. There are a number of common ways to extend the simple remainder method. We will consider a few of them here.\n",
    "\n",
    "### Folding Method\n",
    "The folding method for constructing hash functions begins by dividing the item into equal-size pieces (the last piece may not be of equal size). These pieces are then added together to give the resulting hash value.\n",
    "\n",
    "For example, if our item was the phone number 436-555-4601, we would take the digits and divide them into groups of 2 (43,65,55,46,01). After the addition, 43+65+55+46+01, we get 210. If we assume our hash table has 11 slots, then we need to perform the extra step of dividing by 11 and keeping the remainder. In this case 210 % 11 is 1, so the phone number 436-555-4601 hashes to slot 1. Some folding methods go one step further and reverse every other piece before the addition. For the above example, we get 43+56+55+64+01=219 which gives 219 % 11=10.\n",
    "\n",
    "### Mid-Square Method\n",
    "Another numerical technique for constructing a hash function is called the mid-square method. We first square the item, and then extract some portion of the resulting digits. For example, if the item were 44, we would first compute $44^2=1,936$. By extracting the middle two digits, 93, and performing the remainder step, we get 5 (93 % 11 = 5). \n",
    "\n",
    "The table below shows items under both the remainder method and the mid-square method.\n",
    "\n",
    "|Item|Square|Digit Extraction|Remainder (Digit Extraction % 11)|\n",
    "|-|-|-|-|\n",
    "|54|2916|91|3|\n",
    "|26|676|7|7|\n",
    "|93|8649|64|9|\n",
    "|17|289|8|8|\n",
    "|77|5929|92|4|\n",
    "|31|961|6|6|\n",
    "\n",
    "### Unicode Values\n",
    "As we saw in a previous example, the unicode values of characters can be summed and used in conjunction with the remainder method as a hash function."
   ]
  },
  {
   "cell_type": "code",
   "execution_count": 1,
   "metadata": {},
   "outputs": [
    {
     "name": "stdout",
     "output_type": "stream",
     "text": [
      "f(\"cat\") = (99 + 97 + 116) % 11 = 4\n",
      "f(\"tac\") = (116 + 97 + 99) % 11 = 4\n"
     ]
    }
   ],
   "source": [
    "c = ord(\"c\")\n",
    "a = ord(\"a\")\n",
    "t = ord(\"t\")\n",
    "print(\"f(\\\"cat\\\") = (%d + %d + %d) %% 11 = %d\" %(c, a, t, (c + a + t) % 11))\n",
    "print(\"f(\\\"tac\\\") = (%d + %d + %d) %% 11 = %d\" %(t, a, c, (t + a + c) % 11))"
   ]
  },
  {
   "cell_type": "markdown",
   "metadata": {},
   "source": [
    "We discussed how anagrams will always be mapped to the same slot using this method. To fix this, we could use the position of the character as a weight."
   ]
  },
  {
   "cell_type": "code",
   "execution_count": 2,
   "metadata": {},
   "outputs": [
    {
     "name": "stdout",
     "output_type": "stream",
     "text": [
      "f(\"cat\") = (99 * 1 + 97 * 2 + 116 * 3) % 11 = 3\n",
      "f(\"tac\") = (116 * 1 + 97 * 2 + 99 * 3) % 11 = 2\n"
     ]
    }
   ],
   "source": [
    "c = ord(\"c\")\n",
    "a = ord(\"a\")\n",
    "t = ord(\"t\")\n",
    "print(\"f(\\\"cat\\\") = (%d * 1 + %d * 2 + %d * 3) %% 11 = %d\" %(c, a, t, (c + a * 2 + t * 3) % 11))\n",
    "print(\"f(\\\"tac\\\") = (%d * 1 + %d * 2 + %d * 3) %% 11 = %d\" %(t, a, c, (t + a * 2 + c * 3) % 11))"
   ]
  },
  {
   "cell_type": "markdown",
   "metadata": {},
   "source": [
    "And the implementation as a hash function:"
   ]
  },
  {
   "cell_type": "code",
   "execution_count": 3,
   "metadata": {},
   "outputs": [
    {
     "name": "stdout",
     "output_type": "stream",
     "text": [
      "3\n",
      "2\n"
     ]
    }
   ],
   "source": [
    "def hashfunction(item, tablesize):\n",
    "    summ = 0\n",
    "    for i, char in enumerate(item):\n",
    "        summ += (i + 1) * ord(char)\n",
    "\n",
    "    return summ % tablesize\n",
    "\n",
    "print(hashfunction(\"cat\", 11))\n",
    "print(hashfunction(\"tac\", 11))"
   ]
  },
  {
   "cell_type": "markdown",
   "metadata": {},
   "source": [
    "## Practice Problems\n",
    "### 1\n",
    "Why is the sum of the Unicode values for the letters in a string not a good hash code?\n",
    "\n",
    "### 2\n",
    "Explain why the sum of the Unicode values for the letters in a string *based on their position* is a better hash code?\n",
    "\n",
    "### 3\n",
    "For the following words, show what a hash table looks like after inserting the words in order. Set the hash table size to 10 and use the hash code approach from practice problem 1 with linear probing:\n",
    "1. \"cat\"\n",
    "1. \"hat\"\n",
    "1. \"tac\"\n",
    "1. \"act\"\n",
    "\n",
    "### 4\n",
    "Re-solve the previous problem using the hash code approach from practice problem 2 with linear probing>.\n",
    "\n",
    "### 5\n",
    "Re-solve practice problems 4 and 5 using chaining. How do all four approaches compare?"
   ]
  },
  {
   "cell_type": "markdown",
   "metadata": {},
   "source": [
    "## Summary\n",
    "You may be able to think of a number of additional ways to compute hash values for items in a collection. The important thing to remember is that the hash function has to be efficient so that it does not become the dominant part of the storage and search process. If the hash function is too complex, then it becomes more work to compute the slot name than it would be to simply do a basic sequential or binary search as described earlier. This would quickly defeat the purpose of hashing."
   ]
  }
 ],
 "metadata": {
  "anaconda-cloud": {},
  "kernelspec": {
   "display_name": "Python 3",
   "language": "python",
   "name": "python3"
  },
  "language_info": {
   "codemirror_mode": {
    "name": "ipython",
    "version": 3
   },
   "file_extension": ".py",
   "mimetype": "text/x-python",
   "name": "python",
   "nbconvert_exporter": "python",
   "pygments_lexer": "ipython3",
   "version": "3.7.1"
  }
 },
 "nbformat": 4,
 "nbformat_minor": 1
}
