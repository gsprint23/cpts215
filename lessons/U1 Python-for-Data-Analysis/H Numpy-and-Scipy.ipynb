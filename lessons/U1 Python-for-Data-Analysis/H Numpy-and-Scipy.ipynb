{
 "cells": [
  {
   "cell_type": "markdown",
   "metadata": {},
   "source": [
    "# [CptS 215 Data Analytics Systems and Algorithms](https://github.com/gsprint23/cpts215v)\n",
    "[Washington State University](https://wsu.edu)\n",
    "\n",
    "[Gina Sprint](http://eecs.wsu.edu/~gsprint/)\n",
    "# Numpy and Scipy\n",
    "\n",
    "Learner objectives for this lesson:\n",
    "* Utilize numpy arrays and notation\n",
    "* Utilize Scipy for scientific computing\n",
    "\n",
    "\n",
    "## Acknowledgments\n",
    "Content used in this lesson is based upon information in the following sources:\n",
    "* [Scipy website](https://www.scipy.org/)\n",
    "* [Numpy website](http://www.numpy.org/)\n",
    "* Python for Data Analysis by Wes McKinney"
   ]
  },
  {
   "cell_type": "markdown",
   "metadata": {},
   "source": [
    "## Scipy Ecosystem Overview\n",
    "From the [Scipy website](https://www.scipy.org/):\n",
    ">SciPy (pronounced \"Sigh Pie\") is a Python-based ecosystem of open-source software for mathematics, science, and engineering. In particular, these are some of the core packages:\n",
    "* [Numpy](http://www.numpy.org/): Base N-dimensional array package\n",
    "* [Scipy library](): Fundamental library for scientific computing\n",
    "* [Matplotlib](): Comprehensive 2D plotting\n",
    "* [IPython](): Enhanced interactive console\n",
    "* [Sympy](): Symbolic mathematics\n",
    "* [Pandas](): Data structures and analysis\n",
    "\n",
    "In this class, we will use all of the above, except for Sympy."
   ]
  },
  {
   "cell_type": "markdown",
   "metadata": {},
   "source": [
    "### Numpy\n",
    "From the [Numpy website](http://www.numpy.org/):\n",
    ">NumPy is the fundamental package for scientific computing with Python. It contains among other things:\n",
    "* a powerful N-dimensional array object (`ndarray`)\n",
    "* sophisticated (broadcasting) functions\n",
    "* tools for integrating C/C++ and Fortran code\n",
    "* useful linear algebra, Fourier transform, and random number capabilities\n",
    "\n",
    ">Besides its obvious scientific uses, NumPy can also be used as an efficient multi-dimensional container of generic data. Arbitrary data-types can be defined. This allows NumPy to seamlessly and speedily integrate with a wide variety of databases.\n",
    "\n",
    "Typically, `numpy` is imported as `np`:"
   ]
  },
  {
   "cell_type": "code",
   "execution_count": 1,
   "metadata": {
    "collapsed": true
   },
   "outputs": [],
   "source": [
    "import numpy as np"
   ]
  },
  {
   "cell_type": "markdown",
   "metadata": {},
   "source": [
    "### `ndarray` Object\n",
    "Numpy's N-dimensional array object, `ndarray`, is one of the main reasons to use Numpy for data analytics. `ndarray` is a fast, flexible container for large data sets in Python. We will often use `ndarray` objects in lieu of Python list objects because `ndarray` supports mathematical operations on whole blocks of data using similar syntax to the equivalent operations on scalars. \n",
    "\n",
    "Let's take a look at an example. Let's say we have a list of the numbers 0 through 10:"
   ]
  },
  {
   "cell_type": "code",
   "execution_count": 2,
   "metadata": {},
   "outputs": [
    {
     "name": "stdout",
     "output_type": "stream",
     "text": [
      "[0, 1, 2, 3, 4, 5, 6, 7, 8, 9, 10]\n",
      "[ 0  1  2  3  4  5  6  7  8  9 10]\n"
     ]
    }
   ],
   "source": [
    "x = list(range(11))\n",
    "print(x)\n",
    "\n",
    "x = np.array(x)\n",
    "print(x)"
   ]
  },
  {
   "cell_type": "markdown",
   "metadata": {},
   "source": [
    "Note: We can omit the typecast to a list, because a `range` object can be converted to a `ndarray` object.\n",
    "\n",
    "We can also make 2-D and N-D arrays. Numpy will \"pretty print\" the `ndarray` such that it is organized in a matrix format, instead of linear like the default printing for lists:"
   ]
  },
  {
   "cell_type": "code",
   "execution_count": 3,
   "metadata": {},
   "outputs": [
    {
     "name": "stdout",
     "output_type": "stream",
     "text": [
      "[[1, 2, 3], [4, 5, 6]]\n",
      "[[1 2 3]\n",
      " [4 5 6]]\n",
      "Number of dimensions: 2\n",
      "Shape (rows, cols): (2, 3)\n",
      "Datatype of items: int32\n",
      "[[ 1.  2.  3.]\n",
      " [ 4.  5.  6.]]\n",
      "Datatype of items: float64\n"
     ]
    }
   ],
   "source": [
    "x = [[1, 2, 3], [4, 5, 6]]\n",
    "print(x)\n",
    "\n",
    "x = np.array(x)\n",
    "print(x)\n",
    "print(\"Number of dimensions: %d\" %(x.ndim))\n",
    "print(\"Shape (rows, cols): %s\" %(str(x.shape)))\n",
    "print(\"Datatype of items: %s\" %(x.dtype))\n",
    "\n",
    "# converting int items to float items\n",
    "# astype() creates a new array\n",
    "x_floats = x.astype(np.float)\n",
    "print(x_floats)\n",
    "print(\"Datatype of items: %s\" %(x_floats.dtype))"
   ]
  },
  {
   "cell_type": "markdown",
   "metadata": {},
   "source": [
    "### `arange()`, `ones()`, and `zeros()`\n",
    "Instead of using `range()` and then converting to an `ndarray`, we can create an `ndarray` object directly in a few ways:"
   ]
  },
  {
   "cell_type": "code",
   "execution_count": 6,
   "metadata": {},
   "outputs": [
    {
     "name": "stdout",
     "output_type": "stream",
     "text": [
      "[ 0  1  2  3  4  5  6  7  8  9 10]\n",
      "[0 1 2 3 4 5 6 7 8 9]\n",
      "[ 1.  1.  1.  1.  1.  1.  1.  1.  1.  1.]\n",
      "[ 0.  0.  0.  0.  0.  0.  0.  0.  0.  0.]\n",
      "[ 5.  5.  5.  5.  5.  5.  5.  5.  5.  5.]\n"
     ]
    }
   ],
   "source": [
    "x = np.arange(0, 11)\n",
    "print(x)\n",
    "\n",
    "x1 = np.arange(10)\n",
    "print(x1)\n",
    "\n",
    "x2 = np.ones(10)\n",
    "print(x2)\n",
    "\n",
    "x3 = np.zeros(10)\n",
    "print(x3)\n",
    "\n",
    "x4 = np.full(10, 5.0)\n",
    "print(x4)"
   ]
  },
  {
   "cell_type": "markdown",
   "metadata": {},
   "source": [
    "### Vectorization\n",
    "Now, suppose we want to add two equal-length sequences together. Using lists we have to write a loop, such as the following:"
   ]
  },
  {
   "cell_type": "code",
   "execution_count": 7,
   "metadata": {},
   "outputs": [
    {
     "name": "stdout",
     "output_type": "stream",
     "text": [
      "[10, 12, 14, 16, 18, 20, 22, 24, 26, 28, 30]\n"
     ]
    }
   ],
   "source": [
    "x = range(11)\n",
    "y = range(10, 21)\n",
    "z = []\n",
    "for i in range(len(x)):\n",
    "    z.append(x[i] + y[i])\n",
    "print(z)"
   ]
  },
  {
   "cell_type": "markdown",
   "metadata": {},
   "source": [
    "Using an `ndarray`, we can *vectorize* the addition operation to each item in the sequences, without writing a loop:"
   ]
  },
  {
   "cell_type": "code",
   "execution_count": 9,
   "metadata": {},
   "outputs": [
    {
     "name": "stdout",
     "output_type": "stream",
     "text": [
      "[10 12 14 16 18 20 22 24 26 28 30]\n",
      "[0 1 2 3 4 5 6 7 8 9]\n",
      "[ 1  2  3  4  5  6  7  8  9 10]\n"
     ]
    }
   ],
   "source": [
    "x = np.arange(11)\n",
    "y = np.arange(10, 21)\n",
    "z = x + y\n",
    "print(z)\n",
    "\n",
    "x = np.arange(10)\n",
    "print(x)\n",
    "x += 1\n",
    "print(x)"
   ]
  },
  {
   "cell_type": "markdown",
   "metadata": {},
   "source": [
    "Vectorization enables you to express batch operations on data without writing any loops.\n",
    "\n",
    "Operations between differently sized arrays is called *broadcasting*. For example, we can broadcast a scaler (i.e. an array of length one) operation to each item in an array:"
   ]
  },
  {
   "cell_type": "code",
   "execution_count": 10,
   "metadata": {},
   "outputs": [
    {
     "name": "stdout",
     "output_type": "stream",
     "text": [
      "[ 0  2  4  6  8 10 12 14 16 18 20]\n"
     ]
    }
   ],
   "source": [
    "x = np.arange(11)\n",
    "x *= np.array([2])\n",
    "print(x)"
   ]
  },
  {
   "cell_type": "markdown",
   "metadata": {},
   "source": [
    "Note: See Chapter of Python for Data Analysis or the [Numpy docs](https://docs.scipy.org/doc/numpy/user/basics.broadcasting.html) if you want to learn more about broadcasting."
   ]
  },
  {
   "cell_type": "markdown",
   "metadata": {},
   "source": [
    "Relational operators (==, !=, <, <=, >, >=) can be vectorized:"
   ]
  },
  {
   "cell_type": "code",
   "execution_count": 11,
   "metadata": {},
   "outputs": [
    {
     "name": "stdout",
     "output_type": "stream",
     "text": [
      "['Mary' 'Michael' 'Margaret' 'Mary' 'Marcus' 'Molly']\n",
      "[ True False False  True False False]\n",
      "[28 34]\n"
     ]
    }
   ],
   "source": [
    "m_names = np.array([\"Mary\", \"Michael\", \"Margaret\", \"Mary\", \"Marcus\", \"Molly\"])\n",
    "m_ages =  np.array([28    , 72       , 12        , 34    , 40      , 68])\n",
    "# marys is a Boolean array\n",
    "marys = m_names == \"Mary\"\n",
    "print(m_names)\n",
    "print(marys)\n",
    "\n",
    "print(m_ages[marys])"
   ]
  },
  {
   "cell_type": "markdown",
   "metadata": {},
   "source": [
    "Boolean operators (`and`, `or`, `not`) can be vectorized as well. For vectorized `and`, use `&`. For vectorized `or`, use `|`.\n",
    "\n",
    "Note: `and` and `or` reserved keywords do not work with Boolean arrays."
   ]
  },
  {
   "cell_type": "code",
   "execution_count": 12,
   "metadata": {},
   "outputs": [
    {
     "name": "stdout",
     "output_type": "stream",
     "text": [
      "['Mary' 'Michael' 'Margaret' 'Mary' 'Marcus' 'Molly']\n",
      "[ True False False  True  True False]\n",
      "[28 34 40]\n"
     ]
    }
   ],
   "source": [
    "m_names = np.array([\"Mary\", \"Michael\", \"Margaret\", \"Mary\", \"Marcus\", \"Molly\"])\n",
    "m_ages =  np.array([28    , 72       , 12        , 34    , 40      , 68])\n",
    "mary_marcus = (m_names == \"Mary\") | (m_names == \"Marcus\")\n",
    "print(m_names)\n",
    "print(mary_marcus)\n",
    "\n",
    "print(m_ages[mary_marcus])"
   ]
  },
  {
   "cell_type": "markdown",
   "metadata": {},
   "source": [
    "### Indexing\n",
    "Indexing `ndarray` objects works just like with lists:"
   ]
  },
  {
   "cell_type": "code",
   "execution_count": 13,
   "metadata": {},
   "outputs": [
    {
     "name": "stdout",
     "output_type": "stream",
     "text": [
      "[0 1 2 3 4 5 6 7 8 9]\n",
      "3\n"
     ]
    }
   ],
   "source": [
    "x = np.arange(10)\n",
    "print(x)\n",
    "print(x[3])"
   ]
  },
  {
   "cell_type": "markdown",
   "metadata": {},
   "source": [
    "We can also specify indices into N-dimensional `ndarray()` objects using commas:"
   ]
  },
  {
   "cell_type": "code",
   "execution_count": 14,
   "metadata": {},
   "outputs": [
    {
     "name": "stdout",
     "output_type": "stream",
     "text": [
      "1.0\n",
      "1.0\n"
     ]
    }
   ],
   "source": [
    "ones = np.ones((2, 3))\n",
    "print(ones[0][0])\n",
    "# using a comma\n",
    "print(ones[0, 0])"
   ]
  },
  {
   "cell_type": "markdown",
   "metadata": {},
   "source": [
    "### Assignment\n",
    "Just like with lists, we can update values in an `ndarray` using the assignment operator. For this example, we will work with a 3x4 array of random data:"
   ]
  },
  {
   "cell_type": "code",
   "execution_count": 15,
   "metadata": {},
   "outputs": [
    {
     "name": "stdout",
     "output_type": "stream",
     "text": [
      "[[ 0.8067337   2.32813807 -0.29061593  1.03325199]\n",
      " [ 0.24049094  0.42533723 -0.30862441 -0.12053085]\n",
      " [ 0.47168335 -0.89400941 -0.21375496  0.30472726]]\n",
      "[[   0.8067337     2.32813807   -0.29061593    1.03325199]\n",
      " [   0.24049094    0.42533723   -0.30862441   -0.12053085]\n",
      " [ 100.           -0.89400941   -0.21375496    0.30472726]]\n",
      "[[False False  True False]\n",
      " [False False  True  True]\n",
      " [False  True  True False]]\n",
      "[[   0.8067337     2.32813807    0.            1.03325199]\n",
      " [   0.24049094    0.42533723    0.            0.        ]\n",
      " [ 100.            0.            0.            0.30472726]]\n"
     ]
    }
   ],
   "source": [
    "from numpy.random import randn\n",
    "rand_data = randn(3, 4)\n",
    "print(rand_data)\n",
    "rand_data[2][0] = 100\n",
    "print(rand_data)\n",
    "\n",
    "# Boolean array for negative values\n",
    "negatives = rand_data < 0\n",
    "print(negatives)\n",
    "# set the negative values to 0\n",
    "rand_data[negatives] = 0\n",
    "print(rand_data)"
   ]
  },
  {
   "cell_type": "markdown",
   "metadata": {},
   "source": [
    "### Slicing\n",
    "`ndarray` slicing works similar to lists; however, there are a few subtle differences:\n",
    "* Slices are \"views\" of the `ndarray`, not copies\n",
    "* Assigning a slice to a scalar (or an `ndarray` of a different dimension that the slice), broadcasts the scalar"
   ]
  },
  {
   "cell_type": "code",
   "execution_count": 16,
   "metadata": {},
   "outputs": [
    {
     "name": "stdout",
     "output_type": "stream",
     "text": [
      "x_list: [0, 1, 2, 3, 4, 5, 6, 7, 8, 9]\n",
      "chunk: [3, 4, 5, 6]\n",
      "chunk: [50, 4, 5, 6]\n",
      "x_list: [0, 1, 2, 3, 4, 5, 6, 7, 8, 9]\n",
      "[0 1 2 3 4 5 6 7 8 9]\n",
      "x: [0 1 2 3 4 5 6 7 8 9]\n",
      "chunk: [3 4 5 6]\n",
      "chunk: [50  4  5  6]\n",
      "x: [ 0  1  2 50  4  5  6  7  8  9]\n",
      "[  0   1 100 100 100   5   6   7   8   9]\n"
     ]
    }
   ],
   "source": [
    "x_list = list(range(10))\n",
    "print(\"x_list: %s\" %(x_list))\n",
    "chunk = x_list[3:7]\n",
    "print(\"chunk: %s\" %(chunk))\n",
    "# doesn't modify x_list because chunk is a copy\n",
    "chunk[0] = 50\n",
    "print(\"chunk: %s\" %(chunk))\n",
    "print(\"x_list: %s\" %(x_list))\n",
    "\n",
    "\n",
    "x = np.arange(10)\n",
    "print(x)\n",
    "print(\"x: %s\" %(x))\n",
    "chunk = x[3:7]\n",
    "print(\"chunk: %s\" %(chunk))\n",
    "# does modify x_list because chunk is a view\n",
    "chunk[0] = 50\n",
    "print(\"chunk: %s\" %(chunk))\n",
    "print(\"x: %s\" %(x))\n",
    "\n",
    "# broadcasts\n",
    "x[2:5] = 100\n",
    "print(x)"
   ]
  },
  {
   "cell_type": "markdown",
   "metadata": {},
   "source": [
    "Note: if you want a copy of an `ndarray` slice instead of a view, you can copy the `ndarray()` using the `ndarray()` method `copy()`:"
   ]
  },
  {
   "cell_type": "code",
   "execution_count": 17,
   "metadata": {},
   "outputs": [
    {
     "name": "stdout",
     "output_type": "stream",
     "text": [
      "[0 1 2 3 4 5 6 7 8 9]\n",
      "x: [0 1 2 3 4 5 6 7 8 9]\n",
      "chunk: [3 4 5 6]\n",
      "chunk: [50  4  5  6]\n",
      "x: [0 1 2 3 4 5 6 7 8 9]\n"
     ]
    }
   ],
   "source": [
    "x = np.arange(10)\n",
    "print(x)\n",
    "print(\"x: %s\" %(x))\n",
    "chunk = x[3:7].copy()\n",
    "print(\"chunk: %s\" %(chunk))\n",
    "# does modify x_list because chunk is now a copy\n",
    "chunk[0] = 50\n",
    "print(\"chunk: %s\" %(chunk))\n",
    "print(\"x: %s\" %(x))"
   ]
  },
  {
   "cell_type": "markdown",
   "metadata": {},
   "source": [
    "### Reshaping\n",
    "We can change the shape of an `ndarray` object, i.e. we can change the dimensions. For example, say we have a 1D array that we want to change into a 2D array:"
   ]
  },
  {
   "cell_type": "code",
   "execution_count": 18,
   "metadata": {},
   "outputs": [
    {
     "name": "stdout",
     "output_type": "stream",
     "text": [
      "(10,)\n",
      "[0 1 2 3 4 5 6 7 8 9]\n",
      "(5, 2)\n",
      "[[0 1]\n",
      " [2 3]\n",
      " [4 5]\n",
      " [6 7]\n",
      " [8 9]]\n"
     ]
    }
   ],
   "source": [
    "ints = np.arange(10)\n",
    "print(ints.shape)\n",
    "print(ints)\n",
    "ints = ints.reshape(5, 2)\n",
    "print(ints.shape)\n",
    "print(ints)"
   ]
  },
  {
   "cell_type": "markdown",
   "metadata": {},
   "source": [
    "### Transposing\n",
    "Matrix transposition turns the rows of the matrix into columns and the columns into rows. `ndarray` has support for tranposing:"
   ]
  },
  {
   "cell_type": "code",
   "execution_count": 19,
   "metadata": {},
   "outputs": [
    {
     "name": "stdout",
     "output_type": "stream",
     "text": [
      "[[0 1 2]\n",
      " [3 4 5]]\n",
      "(2, 3)\n",
      "[[0 3]\n",
      " [1 4]\n",
      " [2 5]]\n",
      "(3, 2)\n"
     ]
    }
   ],
   "source": [
    "x = np.arange(6).reshape((2, 3))\n",
    "print(x)\n",
    "print(x.shape)\n",
    "x_t = x.T\n",
    "print(x_t)\n",
    "print(x_t.shape)"
   ]
  },
  {
   "cell_type": "markdown",
   "metadata": {},
   "source": [
    "### `ndarray` Functions\n",
    "`ndarray` has several fast, vectorized universal functions (ufuncs) that perform element-wise operations on data.\n",
    "\n",
    "#### Unary ufuncs\n",
    "Unary ufuncs accept a single `ndarray` and apply an operation element-wise. Example ufuncs include:\n",
    "* `np.sqrt()`: Element wise square root\n",
    "* `np.absolute()`: Element wise absolute value\n",
    "* `np.sine()`: Element wise trigonometric sign\n",
    "\n",
    "For a full list of available ufuncs, please read the [Numpy docs](https://docs.scipy.org/doc/numpy/reference/ufuncs.html#available-ufuncs), there are over 60 of them!"
   ]
  },
  {
   "cell_type": "code",
   "execution_count": 21,
   "metadata": {},
   "outputs": [
    {
     "name": "stdout",
     "output_type": "stream",
     "text": [
      "[0 1 2 3 4 5 6 7 8 9]\n",
      "[ 0.          1.          1.41421356  1.73205081  2.          2.23606798\n",
      "  2.44948974  2.64575131  2.82842712  3.        ]\n",
      "[[ 0.09974505  0.12077332  0.78635635 -0.00338038]\n",
      " [ 0.27127806 -0.64444694 -1.35002247 -0.79343794]\n",
      " [-0.10411761  0.26385509  0.76403851 -0.61235238]\n",
      " [ 0.69307445  0.05751858  0.82928344  0.37826543]]\n",
      "[[ 0.09974505  0.12077332  0.78635635  0.00338038]\n",
      " [ 0.27127806  0.64444694  1.35002247  0.79343794]\n",
      " [ 0.10411761  0.26385509  0.76403851  0.61235238]\n",
      " [ 0.69307445  0.05751858  0.82928344  0.37826543]]\n"
     ]
    }
   ],
   "source": [
    "nums = np.arange(10)\n",
    "print(nums)\n",
    "print(np.sqrt(nums))\n",
    "\n",
    "nums2 = np.random.randn(4, 4)\n",
    "print(nums2)\n",
    "print(np.absolute(nums2))"
   ]
  },
  {
   "cell_type": "markdown",
   "metadata": {},
   "source": [
    "#### Binary ufuncs\n",
    "Binary ufuncs accept two `ndarray` objects, apply an operation element-wise, and return a single array as a result. Example binary ufuncs include:\n",
    "* `np.power()`: Element wise exponentiation\n",
    "* `np.maximum()`: Element wise maximum comparison\n",
    "* `np.minimum()`: Element wise minimum comparison\n",
    "\n",
    "For a full list of available ufuncs, please read the [Numpy docs](https://docs.scipy.org/doc/numpy/reference/ufuncs.html#available-ufuncs), there are over 60 of them!"
   ]
  },
  {
   "cell_type": "code",
   "execution_count": 25,
   "metadata": {},
   "outputs": [
    {
     "name": "stdout",
     "output_type": "stream",
     "text": [
      "[0 1 2 3 4]\n",
      "[ 2.  2.  2.  2.  3.]\n",
      "[  0.   1.   4.   9.  64.]\n",
      "[   0    1    8   81 1024]\n",
      "[0 1 2 3 4]\n",
      "[1 2 3 4 5]\n",
      "[1 2 3 4 5]\n"
     ]
    }
   ],
   "source": [
    "nums = np.arange(5)\n",
    "print(nums)\n",
    "powers = np.full(5, 2.0)\n",
    "powers[-1] = 3\n",
    "print(powers)\n",
    "nums2 = np.arange(5) + 1\n",
    "\n",
    "print(np.power(nums, powers)) # or simply np.power(nums, 2) to broadcast\n",
    "print(np.power(nums, nums2))\n",
    "print(nums)\n",
    "print(nums2)\n",
    "print(np.maximum(nums, nums2))"
   ]
  }
 ],
 "metadata": {
  "anaconda-cloud": {},
  "kernelspec": {
   "display_name": "Python 3",
   "language": "python",
   "name": "python3"
  },
  "language_info": {
   "codemirror_mode": {
    "name": "ipython",
    "version": 3
   },
   "file_extension": ".py",
   "mimetype": "text/x-python",
   "name": "python",
   "nbconvert_exporter": "python",
   "pygments_lexer": "ipython3",
   "version": "3.7.1"
  }
 },
 "nbformat": 4,
 "nbformat_minor": 1
}
