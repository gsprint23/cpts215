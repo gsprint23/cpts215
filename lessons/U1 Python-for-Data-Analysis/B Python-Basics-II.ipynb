{
 "cells": [
  {
   "cell_type": "markdown",
   "metadata": {},
   "source": [
    "# [CptS 215 Data Analytics Systems and Algorithms](https://github.com/gsprint23/cpts215)\n",
    "[Washington State University](https://wsu.edu)\n",
    "\n",
    "[Gina Sprint](http://eecs.wsu.edu/~gsprint/)\n",
    "# Python Basics II\n",
    "\n",
    "Learner objectives for this lesson:\n",
    "* Understand file I/O in Python\n",
    "* Apply basic string operations\n",
    "\n",
    "Content used in this lesson is based upon information in the following sources:\n",
    "* None to report"
   ]
  },
  {
   "cell_type": "markdown",
   "metadata": {},
   "source": [
    "## File I/O\n",
    "A simple way to store data is in a *text file*, such as this simple text file, [transactions.txt](https://raw.githubusercontent.com/gsprint23/cpts215/master/lessons/files/transactions.txt), that stores an individual's credit card transaction history. Each line in the file represents a transaction price.\n",
    "\n",
    "To process data in a file, we typically take the following approach:\n",
    "1. Open the file\n",
    "1. Process the file\n",
    "    * Read data (doesn't modify the file) or\n",
    "    * Write data (overwrite existing file) or\n",
    "    * Append data (retains existing information and adds new data)\n",
    "1. Close the file\n",
    "\n",
    "### Opening a File\n",
    "Before we can read from a file or write to a file, we first need to open the file and get a file object (AKA handle). We do this with the built-in function `open()`:"
   ]
  },
  {
   "cell_type": "code",
   "execution_count": 1,
   "metadata": {},
   "outputs": [],
   "source": [
    "# in_file is our variable connecting our program to transactions.txt\n",
    "# transactions.txt is a file I have in a files folder in the same folder as this running Python file\n",
    "in_file = open(r\"files\\transactions.txt\", \"r\")"
   ]
  },
  {
   "cell_type": "markdown",
   "metadata": {},
   "source": [
    "#### File Modes\n",
    "The first argument to `open()` is a string representing the path to the file and the second argument is the file opening *mode*: \n",
    "1. \"r\" for reading\n",
    "    1. File must exist or you will get an error\n",
    "1. \"w\" for writing\n",
    "    1. If the file does not exist, it is created\n",
    "    1. If the file does exist, it is cleared!\n",
    "1. \"a\" is for appending\n",
    "    1. If the file does not exist, it is created\n",
    "    1. If the file does exist, new data written to the file is added at the end of the file\n",
    "\n",
    "You can read more about modes [here](https://docs.python.org/3/tutorial/inputoutput.html#reading-and-writing-files). \n",
    "\n",
    "`open()` returns an object that represents the connection between our program and transactions.txt.\n",
    "\n",
    "#### Paths\n",
    "The directory (or folder) where your Python script is running is called the *current directory*. When you open a file, Python looks for it in the current directory. \n",
    "\n",
    "If a file you want to open is in a directory other than the current directory, you will have to specify its path. \n",
    "\n",
    "Note: On a windows machine, folders and file names in a path are separated by backslashes \"\\\". We know the backslash has a special purpose in Python, to escape certain characters, such as a newline \"\\n\"; therefore, you will have to escape a backslash: \"`\\\\`\" in your path to a file: `\"files\\\\transactions.txt\"`. Alternatively, you can specify your path as a raw string: `r\"files\\transactions.txt\"`. On a Unix-based machine (e.g. Mac, Linux distributions), the forward slash \"/\" is used in paths and you don't have to worry about this issue.\n",
    "\n",
    "### Closing a File\n",
    "When we are done with a file, we should close it with `close()`:"
   ]
  },
  {
   "cell_type": "code",
   "execution_count": 2,
   "metadata": {
    "collapsed": true
   },
   "outputs": [],
   "source": [
    "in_file.close()"
   ]
  },
  {
   "cell_type": "markdown",
   "metadata": {},
   "source": [
    "### Processing a File\n",
    "Once a file is open, we want to process the data inside the file (reading) or save data to file (writing). Consider the example [transactions.txt](https://raw.githubusercontent.com/gsprint23/cpts111/master/lessons/transactions.txt) we opened earlier.\n",
    "\n",
    "#### Reading from a File\n",
    "We will use the `readline()` function to read in a *single* line in the file (in transactions.txt this is the purchase price as a **string including the newline character \\n**):"
   ]
  },
  {
   "cell_type": "code",
   "execution_count": 4,
   "metadata": {},
   "outputs": [
    {
     "name": "stdout",
     "output_type": "stream",
     "text": [
      "13.42\n",
      " '13.42\\n' <class 'str'>\n",
      "13.42 <class 'float'>\n"
     ]
    }
   ],
   "source": [
    "in_file = open(r\"files\\transactions.txt\", \"r\")\n",
    "transaction = in_file.readline()\n",
    "# note the newline printed!! repr() shows non-printable characters like \\n\n",
    "print(transaction, repr(transaction), type(transaction))\n",
    "transaction = float(transaction)\n",
    "print(transaction, type(transaction))"
   ]
  },
  {
   "cell_type": "markdown",
   "metadata": {},
   "source": [
    "#### Writing to a File\n",
    "Now, let's use use the `write()` function to write the transaction price we just read in to an output file called single_transaction.txt:"
   ]
  },
  {
   "cell_type": "code",
   "execution_count": 5,
   "metadata": {},
   "outputs": [],
   "source": [
    "# creates the file if it does not exist\n",
    "# overwrites the file contents if it does exist\n",
    "out_file = open(r\"files\\single_transaction.txt\", \"w\")\n",
    "# save the value of transaction as string\n",
    "out_file.write(\"%.2f\" %(transaction))\n",
    "\n",
    "# close file because we are done with out_file\n",
    "out_file.close()"
   ]
  },
  {
   "cell_type": "markdown",
   "metadata": {},
   "source": [
    "### Example Problem\n",
    "On average, how much money do I spend per credit card transaction?\n",
    "\n",
    "Algorithm:\n",
    "1. For each transaction\n",
    "    1. Read in the purchase price from file\n",
    "    1. Accumulate the total money spent so far\n",
    "1. Divide total money spent by total number of transactions\n",
    "1. Write the average transaction to file"
   ]
  },
  {
   "cell_type": "code",
   "execution_count": 12,
   "metadata": {},
   "outputs": [],
   "source": [
    "def read_transaction_price(in_file):\n",
    "    '''\n",
    "    \n",
    "    '''\n",
    "    # readline() returns a string, including the newline character\n",
    "    price = in_file.readline()\n",
    "    # we need to convert the string returned by readline() to a numeric value\n",
    "    return float(price)\n",
    "\n",
    "def compute_total_spent():\n",
    "    '''\n",
    "    \n",
    "    '''\n",
    "    total_spent = 0.0\n",
    "    \n",
    "    in_file = open(r\"files\\transactions.txt\", \"r\")\n",
    "\n",
    "    # read in all 5 transactions in the file\n",
    "    for i in range(5):\n",
    "        total_spent += read_transaction_price(in_file)\n",
    "    \n",
    "    # close the file before in_file goes out of scope\n",
    "    in_file.close()\n",
    "    \n",
    "    return total_spent\n",
    "\n",
    "total_spent = compute_total_spent()\n",
    "\n",
    "avg_spent_per_transaction = total_spent / 5.0\n",
    "\n",
    "out_file = open(r\"files\\avg_transaction.txt\", \"w\")\n",
    "out_file.write(\"On average, you spend %.2f per transaction\" %(avg_spent_per_transaction))\n",
    "out_file.close()"
   ]
  },
  {
   "cell_type": "markdown",
   "metadata": {},
   "source": [
    "## File Reading\n",
    "### `for` Loops\n",
    "Let's rewrite our transaction code to read in as many transactions as there are in the file (instead of the hard-coded 5). Using a `for` loop, `<sequence>` will be all of the lines in the input file, which we can get with a call to `in_file.readlines()`. Our `for` loop will walk through each line one at time with a loop control variable called `line`."
   ]
  },
  {
   "cell_type": "code",
   "execution_count": 13,
   "metadata": {},
   "outputs": [
    {
     "name": "stdout",
     "output_type": "stream",
     "text": [
      "27.19\n",
      "\n",
      "9.98\n",
      "\n",
      "48.56\n",
      "\n",
      "33.71\n",
      "On average, you spend 29.86 per transaction\n"
     ]
    }
   ],
   "source": [
    "def compute_avg_spent():\n",
    "    '''\n",
    "    \n",
    "    '''\n",
    "    # accumulator variable\n",
    "    total_spent = 0.0\n",
    "    # count the transactions\n",
    "    num_transactions = 0\n",
    "\n",
    "    # the input file contains lines that we will iterate through as our items\n",
    "    for line in in_file.readlines():\n",
    "        print(line)\n",
    "        total_spent += float(line)\n",
    "        num_transactions += 1\n",
    "    \n",
    "    # close the file before in_file goes out of scope\n",
    "    in_file.close()\n",
    "    \n",
    "    return total_spent / num_transactions\n",
    "\n",
    "avg_spent_per_transaction = compute_avg_spent()\n",
    "\n",
    "print(\"On average, you spend %.2f per transaction\" %(avg_spent_per_transaction))"
   ]
  },
  {
   "cell_type": "markdown",
   "metadata": {},
   "source": [
    "Note: There is another file function, `read()` that will read the entire file into a single string, not a single line as we did with `readlines()`.  When we learn more about strings, this function will be more useful. For now, let's stick with `readlines()`."
   ]
  },
  {
   "cell_type": "markdown",
   "metadata": {},
   "source": [
    "### `while` Loops \n",
    "Let's rewrite our transaction processing code to use a `while` loop. `readline()` will return an empty string when the end of the file is reached. This can be used in our Boolean condition:"
   ]
  },
  {
   "cell_type": "code",
   "execution_count": 14,
   "metadata": {},
   "outputs": [
    {
     "name": "stdout",
     "output_type": "stream",
     "text": [
      "13.42\n",
      "\n",
      "27.19\n",
      "\n",
      "9.98\n",
      "\n",
      "48.56\n",
      "\n",
      "33.71\n",
      "On average, you spend 26.57 per transaction\n"
     ]
    }
   ],
   "source": [
    "def compute_avg_spent():\n",
    "    '''\n",
    "    \n",
    "    '''\n",
    "    # accumulator variable\n",
    "    total_spent = 0.0\n",
    "    # count the transactions\n",
    "    num_transactions = 0\n",
    "    \n",
    "    in_file = open(r\"files\\transactions.txt\", \"r\")\n",
    "\n",
    "    # read the first line in the file\n",
    "    spent = in_file.readline()\n",
    "    # test if this line is the empty string, meaning the end of file has been reached\n",
    "    while spent != \"\":\n",
    "        # not end of file, process this transaction\n",
    "        print(spent)\n",
    "        total_spent += float(spent)\n",
    "        num_transactions += 1\n",
    "        # progress toward Boolean condition being False here is progress through the file\n",
    "        spent = in_file.readline()\n",
    "    \n",
    "    # close the file before in_file goes out of scope\n",
    "    in_file.close()\n",
    "    \n",
    "    return total_spent / num_transactions\n",
    "\n",
    "avg_spent_per_transaction = compute_avg_spent()\n",
    "\n",
    "print(\"On average, you spend %.2f per transaction\" %(avg_spent_per_transaction))"
   ]
  },
  {
   "cell_type": "markdown",
   "metadata": {},
   "source": [
    "## The File \"Cursor\"\n",
    "When you open a file for reading (\"r\" mode), the cursor marking the current position at which to read from starts at the beginning of the file (position 0). As `readlines()` is called, the cursor moves through the file. As `readlines()` is called, the cursor moves through the file. To find out the position of the cursor, you can call `tell()`:"
   ]
  },
  {
   "cell_type": "code",
   "execution_count": 16,
   "metadata": {},
   "outputs": [
    {
     "name": "stdout",
     "output_type": "stream",
     "text": [
      "File cursor is at position: 0\n",
      "File cursor is at position: 7\n",
      "First line contains: '13.42\\n' which contains 6 characters (including newline)\n"
     ]
    }
   ],
   "source": [
    "in_file = open(r\"files\\transactions.txt\", \"r\")\n",
    "\n",
    "print(\"File cursor is at position: %d\" %(in_file.tell()))\n",
    "\n",
    "# read data from the file advances the cursor by a certain number of bytes, depending on the number of characters in the line\n",
    "transaction = in_file.readline()\n",
    "print(\"File cursor is at position: %d\" %(in_file.tell()))\n",
    "# %r placeholder displays all characters in a string. we use it see the newline character as \\n\n",
    "print(\"First line contains: %r which contains %d characters (including newline)\" %(transaction, len(transaction)))\n",
    "in_file.close()"
   ]
  },
  {
   "cell_type": "markdown",
   "metadata": {},
   "source": [
    "To move the cursor back to the beginning of the file, you can either:\n",
    "1. Close the file and re-open it\n",
    "1. Use `seek(0,0)`:"
   ]
  },
  {
   "cell_type": "code",
   "execution_count": 17,
   "metadata": {},
   "outputs": [
    {
     "name": "stdout",
     "output_type": "stream",
     "text": [
      "File cursor is at position: 0\n",
      "File cursor is at position: 7\n",
      "First line contains: '13.42\\n' which contains 6 characters (including newline)\n",
      "File cursor is at position: 0\n"
     ]
    }
   ],
   "source": [
    "in_file = open(r\"files\\transactions.txt\", \"r\")\n",
    "\n",
    "print(\"File cursor is at position: %d\" %(in_file.tell()))\n",
    "\n",
    "# read data from the file advances the cursor by a certain number of bytes, depending on the number of characters in the line\n",
    "transaction = in_file.readline()\n",
    "print(\"File cursor is at position: %d\" %(in_file.tell()))\n",
    "# %r placeholder displays all characters in a string. we use it see the newline character as \\n\n",
    "# len() returns the number of characters in the string\n",
    "print(\"First line contains: %r which contains %d characters (including newline)\" %(transaction, len(transaction)))\n",
    "# move the cursor back to the beginning of the file\n",
    "in_file.seek(0,0) \n",
    "print(\"File cursor is at position: %d\" %(in_file.tell()))\n",
    "in_file.close()"
   ]
  },
  {
   "cell_type": "markdown",
   "metadata": {},
   "source": [
    "Note: In the code above I used a built-in function called [`len()`](https://docs.python.org/3/library/functions.html#len). `len()` accepts a string as an argument and returns the number of characters in the string.\n",
    "\n",
    "Digression: On Windows, newlines are actually represented by \\r\\n (carriage return and newline). Python combines the carriage return and newline for us so we don't have to worry about this. Knowing this least helps explain the cursor position of 7 above.\n",
    "\n",
    "|Position|0|1|2|3|4|5|6|7|8|...|\n",
    "|-|-|-|-|-|-|-|-|-|-|-|\n",
    "|Character|1|3|.|4|2|\\r|\\n|2|7|...|\n",
    "\n",
    "We can remove whitespace characters (like \\n and \\r) with a call to a string function `strip()`:"
   ]
  },
  {
   "cell_type": "markdown",
   "metadata": {},
   "source": [
    "## Removing Leading and Trailing Whitespace Characters\n",
    "We can remove whitespace characters (like `\\n`) with a call to a string function `strip()`:"
   ]
  },
  {
   "cell_type": "code",
   "execution_count": 18,
   "metadata": {},
   "outputs": [
    {
     "name": "stdout",
     "output_type": "stream",
     "text": [
      "First line:  '13.42\\n'\n",
      "First line stripping leading/trailing whitespace characters:  '13.42'\n"
     ]
    }
   ],
   "source": [
    "in_file = open(r\"files\\transactions.txt\", \"r\")\n",
    "\n",
    "# read data from the file advances the cursor by a certain number of bytes, \n",
    "# depending on the number of characters in the line\n",
    "transaction = in_file.readline()\n",
    "\n",
    "# repr() displays all characters in a string. we use it see the newline character as \\n\n",
    "print(\"First line: \", repr(transaction))\n",
    "in_file.close()\n",
    "print(\"First line stripping leading/trailing whitespace characters: \", repr(transaction.strip()))"
   ]
  },
  {
   "cell_type": "markdown",
   "metadata": {},
   "source": [
    "## Revisiting `print()`\n",
    "There are several ways to print strings with the `print()` function. It is helpful to be aware of other printing approaches, especially when you want to format output a particular way. Check out these different ways to print:"
   ]
  },
  {
   "cell_type": "code",
   "execution_count": 19,
   "metadata": {},
   "outputs": [
    {
     "name": "stdout",
     "output_type": "stream",
     "text": [
      "Integer: 7, Float: 8.489890, Float with 1 decimal: 3.1, String: :)\n",
      "4 5.5 :P 8\n",
      "A comma, separated, list\n",
      "A string without the added newline characterThis sentence runs into the previous!\n",
      "An alternative form of placholders 10.0. You can also use keywords cpts215\n"
     ]
    }
   ],
   "source": [
    "# format string and placeholders\n",
    "print(\"Integer: %d, Float: %f, Float with 1 decimal: %.1f, String: %s\" %(7, 8.4898899, 3.14, \":)\"))\n",
    "\n",
    "# arguments displayed separated by spaces\n",
    "print(4, 5.5, \":P\", 8)\n",
    "# specifying the delimiter between arguments (a comma and a space)\n",
    "print(\"A comma\", \"separated\", \"list\", sep=\", \")\n",
    "\n",
    "# specifying the string concatenated to the end\n",
    "print(\"A string without the added newline character\", end=\"\")\n",
    "print(\"This sentence runs into the previous\", end=\"!\\n\")\n",
    "\n",
    "# https://docs.python.org/3/library/string.html\n",
    "print(\"An {} form of placholders {:.1f}. You can also use keywords {name}\".format(\"alternative\", 9.99, name=\"cpts215\"))\n",
    "\n",
    "# alternative way to write to a file using print() instead of write()\n",
    "outfile = open(r\"files\\out_demo.txt\", \"w\")\n",
    "print(\"Writing this output via print()\", file=outfile)\n",
    "outfile.close()"
   ]
  },
  {
   "cell_type": "markdown",
   "metadata": {},
   "source": [
    "## Practice Problem\n",
    "For the following problems, we will need to download a file: [words.txt](https://raw.githubusercontent.com/gsprint23/aha/master/lessons/files/words.txt). This file contains 113,809 official crossword words, one per line. Using words.txt, write a program with the following functionality:\n",
    "1. A function called `open_input_file()` that opens words.txt for reading and returns the file object associated with words.txt\n",
    "1. A function called `close_file()` that accepts the file object as an argument and closes the file\n",
    "1. A function called `first_five_words()` that displays the first 5 words of the file. Try to display the words one on each line, without an extra newline between the words like:\n",
    "```\n",
    "aa\n",
    "aah\n",
    "aahed\n",
    "aahing\n",
    "aahs\n",
    "```\n",
    "Hint: read the [Python input/output tutorial](https://docs.python.org/3/tutorial/inputoutput.html) for more info about how to do this with `print()`."
   ]
  },
  {
   "cell_type": "code",
   "execution_count": 20,
   "metadata": {},
   "outputs": [
    {
     "name": "stdout",
     "output_type": "stream",
     "text": [
      "aa\n",
      "aah\n",
      "aahed\n",
      "aahing\n",
      "aahs\n"
     ]
    }
   ],
   "source": [
    "def open_input_file(fname):\n",
    "    '''\n",
    "    \n",
    "    '''\n",
    "    in_file = open(fname, \"r\")\n",
    "    return in_file\n",
    "\n",
    "def close_file(file_2_close):\n",
    "    '''\n",
    "    \n",
    "    '''\n",
    "    file_2_close.close()\n",
    "    \n",
    "def first_five_words(in_file):\n",
    "    '''\n",
    "    \n",
    "    '''\n",
    "    for i in range(5):\n",
    "        print(in_file.readline(), end=\"\")\n",
    "\n",
    "def main():\n",
    "    '''\n",
    "    \n",
    "    '''\n",
    "    fin = open_input_file(r\"files\\words.txt\")\n",
    "    first_five_words(fin)\n",
    "    close_file(fin)\n",
    "    \n",
    "main()"
   ]
  },
  {
   "cell_type": "markdown",
   "metadata": {},
   "source": [
    "## Strings\n",
    "A long time ago, we learned a string is a *sequence of characters*. We learned how to use strings in print statements, how to assign a string to a variable, how to typecast to a string using `str()`."
   ]
  },
  {
   "cell_type": "code",
   "execution_count": 6,
   "metadata": {},
   "outputs": [
    {
     "name": "stdout",
     "output_type": "stream",
     "text": [
      "PYTHON\n",
      "PYTHON\n",
      "PYTHON 100.0\n"
     ]
    }
   ],
   "source": [
    "print(\"PYTHON\")\n",
    "my_string = \"PYTHON\"\n",
    "print(my_string)\n",
    "print(\"%s %s\" %(my_string, str(100.0)))"
   ]
  },
  {
   "cell_type": "markdown",
   "metadata": {},
   "source": [
    "### String Concatenation\n",
    "We also learned how to make new strings using string concatenation (the `+` operator): `new_string = old_string1 + old_string2`:"
   ]
  },
  {
   "cell_type": "code",
   "execution_count": 7,
   "metadata": {},
   "outputs": [
    {
     "name": "stdout",
     "output_type": "stream",
     "text": [
      "cpts215 uses PYTHON!\n"
     ]
    }
   ],
   "source": [
    "new_string = \"cpts\" + \"215\" + \" uses \" + my_string + \"!\"\n",
    "print(new_string)"
   ]
  },
  {
   "cell_type": "markdown",
   "metadata": {},
   "source": [
    "### Strings and `for` Loops\n",
    "More recently, we learned about sequences in the context of `for` loops:\n",
    "\n",
    "```for <item> in <sequence>:\n",
    "    <body>\n",
    "```\n",
    "\n",
    "We can also use `for` loops to iterate through each character in a string:"
   ]
  },
  {
   "cell_type": "code",
   "execution_count": 8,
   "metadata": {},
   "outputs": [
    {
     "name": "stdout",
     "output_type": "stream",
     "text": [
      "P Y T H O N "
     ]
    }
   ],
   "source": [
    "for character in \"PYTHON\":\n",
    "    print(character, end=\" \")"
   ]
  },
  {
   "cell_type": "markdown",
   "metadata": {},
   "source": [
    "## String Indexing\n",
    "Logically, the string `\"PYTHON\"` is organized as follows:\n",
    "\n",
    "|Index:|0|1|2|3|4|5|\n",
    "|-|-|-|-|-|-|-|\n",
    "|Character:|P|Y|T|H|O|N|\n",
    "\n",
    "In general, a string that has `n` characters has valid indices of 0, 1, ..., `n` - 1.\n",
    "\n",
    "We can access a single character in the string using indexing notation: `[<index>]` (hard brackets):"
   ]
  },
  {
   "cell_type": "code",
   "execution_count": 10,
   "metadata": {},
   "outputs": [
    {
     "name": "stdout",
     "output_type": "stream",
     "text": [
      "P\n",
      "N\n",
      "N\n"
     ]
    }
   ],
   "source": [
    "my_string = \"PYTHON\"\n",
    "\n",
    "print(my_string[0])\n",
    "print(my_string[5])\n",
    "print(my_string[-1])"
   ]
  },
  {
   "cell_type": "markdown",
   "metadata": {},
   "source": [
    "## String Length\n",
    "We can find out the length of a string, meaning the number of characters in the string, by calling the built-in string `len(<string>)` function:"
   ]
  },
  {
   "cell_type": "code",
   "execution_count": 11,
   "metadata": {},
   "outputs": [
    {
     "name": "stdout",
     "output_type": "stream",
     "text": [
      "The length of PYTHON is: 6\n"
     ]
    }
   ],
   "source": [
    "length = len(my_string)\n",
    "print(\"The length of %s is: %d\" %(my_string, length))"
   ]
  },
  {
   "cell_type": "markdown",
   "metadata": {},
   "source": [
    "## String Slicing\n",
    "We can use the `:` operator to select a *slice* of a string: `<string variable>[start_index:end_index + 1]`\n",
    "\n",
    "For example:"
   ]
  },
  {
   "cell_type": "code",
   "execution_count": 12,
   "metadata": {},
   "outputs": [
    {
     "name": "stdout",
     "output_type": "stream",
     "text": [
      "YT\n",
      "215\n"
     ]
    }
   ],
   "source": [
    "# Get the YT of PYTHON\n",
    "print(my_string[1:3])\n",
    "\n",
    "course = \"CptS215\"\n",
    "\n",
    "# get a slice of the 215\n",
    "course_num = course[4:7]\n",
    "print(course_num)"
   ]
  },
  {
   "cell_type": "markdown",
   "metadata": {},
   "source": [
    "Omitting the start index implies a 0 for a start index and omitting an end index implies a `len(<string variable>)` for an end index:"
   ]
  },
  {
   "cell_type": "code",
   "execution_count": 9,
   "metadata": {},
   "outputs": [
    {
     "name": "stdout",
     "output_type": "stream",
     "text": [
      "PY\n",
      "PY\n",
      "THON\n",
      "THON\n"
     ]
    }
   ],
   "source": [
    "# these two are the same\n",
    "print(my_string[0:2])\n",
    "print(my_string[:2])\n",
    "\n",
    "# these two are the same\n",
    "print(my_string[2:len(my_string)])\n",
    "print(my_string[2:])"
   ]
  },
  {
   "cell_type": "markdown",
   "metadata": {},
   "source": [
    "Note: We can also use negative indices! The last index of a string is -1, the second to last index is -2, and so on, until the first index is `-len(<string variable>)`\n",
    "\n",
    "|Index:|0|1|2|3|4|5|\n",
    "|-|-|-|-|-|-|-|\n",
    "|Character:|P|Y|T|H|O|N|\n",
    "|Index:|-6|-5|-4|-3|-2|-1|"
   ]
  },
  {
   "cell_type": "code",
   "execution_count": 10,
   "metadata": {},
   "outputs": [
    {
     "name": "stdout",
     "output_type": "stream",
     "text": [
      "N\n",
      "P\n"
     ]
    }
   ],
   "source": [
    "print(my_string[-1])\n",
    "print(my_string[-6])"
   ]
  },
  {
   "cell_type": "markdown",
   "metadata": {},
   "source": [
    "## Immutability of Strings\n",
    "Strings are *immutable*, meaning they can't be changed. This means we cannot re-assign a character of a string:"
   ]
  },
  {
   "cell_type": "code",
   "execution_count": 13,
   "metadata": {},
   "outputs": [
    {
     "ename": "TypeError",
     "evalue": "'str' object does not support item assignment",
     "output_type": "error",
     "traceback": [
      "\u001b[1;31m---------------------------------------------------------------------------\u001b[0m",
      "\u001b[1;31mTypeError\u001b[0m                                 Traceback (most recent call last)",
      "\u001b[1;32m<ipython-input-13-12bd1ac7aa74>\u001b[0m in \u001b[0;36m<module>\u001b[1;34m()\u001b[0m\n\u001b[0;32m      1\u001b[0m \u001b[1;31m# crashes because strings are immutable\u001b[0m\u001b[1;33m\u001b[0m\u001b[1;33m\u001b[0m\u001b[0m\n\u001b[1;32m----> 2\u001b[1;33m \u001b[0mmy_string\u001b[0m\u001b[1;33m[\u001b[0m\u001b[1;36m0\u001b[0m\u001b[1;33m]\u001b[0m \u001b[1;33m=\u001b[0m \u001b[1;34m\"p\"\u001b[0m\u001b[1;33m\u001b[0m\u001b[0m\n\u001b[0m",
      "\u001b[1;31mTypeError\u001b[0m: 'str' object does not support item assignment"
     ]
    }
   ],
   "source": [
    "# crashes because strings are immutable\n",
    "my_string[0] = \"p\""
   ]
  },
  {
   "cell_type": "markdown",
   "metadata": {},
   "source": [
    "To \"change\" a string (remember strings are immutable), we can make a new string that is a variant of the old string:"
   ]
  },
  {
   "cell_type": "code",
   "execution_count": 14,
   "metadata": {},
   "outputs": [
    {
     "name": "stdout",
     "output_type": "stream",
     "text": [
      "pYTHON\n"
     ]
    }
   ],
   "source": [
    "new_string = \"p\" + my_string[1:]\n",
    "print(new_string)"
   ]
  },
  {
   "cell_type": "markdown",
   "metadata": {},
   "source": [
    "## String Comparison\n",
    "Often we need to compare 2 strings in order to determine if the strings are equal or not (e.g. a 20 questions game or a hang man game). We can use string comparison operators to do this:\n",
    "* == (equality)\n",
    "* != (not equal)\n",
    "* < > (less than or greater than)\n",
    "\n",
    "Note: String comparisons are performed by comparing character [Unicode values](http://dev.networkerror.org/utf8/?start=33&end=133&cols=4&search=&show_uni_int=on&show_uni_hex=on&show_html_ent=on&show_raw_hex=on&show_raw_bin=on), index by index."
   ]
  },
  {
   "cell_type": "code",
   "execution_count": 15,
   "metadata": {},
   "outputs": [
    {
     "name": "stdout",
     "output_type": "stream",
     "text": [
      "True\n",
      "False\n",
      "False\n",
      "True\n"
     ]
    }
   ],
   "source": [
    "print(\"cpts\" == \"cpts\")\n",
    "print(\"cpts\" == \"CptS\")\n",
    "print(\"cpts\" < \"CptS\")\n",
    "print(\"cpts\" > \"CptS\")"
   ]
  },
  {
   "cell_type": "markdown",
   "metadata": {},
   "source": [
    "## String Methods\n",
    "A function that is associated with an object is called a *method*. To call a method, we use the form `<object>.<method name>()`. We have been using methods when we interact with file objects. Recall:\n",
    "\n",
    "```\n",
    "file_object = open(\"file.txt\", \"r\")\n",
    "line = file_object.readline()\n",
    "file_object.close()\n",
    "```\n",
    "\n",
    "There are several string methods that provide useful string operations. To use a string object method, we use the form `<string variable>.<method name>()`. For example, we have been using the string method `strip()`:"
   ]
  },
  {
   "cell_type": "code",
   "execution_count": 16,
   "metadata": {},
   "outputs": [
    {
     "name": "stdout",
     "output_type": "stream",
     "text": [
      "python\n"
     ]
    }
   ],
   "source": [
    "my_string = \"           python           \"\n",
    "my_string = my_string.strip()\n",
    "print(my_string)"
   ]
  },
  {
   "cell_type": "markdown",
   "metadata": {},
   "source": [
    "Useful string method functions include (but are not limited to):\n",
    "* `upper()`: returns the string in uppercase\n",
    "* `lower()`: returns the string in lowercase\n",
    "* `find(<character to find>)`: returns the index of `<character to find>` if `<character to find>` is in the string\n",
    "* `replace(<substring to replace>, <string to replace with>)`: returns a string with all occurrences of `<substring to replace>` replaced with `<string to replace with>`\n",
    "\n",
    "Read more about string methods in the [Python documentation](https://docs.python.org/3.1/library/stdtypes.html#string-methods)"
   ]
  }
 ],
 "metadata": {
  "anaconda-cloud": {},
  "kernelspec": {
   "display_name": "Python 3",
   "language": "python",
   "name": "python3"
  },
  "language_info": {
   "codemirror_mode": {
    "name": "ipython",
    "version": 3
   },
   "file_extension": ".py",
   "mimetype": "text/x-python",
   "name": "python",
   "nbconvert_exporter": "python",
   "pygments_lexer": "ipython3",
   "version": "3.7.1"
  }
 },
 "nbformat": 4,
 "nbformat_minor": 1
}
