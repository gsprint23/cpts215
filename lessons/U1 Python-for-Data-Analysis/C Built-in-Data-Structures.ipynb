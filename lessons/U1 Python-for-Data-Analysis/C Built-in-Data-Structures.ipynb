{
 "cells": [
  {
   "cell_type": "markdown",
   "metadata": {},
   "source": [
    "# [CptS 215 Data Analytics Systems and Algorithms](https://github.com/gsprint23/cpts215)\n",
    "[Washington State University](https://wsu.edu)\n",
    "\n",
    "[Gina Sprint](http://eecs.wsu.edu/~gsprint/)\n",
    "# Built-in Data Structures\n",
    "\n",
    "Learner objectives for this lesson:\n",
    "* Work with commonly used built-in Python data structures\n",
    "    * Strings\n",
    "    * Lists\n",
    "    * Tuples\n",
    "    * Dictionaries\n",
    "* Learn about object aliasing\n",
    "* Pass arguments into programs via command line arguments\n",
    "\n",
    "Content used in this lesson is based upon information in the following sources:\n",
    "* None to report"
   ]
  },
  {
   "cell_type": "markdown",
   "metadata": {
    "collapsed": true
   },
   "source": [
    "## Review of Strings\n",
    "Recall a string is a *sequence of characters*. In Python, we can have sequences of items other than characters. For example, we can have sequences of:\n",
    "* Numbers\n",
    "    * Integers\n",
    "    * Floats\n",
    "* Objects\n",
    "    * Strings\n",
    "    * Files\n",
    "    * Turtles\n",
    "    * Our own objects we define ourselves (to be learned later, stay tuned!)"
   ]
  },
  {
   "cell_type": "markdown",
   "metadata": {},
   "source": [
    "## Lists\n",
    "A list is a *sequence of items*. In a string, the items are characters. In a list, they can be any type. Items in a list are also called *elements*.\n",
    "\n",
    "We declare a sequence of items as a list with hard brackets: `[<comma separated list items>]`"
   ]
  },
  {
   "cell_type": "code",
   "execution_count": 1,
   "metadata": {},
   "outputs": [
    {
     "name": "stdout",
     "output_type": "stream",
     "text": [
      "[0, 1, 10, 20]\n",
      "[0.2, 0.4, 0.6, 1.0]\n",
      "[0, 0.0, 1, 1.0, -2]\n",
      "['cat', 'dog', 'bird']\n"
     ]
    }
   ],
   "source": [
    "list_ints = [0, 1, 10, 20]\n",
    "print(list_ints)\n",
    "\n",
    "list_floats = [0.2, 0.4, 0.6, 1.0]\n",
    "print(list_floats)\n",
    "\n",
    "# types can be mixed in a list\n",
    "list_numbers = [0, 0.0, 1, 1.0, -2]\n",
    "print(list_numbers)\n",
    "\n",
    "list_strings = [\"cat\", \"dog\", \"bird\"]\n",
    "print(list_strings)"
   ]
  },
  {
   "cell_type": "markdown",
   "metadata": {},
   "source": [
    "Note: the data types in a list need not all be the same.\n",
    "\n",
    "### List Indexing\n",
    "Just like with strings, list indices are 0-based. We can index into a list to access a list item just like how we indexed into a string to get an individual character:"
   ]
  },
  {
   "cell_type": "code",
   "execution_count": 4,
   "metadata": {},
   "outputs": [
    {
     "name": "stdout",
     "output_type": "stream",
     "text": [
      "0\n"
     ]
    }
   ],
   "source": [
    "print(list_ints[0])"
   ]
  },
  {
   "cell_type": "markdown",
   "metadata": {},
   "source": [
    "### List Length\n",
    "We can also use then `len()` function to determine the number of items in a list:"
   ]
  },
  {
   "cell_type": "code",
   "execution_count": 5,
   "metadata": {},
   "outputs": [
    {
     "name": "stdout",
     "output_type": "stream",
     "text": [
      "3\n",
      "bird\n"
     ]
    }
   ],
   "source": [
    "print(len(list_strings))\n",
    "print(list_strings[len(list_strings) - 1])"
   ]
  },
  {
   "cell_type": "markdown",
   "metadata": {},
   "source": [
    "### The Empty List\n",
    "Just like how we can have an empty string (`\"\"`), a string with no characters, we can have an empty list (`[]`). An empty list has no items."
   ]
  },
  {
   "cell_type": "code",
   "execution_count": 10,
   "metadata": {},
   "outputs": [
    {
     "name": "stdout",
     "output_type": "stream",
     "text": [
      "0\n"
     ]
    }
   ],
   "source": [
    "empty_list = []\n",
    "print(len(empty_list))"
   ]
  },
  {
   "cell_type": "markdown",
   "metadata": {},
   "source": [
    "### Nested Lists\n",
    "We can have lists of lists!"
   ]
  },
  {
   "cell_type": "code",
   "execution_count": 4,
   "metadata": {},
   "outputs": [
    {
     "name": "stdout",
     "output_type": "stream",
     "text": [
      "[[0, 1], [2], [3], [4, 5]]\n"
     ]
    }
   ],
   "source": [
    "nested_list = [[0, 1], [2], [3], [4, 5], []]\n",
    "print(nested_list)"
   ]
  },
  {
   "cell_type": "markdown",
   "metadata": {},
   "source": [
    "Note: the sub-lists can be of unequal lengths.\n",
    "\n",
    "Now, consider the following nested list:\n",
    "\n",
    "`matrix = [[1, 2, 3], [4, 5, 6], [7, 8, 9]]`\n",
    "\n",
    "Logically, `matrix` looks like the following:\n",
    "\n",
    "|Column Index:||||\n",
    "|-|-|-|-|\n",
    "||**0**|**1**|**2**|\n",
    "|**Row Index**||||\n",
    "|**0:**|1|2|3|\n",
    "|**1:**|4|5|6|\n",
    "|**2:**|7|8|9|\n",
    "\n",
    "To access an item in a 2-dimensional nested list, we index into the `<nested list variable>` twice: `<nested list variable>[row_index][column_index]` by row first then column. For example: "
   ]
  },
  {
   "cell_type": "code",
   "execution_count": 6,
   "metadata": {},
   "outputs": [
    {
     "name": "stdout",
     "output_type": "stream",
     "text": [
      "[[1, 2, 3], [4, 5, 6], [7, 8, 9]]\n",
      "1\n",
      "9\n",
      "8\n"
     ]
    }
   ],
   "source": [
    "matrix = [[1, 2, 3], [4, 5, 6], [7, 8, 9]]\n",
    "print(matrix)\n",
    "# the first element in the first list\n",
    "print(matrix[0][0])\n",
    "# the last element in the last list\n",
    "print(matrix[2][2])\n",
    "# the middle element in the last list (8)\n",
    "print(matrix[2][1])"
   ]
  },
  {
   "cell_type": "markdown",
   "metadata": {},
   "source": [
    "### Lists are Mutable\n",
    "Unlike strings, we can change the items in a list:"
   ]
  },
  {
   "cell_type": "code",
   "execution_count": 8,
   "metadata": {},
   "outputs": [
    {
     "name": "stdout",
     "output_type": "stream",
     "text": [
      "['Sloan', 'EME', 'Dana', 'ETRL']\n",
      "['Sloan', 'EME', 'Carpenter', 'ETRL']\n"
     ]
    }
   ],
   "source": [
    "buildings = [\"Sloan\", \"EME\", \"Dana\", \"ETRL\"]\n",
    "print(buildings)\n",
    "\n",
    "# modify the list\n",
    "buildings[2] = \"Carpenter\"\n",
    "print(buildings)"
   ]
  },
  {
   "cell_type": "markdown",
   "metadata": {},
   "source": [
    "Note: We still cannot change a string. Strings are immutable!"
   ]
  },
  {
   "cell_type": "markdown",
   "metadata": {},
   "source": [
    "## Looping Through List Items\n",
    "Just like with strings, we can use the `in` operator or indices to iterate through items in a list:"
   ]
  },
  {
   "cell_type": "code",
   "execution_count": 6,
   "metadata": {},
   "outputs": [
    {
     "name": "stdout",
     "output_type": "stream",
     "text": [
      "twix\n",
      "reeses\n",
      "oreos\n",
      "snickers\n",
      "twix\n",
      "reeses\n",
      "oreos\n",
      "snickers\n",
      "twix\n",
      "reeses\n",
      "oreos\n",
      "snickers\n"
     ]
    }
   ],
   "source": [
    "candies = [\"twix\", \"reeses\", \"oreos\", \"snickers\"]\n",
    "\n",
    "for candy in candies:\n",
    "    print(candy)\n",
    "    \n",
    "i = 0\n",
    "while i < len(candies):\n",
    "    print(candies[i])\n",
    "    i += 1\n",
    "    \n",
    "i = 0\n",
    "for i in range(len(candies)):\n",
    "    print(candies[i])"
   ]
  },
  {
   "cell_type": "markdown",
   "metadata": {},
   "source": [
    "## List Operators\n",
    "### List Concatenation\n",
    "Just like with strings, we can use the concatenation `+` operator to add lists together:"
   ]
  },
  {
   "cell_type": "code",
   "execution_count": 23,
   "metadata": {},
   "outputs": [
    {
     "name": "stdout",
     "output_type": "stream",
     "text": [
      "['twix', 'reeses', 'oreos', 'peach rings']\n",
      "['twix', 'reeses', 'oreos', 'peach rings', 'm&ms', 'starburst']\n"
     ]
    }
   ],
   "source": [
    "candies = [\"twix\", \"reeses\", \"oreos\", \"peach rings\"]\n",
    "\n",
    "print(candies)\n",
    "candies += [\"m&ms\", \"starburst\"]\n",
    "print(candies)"
   ]
  },
  {
   "cell_type": "markdown",
   "metadata": {},
   "source": [
    "### List Repetition\n",
    "Just like with strings, we can repeat items in a list with the repetition `*` operator:"
   ]
  },
  {
   "cell_type": "code",
   "execution_count": 24,
   "metadata": {},
   "outputs": [
    {
     "name": "stdout",
     "output_type": "stream",
     "text": [
      "['twix', 'twix', 'twix', 'twix', 'twix']\n",
      "['twix', 'twix', 'twix', 'twix', 'twix', 'peach rings', 'peach rings', 'peach rings']\n"
     ]
    }
   ],
   "source": [
    "bag_o_candies = 5 * [\"twix\"]\n",
    "print(bag_o_candies)\n",
    "\n",
    "bag_o_candies += 3 * [\"peach rings\"]\n",
    "print(bag_o_candies)"
   ]
  },
  {
   "cell_type": "markdown",
   "metadata": {},
   "source": [
    "### List Slicing\n",
    "Just like with strings, we can use the slice operator `:` with lists:"
   ]
  },
  {
   "cell_type": "code",
   "execution_count": 8,
   "metadata": {},
   "outputs": [
    {
     "name": "stdout",
     "output_type": "stream",
     "text": [
      "['reeses', 'oreos']\n",
      "['twix', 'reeses', 'oreos', 'snickers']\n",
      "False\n",
      "True\n"
     ]
    }
   ],
   "source": [
    "print(candies[1:3])\n",
    "# returns a copy\n",
    "print(candies[:])"
   ]
  },
  {
   "cell_type": "markdown",
   "metadata": {},
   "source": [
    "However, since lists are mutable, we can now change multiple items in a list at a time using slices:"
   ]
  },
  {
   "cell_type": "code",
   "execution_count": 22,
   "metadata": {},
   "outputs": [
    {
     "name": "stdout",
     "output_type": "stream",
     "text": [
      "['twix', 'reeses', 'oreos', 'peach rings']\n",
      "['twix', 'reeses', 'oreos', 'butterfinger', 'heath', 'swedish fish']\n",
      "['carmello', 'airheads', 'oreos', 'butterfinger', 'heath', 'swedish fish']\n"
     ]
    }
   ],
   "source": [
    "candies = [\"twix\", \"reeses\", \"oreos\", \"peach rings\"]\n",
    "print(candies)\n",
    "candies[3:] = [\"butterfinger\", \"heath\", \"swedish fish\"]\n",
    "print(candies)\n",
    "candies[0:2] = [\"carmello\", \"airheads\"]\n",
    "print(candies)"
   ]
  },
  {
   "cell_type": "markdown",
   "metadata": {},
   "source": [
    "## List Methods\n",
    "Just like with strings, lists are objects that have methods we can utilize. \n",
    "\n",
    "### `append()`\n",
    "For example, since lists are mutable, there is an `append(<new item>)` method to add an item to the end of a list:"
   ]
  },
  {
   "cell_type": "code",
   "execution_count": 3,
   "metadata": {},
   "outputs": [
    {
     "name": "stdout",
     "output_type": "stream",
     "text": [
      "['Pullman', 'Spokane']\n",
      "['Pullman', 'Spokane', 'Seattle']\n",
      "['Pullman', 'Spokane', 'Seattle', 'Moscow']\n"
     ]
    }
   ],
   "source": [
    "cities = [\"Pullman\", \"Spokane\"]\n",
    "print(cities)\n",
    "\n",
    "# adds the string as an item\n",
    "cities.append(\"Seattle\")\n",
    "print(cities)\n",
    "\n",
    "# adds the list as an item\n",
    "cities.append(\"Moscow\")\n",
    "print(cities)"
   ]
  },
  {
   "cell_type": "markdown",
   "metadata": {},
   "source": [
    "As review, how could we achieve the same functionality as `append()` without using `append()`?"
   ]
  },
  {
   "cell_type": "code",
   "execution_count": null,
   "metadata": {
    "collapsed": true
   },
   "outputs": [],
   "source": [
    "cities = [\"Pullman\", \"Spokane\"]\n",
    "print(cities)\n",
    "\n",
    "# adds the strings as an item\n",
    "cities += [\"Seattle\"]\n",
    "print(cities)"
   ]
  },
  {
   "cell_type": "markdown",
   "metadata": {},
   "source": [
    "### `extend()`\n",
    "`extend()` is similar to `append()`; however, `extend()` takes a list as an argument and adds each item to the list:"
   ]
  },
  {
   "cell_type": "code",
   "execution_count": 4,
   "metadata": {},
   "outputs": [
    {
     "name": "stdout",
     "output_type": "stream",
     "text": [
      "['Pullman', 'Spokane']\n",
      "['Pullman', 'Spokane', 'Seattle', \"Couer d'Alene\"]\n"
     ]
    }
   ],
   "source": [
    "cities = [\"Pullman\", \"Spokane\"]\n",
    "print(cities)\n",
    "\n",
    "# adds each string in the list as an item\n",
    "cities.extend([\"Seattle\", \"Couer d'Alene\"])\n",
    "print(cities)"
   ]
  },
  {
   "cell_type": "markdown",
   "metadata": {},
   "source": [
    "What would happen if we used `append()` instead of `extend()` in the above code?"
   ]
  },
  {
   "cell_type": "code",
   "execution_count": 5,
   "metadata": {},
   "outputs": [
    {
     "name": "stdout",
     "output_type": "stream",
     "text": [
      "['Pullman', 'Spokane']\n",
      "['Pullman', 'Spokane', ['Seattle', \"Couer d'Alene\"]]\n"
     ]
    }
   ],
   "source": [
    "cities = [\"Pullman\", \"Spokane\"]\n",
    "print(cities)\n",
    "cities.append([\"Seattle\", \"Couer d'Alene\"])\n",
    "print(cities)"
   ]
  },
  {
   "cell_type": "markdown",
   "metadata": {},
   "source": [
    "`cities` becomes a nested list!"
   ]
  },
  {
   "cell_type": "markdown",
   "metadata": {},
   "source": [
    "### `sort()`\n",
    "Many applications require lists of items to be sorted. In CptS121, you will learn how to write your own sorting algorithms. For now, we will use the `sort()` list method:"
   ]
  },
  {
   "cell_type": "code",
   "execution_count": 6,
   "metadata": {},
   "outputs": [
    {
     "name": "stdout",
     "output_type": "stream",
     "text": [
      "['Pullman', 'Spokane', 'Seattle', \"Couer d'Alene\"]\n",
      "[\"Couer d'Alene\", 'Pullman', 'Seattle', 'Spokane']\n"
     ]
    }
   ],
   "source": [
    "cities = [\"Pullman\", \"Spokane\", \"Seattle\", \"Couer d'Alene\"]\n",
    "print(cities)\n",
    "\n",
    "# ascending order\n",
    "cities.sort()\n",
    "print(cities)"
   ]
  },
  {
   "cell_type": "markdown",
   "metadata": {},
   "source": [
    "How would you sort a list in descending order? Try using `help(cities.sort)` to find out:"
   ]
  },
  {
   "cell_type": "code",
   "execution_count": 7,
   "metadata": {},
   "outputs": [
    {
     "name": "stdout",
     "output_type": "stream",
     "text": [
      "Help on built-in function sort:\n",
      "\n",
      "sort(...) method of builtins.list instance\n",
      "    L.sort(key=None, reverse=False) -> None -- stable sort *IN PLACE*\n",
      "\n"
     ]
    }
   ],
   "source": [
    "help(cities.sort)"
   ]
  },
  {
   "cell_type": "code",
   "execution_count": 8,
   "metadata": {},
   "outputs": [
    {
     "name": "stdout",
     "output_type": "stream",
     "text": [
      "[\"Couer d'Alene\", 'Pullman', 'Seattle', 'Spokane']\n",
      "['Spokane', 'Seattle', 'Pullman', \"Couer d'Alene\"]\n"
     ]
    }
   ],
   "source": [
    "print(cities)\n",
    "cities.sort(reverse=True)\n",
    "print(cities)"
   ]
  },
  {
   "cell_type": "markdown",
   "metadata": {},
   "source": [
    "## Deleting Items in a List\n",
    "Since lists are mutable, we can delete items in a list. \n",
    "\n",
    "### Single Item Deletes\n",
    "We have two list methods to delete a *single* item in a list\n",
    "1. When you know the *index* of the item to delete\n",
    "    * `pop(<index>)`\n",
    "1. When you know the *value* of the item to delete\n",
    "    * `remove(<item>)`"
   ]
  },
  {
   "cell_type": "code",
   "execution_count": 9,
   "metadata": {},
   "outputs": [
    {
     "name": "stdout",
     "output_type": "stream",
     "text": [
      "Seattle\n",
      "['Pullman', 'Spokane', \"Couer d'Alene\"]\n",
      "['Pullman', \"Couer d'Alene\"]\n"
     ]
    }
   ],
   "source": [
    "cities = [\"Pullman\", \"Spokane\", \"Seattle\", \"Couer d'Alene\"]\n",
    "\n",
    "# pop returns the item removed\n",
    "city = cities.pop(2)\n",
    "print(city)\n",
    "print(cities)\n",
    "\n",
    "# remove does not return the item removed\n",
    "cities.remove(\"Spokane\")\n",
    "print(cities)"
   ]
  },
  {
   "cell_type": "markdown",
   "metadata": {},
   "source": [
    "### `del` Keyword and Multiple Item Deletes\n",
    "Alternatively, we can delete an object using the `del` reserved keyword:"
   ]
  },
  {
   "cell_type": "code",
   "execution_count": 10,
   "metadata": {},
   "outputs": [
    {
     "name": "stdout",
     "output_type": "stream",
     "text": [
      "['Pullman', 'Spokane', 'Seattle', \"Couer d'Alene\"]\n",
      "['Pullman', 'Seattle', \"Couer d'Alene\"]\n"
     ]
    }
   ],
   "source": [
    "cities = [\"Pullman\", \"Spokane\", \"Seattle\", \"Couer d'Alene\"]\n",
    "print(cities)\n",
    "\n",
    "# del is not a function\n",
    "del cities[1]\n",
    "print(cities)"
   ]
  },
  {
   "cell_type": "markdown",
   "metadata": {},
   "source": [
    "We may want to delete multiple items at a time. We can do this with a slice and `del`:"
   ]
  },
  {
   "cell_type": "code",
   "execution_count": 11,
   "metadata": {},
   "outputs": [
    {
     "name": "stdout",
     "output_type": "stream",
     "text": [
      "['Pullman', 'Spokane', 'Seattle', \"Couer d'Alene\"]\n",
      "[\"Couer d'Alene\"]\n"
     ]
    }
   ],
   "source": [
    "cities = [\"Pullman\", \"Spokane\", \"Seattle\", \"Couer d'Alene\"]\n",
    "print(cities)\n",
    "\n",
    "del cities[0:3]\n",
    "print(cities)"
   ]
  },
  {
   "cell_type": "markdown",
   "metadata": {},
   "source": [
    "### Relationship Between Strings and Lists\n",
    "A list of single character strings is not a string:"
   ]
  },
  {
   "cell_type": "code",
   "execution_count": 12,
   "metadata": {},
   "outputs": [
    {
     "name": "stdout",
     "output_type": "stream",
     "text": [
      "['c', 'p', 't', 's', '1', '1', '1']\n"
     ]
    }
   ],
   "source": [
    "my_list = [\"c\", \"p\", \"t\", \"s\", \"1\", \"1\", \"1\"]\n",
    "print(\"%s\" %(my_list))"
   ]
  },
  {
   "cell_type": "markdown",
   "metadata": {},
   "source": [
    "### `join()` (string method)\n",
    "However, we can turn a list of strings into a string with the `join()` string method. We need to specify a \"delimiter\" string to use to concatenate the individual strings in a list into a single string:"
   ]
  },
  {
   "cell_type": "code",
   "execution_count": 1,
   "metadata": {},
   "outputs": [
    {
     "name": "stdout",
     "output_type": "stream",
     "text": [
      "cpts215\n",
      "c:)p:)t:)s:)2:)1:)5\n"
     ]
    }
   ],
   "source": [
    "my_list = [\"c\", \"p\", \"t\", \"s\", \"2\", \"1\", \"5\"]\n",
    "delimiter = '' # empty string\n",
    "my_string = delimiter.join(my_list)\n",
    "print(\"%s\" %(my_string))\n",
    "\n",
    "delimiter = ':)'\n",
    "my_string = delimiter.join(my_list)\n",
    "print(\"%s\" %(my_string))"
   ]
  },
  {
   "cell_type": "markdown",
   "metadata": {},
   "source": [
    "### `list()` (function)\n",
    "To convert the string back into a list, we can type cast the string into a list with `list()`:"
   ]
  },
  {
   "cell_type": "code",
   "execution_count": 14,
   "metadata": {},
   "outputs": [
    {
     "name": "stdout",
     "output_type": "stream",
     "text": [
      "['c', 'p', 't', 's', '2', '1', '5']\n"
     ]
    }
   ],
   "source": [
    "my_string = \"cpts215\"\n",
    "my_list = list(my_string)\n",
    "print(my_list)"
   ]
  },
  {
   "cell_type": "markdown",
   "metadata": {},
   "source": [
    "### `split()` (string method)\n",
    "`split(<string delimiter>)` breaks a string into pieces at each `<string delimiter>`. The pieces are returned as a list: "
   ]
  },
  {
   "cell_type": "code",
   "execution_count": 15,
   "metadata": {},
   "outputs": [
    {
     "name": "stdout",
     "output_type": "stream",
     "text": [
      "['hello', 'how', 'are', 'you']\n"
     ]
    }
   ],
   "source": [
    "sentence = \"hello how are you\"\n",
    "pieces = sentence.split(\" \")\n",
    "print(pieces)"
   ]
  },
  {
   "cell_type": "markdown",
   "metadata": {},
   "source": [
    "## Aliasing\n",
    "When we declare a list variable, as in `list1 = [0, 1, 2, 3]`, a list *object* is created. We say the variable `list1` is a *reference* to the list object `[0, 1, 2, 3]`. In memory, this looks like the following:\n",
    "![](https://raw.githubusercontent.com/gsprint23/cpts215/master/lessons/figures/reference_example.png)\n",
    "\n",
    "If we declare another list variable, `list2 = [0, 1, 2, 3]`, `list2` refers to a *different* list object, even though both objects that `list1` and `list2` refer to contain the same items:\n",
    "![](https://raw.githubusercontent.com/gsprint23/cpts215/master/lessons/figures/references_multiple_example.png)\n",
    "\n",
    "We can test if `list1` and `list2` refer to lists that contain the same elements:"
   ]
  },
  {
   "cell_type": "code",
   "execution_count": 2,
   "metadata": {},
   "outputs": [
    {
     "name": "stdout",
     "output_type": "stream",
     "text": [
      "True\n"
     ]
    }
   ],
   "source": [
    "list1 = [0, 1, 2, 3]\n",
    "list2 = [0, 1, 2, 3]\n",
    "print(list1 == list2)"
   ]
  },
  {
   "cell_type": "markdown",
   "metadata": {},
   "source": [
    "To test if `list1` and `list2` *refer* to the same list object, we can use the Python reserved keyword, `is`. `is` tests whether two variables refer to the same object: "
   ]
  },
  {
   "cell_type": "code",
   "execution_count": 3,
   "metadata": {},
   "outputs": [
    {
     "name": "stdout",
     "output_type": "stream",
     "text": [
      "False\n"
     ]
    }
   ],
   "source": [
    "list1 = [0, 1, 2, 3]\n",
    "list2 = [0, 1, 2, 3]\n",
    "print(list1 is list2)"
   ]
  },
  {
   "cell_type": "markdown",
   "metadata": {},
   "source": [
    "Note: Python is intelligent! Since strings are immutable, only one object is created in the following code:"
   ]
  },
  {
   "cell_type": "code",
   "execution_count": 4,
   "metadata": {},
   "outputs": [
    {
     "name": "stdout",
     "output_type": "stream",
     "text": [
      "True\n",
      "True\n"
     ]
    }
   ],
   "source": [
    "string1 = \"hello\"\n",
    "string2 = \"hello\"\n",
    "print(string1 == string2)\n",
    "print(string1 is string2)"
   ]
  },
  {
   "cell_type": "markdown",
   "metadata": {},
   "source": [
    "In the above code, both `string1` and `string2` refer to the same string object. This phenomenon is called *aliasing*. \n",
    "\n",
    "Let's return to our list example and see aliasing at work. \n",
    "\n",
    "If instead of assigning `list2` to a new list object, we assign `list2` to `list1`: `list2 = list1`, `list2` refers to the same object as `list1`.\n",
    "![](https://raw.githubusercontent.com/gsprint23/cpts215/master/lessons/figures/alias_example.png)\n",
    "\n",
    "We now say the object is *aliased*, because it has more than one reference, or alias.\n",
    "\n",
    "If the aliased object is mutable, either reference can modify the object:"
   ]
  },
  {
   "cell_type": "code",
   "execution_count": 5,
   "metadata": {},
   "outputs": [
    {
     "name": "stdout",
     "output_type": "stream",
     "text": [
      "[0, 1, 2, 3]\n",
      "[0, 1, 2, 3]\n",
      "[0, 1, 100, 3]\n",
      "[0, 1, 100, 3]\n",
      "\n",
      "\n",
      "[0, 1, 2, 3]\n",
      "[0, 1, 2, 3]\n",
      "[0, 1, 2, 3]\n",
      "[0, 1, 100, 3]\n"
     ]
    }
   ],
   "source": [
    "# same object aliased by list1 and list2\n",
    "list1 = [0, 1, 2, 3]\n",
    "list2 = list1\n",
    "print(list1)\n",
    "print(list2)\n",
    "list2[2] = 100\n",
    "print(list1)\n",
    "print(list2)\n",
    "print(\"\\n\")\n",
    "\n",
    "# compared to creating two separate objects list1 and list2\n",
    "list1 = [0, 1, 2, 3]\n",
    "list2 = [0, 1, 2, 3]\n",
    "print(list1)\n",
    "print(list2)\n",
    "list2[2] = 100\n",
    "print(list1)\n",
    "print(list2)"
   ]
  },
  {
   "cell_type": "markdown",
   "metadata": {},
   "source": [
    "Aliasing is important to keep in mind, especially when passing lists as arguments."
   ]
  },
  {
   "cell_type": "markdown",
   "metadata": {},
   "source": [
    "## Lists Arguments\n",
    "We can pass lists into functions as arguments:"
   ]
  },
  {
   "cell_type": "code",
   "execution_count": null,
   "metadata": {
    "collapsed": true
   },
   "outputs": [],
   "source": [
    "def pretty_print_list(list_to_print):\n",
    "    '''\n",
    "    \n",
    "    '''\n",
    "    for value in list_to_print:\n",
    "        print(value, end=\" \")\n",
    "\n",
    "numbers = [0.0, 0.2, 0.4]\n",
    "pretty_print_list(numbers)"
   ]
  },
  {
   "cell_type": "markdown",
   "metadata": {},
   "source": [
    "When a list is passed as an argument to a function, the function parameter variable is a *reference* to the list, making the list *aliased*. This means that if we modify a list in our function, the change to the object persists and the calling code will see the change.\n",
    "\n",
    "In the example above, `numbers` and `list_to_print` are aliases to the list object `[0.0, 0.2, 0.4]`. If `pretty_print_list()` can use `list_to_print` to modify the object. \n",
    "\n",
    "Let's write a new function, `add_one()`, that adds one to each value in a list:"
   ]
  },
  {
   "cell_type": "code",
   "execution_count": null,
   "metadata": {
    "collapsed": true
   },
   "outputs": [],
   "source": [
    "def add_one(list_arg):\n",
    "    '''\n",
    "    \n",
    "    '''\n",
    "    for i in range(len(list_arg)):\n",
    "        list_arg[i] += 1\n",
    "\n",
    "numbers = [0.0, 0.2, 0.4]\n",
    "print(numbers)\n",
    "add_one(numbers)\n",
    "print(numbers)"
   ]
  },
  {
   "cell_type": "markdown",
   "metadata": {},
   "source": [
    "## Returning Lists\n",
    "We can write functions that return lists. Consider a function that returns a list of numbers from arguments `start_index` to `end_index + 1`:"
   ]
  },
  {
   "cell_type": "code",
   "execution_count": null,
   "metadata": {
    "collapsed": true
   },
   "outputs": [],
   "source": [
    "def create_sequence(start_index, end_index):\n",
    "    '''\n",
    "    \n",
    "    '''\n",
    "    sequence = []\n",
    "    \n",
    "    for i in range(start_index, end_index):\n",
    "        sequence.append(i)\n",
    "    return sequence\n",
    "\n",
    "first_ten_nums = create_sequence(0, 10)\n",
    "print(first_ten_nums)"
   ]
  },
  {
   "cell_type": "markdown",
   "metadata": {},
   "source": [
    "## Command Line Arguments\n",
    "We can pass arguments into our Python programs. The arguments will be stored in a list, referenced by `sys.argv`. Note: we will have to `import sys` to get access to `sys.argv`.\n",
    "\n",
    "The first argument is always the name of the script, and is counted in the total number of command line arguments:"
   ]
  },
  {
   "cell_type": "code",
   "execution_count": 1,
   "metadata": {},
   "outputs": [
    {
     "name": "stdout",
     "output_type": "stream",
     "text": [
      "['C:\\\\Anaconda3\\\\lib\\\\site-packages\\\\ipykernel\\\\__main__.py', '-f', 'C:\\\\Users\\\\gsprint\\\\AppData\\\\Roaming\\\\jupyter\\\\runtime\\\\kernel-1e668b0e-6bd8-4985-b65d-41430143d283.json']\n",
      "3\n"
     ]
    }
   ],
   "source": [
    "import sys\n",
    "\n",
    "print(sys.argv)\n",
    "print(len(sys.argv))"
   ]
  },
  {
   "cell_type": "markdown",
   "metadata": {},
   "source": [
    "## Tuples\n",
    "Tuples are immutable lists. They are declared as a comma separated list, with or without parentheses:"
   ]
  },
  {
   "cell_type": "code",
   "execution_count": 6,
   "metadata": {},
   "outputs": [
    {
     "name": "stdout",
     "output_type": "stream",
     "text": [
      "('x', 'y', 'z')\n",
      "<class 'tuple'>\n",
      "(1,)\n",
      "a\n",
      "<class 'str'>\n",
      "()\n",
      "<class 'tuple'>\n"
     ]
    }
   ],
   "source": [
    "my_tuple = \"x\", \"y\", \"z\"\n",
    "print(my_tuple)\n",
    "print(type(my_tuple))\n",
    "\n",
    "# need a comma after a single element initialization\n",
    "my_tuple2 = (1, )\n",
    "print(my_tuple2)\n",
    "\n",
    "# need a comma after a single element initialization\n",
    "not_a_tuple = (\"a\")\n",
    "print(not_a_tuple)\n",
    "print(type(not_a_tuple))\n",
    "\n",
    "# creating an empty tuple\n",
    "empty_tuple = tuple()\n",
    "print(empty_tuple)\n",
    "print(type(empty_tuple))"
   ]
  },
  {
   "cell_type": "markdown",
   "metadata": {},
   "source": [
    "Tuple indexing and slicing works the same as for lists:"
   ]
  },
  {
   "cell_type": "code",
   "execution_count": 7,
   "metadata": {},
   "outputs": [
    {
     "name": "stdout",
     "output_type": "stream",
     "text": [
      "y\n",
      "('x', 'y')\n"
     ]
    }
   ],
   "source": [
    "my_tuple = (\"x\", \"y\", \"z\")\n",
    "print(my_tuple[1])\n",
    "print(my_tuple[0:2])"
   ]
  },
  {
   "cell_type": "markdown",
   "metadata": {},
   "source": [
    "HOWEVER, tuples are immutable, so you cannot modify them. The follow code demonstrates the immutability of tuples:"
   ]
  },
  {
   "cell_type": "code",
   "execution_count": 1,
   "metadata": {},
   "outputs": [
    {
     "ename": "TypeError",
     "evalue": "'tuple' object does not support item assignment",
     "output_type": "error",
     "traceback": [
      "\u001b[1;31m---------------------------------------------------------------------------\u001b[0m",
      "\u001b[1;31mTypeError\u001b[0m                                 Traceback (most recent call last)",
      "\u001b[1;32m<ipython-input-1-dfbe487f882d>\u001b[0m in \u001b[0;36m<module>\u001b[1;34m()\u001b[0m\n\u001b[0;32m      1\u001b[0m \u001b[0mmy_tuple\u001b[0m \u001b[1;33m=\u001b[0m \u001b[1;33m(\u001b[0m\u001b[1;34m\"x\"\u001b[0m\u001b[1;33m,\u001b[0m \u001b[1;34m\"y\"\u001b[0m\u001b[1;33m,\u001b[0m \u001b[1;34m\"z\"\u001b[0m\u001b[1;33m)\u001b[0m\u001b[1;33m\u001b[0m\u001b[0m\n\u001b[0;32m      2\u001b[0m \u001b[1;31m# crashes! tuples are immutable, you cannot change them\u001b[0m\u001b[1;33m\u001b[0m\u001b[1;33m\u001b[0m\u001b[0m\n\u001b[1;32m----> 3\u001b[1;33m \u001b[0mmy_tuple\u001b[0m\u001b[1;33m[\u001b[0m\u001b[1;36m2\u001b[0m\u001b[1;33m]\u001b[0m \u001b[1;33m=\u001b[0m \u001b[1;34m\"a\"\u001b[0m\u001b[1;33m\u001b[0m\u001b[0m\n\u001b[0m",
      "\u001b[1;31mTypeError\u001b[0m: 'tuple' object does not support item assignment"
     ]
    }
   ],
   "source": [
    "my_tuple = (\"x\", \"y\", \"z\")\n",
    "# crashes! tuples are immutable, you cannot change them\n",
    "my_tuple[2] = \"a\""
   ]
  },
  {
   "cell_type": "markdown",
   "metadata": {},
   "source": [
    "## Key-Value Pairs\n",
    "Consider the following set of items:\n",
    "* Your student ID number\n",
    "* Your checking account number\n",
    "* The VIN number on your car\n",
    "* Your social security number\n",
    "\n",
    "What do all of the above items have in common? They are all *unique* identifiers for something. For example, there may be several students named \"John Smith\" at WSU. How is the university to distinguish academic records for multiple John Smiths? They assign a unique *key* to identify each individual student:\n",
    "\n",
    "|ID Number|Last name|First name|\n",
    "|-|-|-|\n",
    "|28905|Smith|Jane|\n",
    "|19485|Smith|John|\n",
    "|28450|Smith|John|\n",
    "|25543|Smith|John|\n",
    "|17834|Smith|Justin|\n",
    "\n",
    "For the other examples, your checking account number is a key that uniquely identifies your account, the VIN is a key that uniquely identifies your car, and your SSN is a key that uniquely identifies you for government purposes.\n",
    "\n",
    "Keys are useful because they *map* keys to values. In the example above, a student ID number of 28905 maps to the academic records of Jane Smith at WSU. The academic record of Jane Smith is called the *value* that the *key* (ID number) maps to. Together, the ID number (28905) and the record (Jane Smith's academic record) form a *key-value pair*. \n",
    "\n",
    "Keys can be represented as a list of unique values (no duplicates). Values can be represented as a list as well (can have duplicates). A single data structure that combines key lists and value lists is called a *dictionary*.\n",
    "\n",
    "## Dictionaries\n",
    "A *dictionary is a list with keys as indices*. Keys can be integers, strings, file objects, etc. Keys cannot be lists. To declare a dictionary, we use the curly braces `{ }`:"
   ]
  },
  {
   "cell_type": "code",
   "execution_count": 8,
   "metadata": {},
   "outputs": [
    {
     "name": "stdout",
     "output_type": "stream",
     "text": [
      "{}\n",
      "{}\n"
     ]
    }
   ],
   "source": [
    "# declares an empty dictionary\n",
    "my_dict = {}\n",
    "print(my_dict)\n",
    "# can also use dict()\n",
    "my_second_dict = dict()\n",
    "print(my_second_dict)"
   ]
  },
  {
   "cell_type": "markdown",
   "metadata": {},
   "source": [
    "We can initialize a dictionary with values using comma separated `key:value` pairs:"
   ]
  },
  {
   "cell_type": "code",
   "execution_count": 9,
   "metadata": {},
   "outputs": [
    {
     "name": "stdout",
     "output_type": "stream",
     "text": [
      "{'idaho': 'boise', 'washington': 'olympia', 'oregon': 'portland'}\n"
     ]
    }
   ],
   "source": [
    "state_capitals = {'washington': 'olympia', 'idaho': 'boise', 'oregon': 'portland'}\n",
    "print(state_capitals)"
   ]
  },
  {
   "cell_type": "markdown",
   "metadata": {},
   "source": [
    "We can create a dictionary from a list of tuples, where each tuple in the list is a key-value pair:"
   ]
  },
  {
   "cell_type": "code",
   "execution_count": 10,
   "metadata": {},
   "outputs": [
    {
     "name": "stdout",
     "output_type": "stream",
     "text": [
      "{'V': 5, 'L': 50, 'I': 1, 'X': 10}\n"
     ]
    }
   ],
   "source": [
    "# roman numerals\n",
    "key_values = [(\"I\", 1), (\"V\", 5), (\"X\", 10), (\"L\", 50)]\n",
    "roman_numerals = dict(key_values)\n",
    "print(roman_numerals)"
   ]
  },
  {
   "cell_type": "markdown",
   "metadata": {},
   "source": [
    "We can also convert a dictionary back to a list of tuples with the dictionary method `items()` and the built-in function `list()`:"
   ]
  },
  {
   "cell_type": "code",
   "execution_count": 11,
   "metadata": {},
   "outputs": [
    {
     "name": "stdout",
     "output_type": "stream",
     "text": [
      "[('V', 5), ('L', 50), ('I', 1), ('X', 10)]\n"
     ]
    }
   ],
   "source": [
    "list_of_tuples = list(roman_numerals.items())\n",
    "print(list_of_tuples)"
   ]
  },
  {
   "cell_type": "markdown",
   "metadata": {},
   "source": [
    "### Compatible Dictionary Data Types\n",
    "#### Keys\n",
    "Dictionary keys can be integers, strings, files, tuples, etc.. Lists cannot be keys.\n",
    "\n",
    "#### Values\n",
    "Values can be any type. For example, we can have string keys and list values:"
   ]
  },
  {
   "cell_type": "code",
   "execution_count": 12,
   "metadata": {},
   "outputs": [
    {
     "name": "stdout",
     "output_type": "stream",
     "text": [
      "{'watermelon': ['green', 'red'], 'banana': ['yellow'], 'kiwi': ['brown', 'green']}\n"
     ]
    }
   ],
   "source": [
    "fruit_colors = {'kiwi': ['brown', 'green'], 'banana': ['yellow'], 'watermelon': ['green', 'red']}\n",
    "print(fruit_colors)"
   ]
  },
  {
   "cell_type": "markdown",
   "metadata": {},
   "source": [
    "### Dictionary Indexing\n",
    "We can access an item via a key using hard brackets `[ ]` (similar to indexing into a list):"
   ]
  },
  {
   "cell_type": "code",
   "execution_count": 13,
   "metadata": {},
   "outputs": [
    {
     "name": "stdout",
     "output_type": "stream",
     "text": [
      "The capital of idaho is boise\n"
     ]
    }
   ],
   "source": [
    "state_capitals = {'washington': 'olympia', 'idaho': 'boise', 'oregon': 'portland'}\n",
    "print(\"The capital of idaho is %s\" %(state_capitals['idaho']))"
   ]
  },
  {
   "cell_type": "markdown",
   "metadata": {},
   "source": [
    "### Adding Key-Value Pairs\n",
    "Since dictionaries are *mutable*, we can add key-value pairs to the dictionary using hard brackets `[ ]`:"
   ]
  },
  {
   "cell_type": "code",
   "execution_count": 14,
   "metadata": {},
   "outputs": [
    {
     "name": "stdout",
     "output_type": "stream",
     "text": [
      "{'idaho': 'boise', 'washington': 'olympia', 'oregon': 'portland'}\n",
      "{'idaho': 'boise', 'washington': 'olympia', 'montana': 'helena', 'oregon': 'portland'}\n"
     ]
    }
   ],
   "source": [
    "state_capitals = {'washington': 'olympia', 'idaho': 'boise', 'oregon': 'portland'}\n",
    "print(state_capitals)\n",
    "\n",
    "state_capitals['montana'] = 'helena'\n",
    "print(state_capitals)"
   ]
  },
  {
   "cell_type": "markdown",
   "metadata": {},
   "source": [
    "Note: keys in a dictionary are not sorted in any particular order.\n",
    "\n",
    "### Dictionary Length with `len()`\n",
    "We can still determine the number of items (key-value pairs) in a dictionary with `len()`:"
   ]
  },
  {
   "cell_type": "code",
   "execution_count": 15,
   "metadata": {},
   "outputs": [
    {
     "name": "stdout",
     "output_type": "stream",
     "text": [
      "3\n"
     ]
    }
   ],
   "source": [
    "state_capitals = {'washington': 'olympia', 'idaho': 'boise', 'oregon': 'portland'}\n",
    "print(len(state_capitals))"
   ]
  },
  {
   "cell_type": "markdown",
   "metadata": {},
   "source": [
    "### Existence of a Key\n",
    "We can also test if a key is a valid key in the dictionary with the `in` keyword:"
   ]
  },
  {
   "cell_type": "code",
   "execution_count": 16,
   "metadata": {},
   "outputs": [
    {
     "name": "stdout",
     "output_type": "stream",
     "text": [
      "False\n",
      "True\n",
      "False\n"
     ]
    }
   ],
   "source": [
    "state_capitals = {'washington': 'olympia', 'idaho': 'boise', 'oregon': 'portland'}\n",
    "\n",
    "print('california' in state_capitals)\n",
    "print('idaho' in state_capitals)\n",
    "print('olympia' in state_capitals)"
   ]
  },
  {
   "cell_type": "markdown",
   "metadata": {},
   "source": [
    "## Looping through a Dictionary\n",
    "We can traverse a dictionary easily with a `for` loop that walks through each key in the dictionary:"
   ]
  },
  {
   "cell_type": "code",
   "execution_count": 17,
   "metadata": {},
   "outputs": [
    {
     "name": "stdout",
     "output_type": "stream",
     "text": [
      "triangle: 3\n",
      "rectangle: 4\n",
      "square: 4\n",
      "pentagon: 5\n"
     ]
    }
   ],
   "source": [
    "sides = {'square': 4, 'triangle': 3, 'pentagon': 5, 'rectangle': 4}\n",
    "\n",
    "for side in sides:\n",
    "    print(side, sides[side], sep= \": \")"
   ]
  },
  {
   "cell_type": "markdown",
   "metadata": {},
   "source": [
    "## Example Problem: Letter Frequencies\n",
    "Suppose we want to keep track of the frequency of letters in a word. For example, the word \"hello\" has 4 letters with the following frequencies:\n",
    "* h: 1\n",
    "* e: 1\n",
    "* l: 2\n",
    "* o: 1\n",
    "\n",
    "Let's write a program to prompt the user to enter a word. Our program will tell the user the frequency of each letter in the word. We could solve this problem with either a list or a dictionary:\n",
    "* List solution\n",
    "    1. Create a list with 26 zeros\n",
    "    1. Write a function to convert a letter into an integer in the range [0-25] to index into the list. We can do this with the `ord(<character>)` function and ASCII codes...\n",
    "    1. Walk through the word and increment the corresponding list position for each letter\n",
    "    1. Convert the index of non-zero list entries back to characters using `char(<integer>)` to print out the histogram results\n",
    "* Dictionary solution\n",
    "    1. Create an empty dictionary\n",
    "    1. Walk through the word and add the letter to the dictionary with a count of zero if the letter is not already a key, increment otherwise.\n",
    "    \n",
    "The dictionary solution lends itself more suitable to this problem because we do not have to allocate space for all letters ahead of time and we don't have to perform a character to integer conversion to index into the data structure."
   ]
  },
  {
   "cell_type": "code",
   "execution_count": null,
   "metadata": {
    "collapsed": true
   },
   "outputs": [],
   "source": [
    "def compute_letter_frequencies(word):\n",
    "    '''\n",
    "    \n",
    "    '''\n",
    "    histogram = {}\n",
    "    \n",
    "    for letter in word:\n",
    "        if letter in histogram:\n",
    "            histogram[letter] += 1\n",
    "        else:\n",
    "            histogram[letter] = 1\n",
    "    return histogram\n",
    "\n",
    "print(compute_letter_frequencies(\"hello\"))\n",
    "print(compute_letter_frequencies(\"mississippi\"))"
   ]
  },
  {
   "cell_type": "markdown",
   "metadata": {},
   "source": [
    "Compared to the list solution:"
   ]
  },
  {
   "cell_type": "code",
   "execution_count": null,
   "metadata": {
    "collapsed": true
   },
   "outputs": [],
   "source": [
    "def letter_to_index(letter):\n",
    "    '''\n",
    "    \n",
    "    '''\n",
    "    ascii_val = ord(letter)\n",
    "    index = ascii_val - ord('a')\n",
    "    return index\n",
    "\n",
    "def index_to_letter(index):\n",
    "    '''\n",
    "    \n",
    "    '''\n",
    "    ascii_val = index + ord('a')\n",
    "    letter = chr(ascii_val)\n",
    "    return letter\n",
    "    \n",
    "def compute_letter_frequencies_list(word):\n",
    "    '''\n",
    "    \n",
    "    '''\n",
    "    histogram = [0] * 26\n",
    "    \n",
    "    word.lower()\n",
    "    for letter in word:\n",
    "        index = letter_to_index(letter)\n",
    "        histogram[index] += 1\n",
    "    return histogram\n",
    "\n",
    "def pretty_print(histogram):\n",
    "    '''\n",
    "    \n",
    "    '''\n",
    "    for i in range(len(histogram)):\n",
    "        if histogram[i] != 0:\n",
    "            letter = index_to_letter(i)\n",
    "            print(\"%s: %d\" %(letter, histogram[i]), end=\" \")\n",
    "    print(\"\")\n",
    "\n",
    "histogram = compute_letter_frequencies_list(\"hello\")\n",
    "pretty_print(histogram)"
   ]
  },
  {
   "cell_type": "markdown",
   "metadata": {},
   "source": [
    "Note: We have now seen lists of tuples, lists of lists, dictionaries of lists, etc. In general, we can have sequences of sequences. The types of sequences that can be nested and the number of nesting levels is up to you, the programmer!"
   ]
  }
 ],
 "metadata": {
  "anaconda-cloud": {},
  "kernelspec": {
   "display_name": "Python 3",
   "language": "python",
   "name": "python3"
  },
  "language_info": {
   "codemirror_mode": {
    "name": "ipython",
    "version": 3
   },
   "file_extension": ".py",
   "mimetype": "text/x-python",
   "name": "python",
   "nbconvert_exporter": "python",
   "pygments_lexer": "ipython3",
   "version": "3.7.1"
  }
 },
 "nbformat": 4,
 "nbformat_minor": 1
}
