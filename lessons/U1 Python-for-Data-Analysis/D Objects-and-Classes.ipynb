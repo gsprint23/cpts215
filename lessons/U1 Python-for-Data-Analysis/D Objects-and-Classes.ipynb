{
 "cells": [
  {
   "cell_type": "markdown",
   "metadata": {},
   "source": [
    "# [CptS 215 Data Analytics Systems and Algorithms](https://github.com/gsprint23/cpts215)\n",
    "[Washington State University](https://wsu.edu)\n",
    "\n",
    "[Gina Sprint](http://eecs.wsu.edu/~gsprint/)\n",
    "# Objects and Classes\n",
    "\n",
    "Learner objectives for this lesson:\n",
    "* Define classes\n",
    "* Declare objects to instantiate classes\n",
    "* Implement basic object functionality\n",
    "* Implement class methods\n",
    "\n",
    "Content used in this lesson is based upon information in the following sources:\n",
    "* None to report"
   ]
  },
  {
   "cell_type": "markdown",
   "metadata": {
    "collapsed": true
   },
   "source": [
    "## Objects We Have Used\n",
    "We have already been exposed to the notion of an *object*. For example, when we open a file for reading or writing, the `open()` function returns a *file object*. "
   ]
  },
  {
   "cell_type": "code",
   "execution_count": 1,
   "metadata": {},
   "outputs": [
    {
     "name": "stdout",
     "output_type": "stream",
     "text": [
      "['13.42\\n', '27.19\\n', '9.98\\n', '48.56\\n', '33.71']\n"
     ]
    }
   ],
   "source": [
    "# infile is a file object\n",
    "infile = open(r\"files\\transactions.txt\", \"r\")\n",
    "print(infile.readlines())\n",
    "infile.close()"
   ]
  },
  {
   "cell_type": "markdown",
   "metadata": {},
   "source": [
    "`infile` is a file object that has associated functions, called *methods*. We have already seen this notion of *methods* when we learned about string and list methods (think `my_string.upper()`, etc.). In the above example, `readlines()` and `close()` are methods belonging to file objects.\n",
    "\n",
    "An *object* is a powerful programming concept that couples data storage (i.e. variables) with associated data operations and functionality (i.e. methods)."
   ]
  },
  {
   "cell_type": "markdown",
   "metadata": {},
   "source": [
    "## Classes\n",
    "We know of several Python data types:\n",
    "* `int`\n",
    "* `float`\n",
    "* `string`\n",
    "* `file`\n",
    "* etc.\n",
    "\n",
    "Today, we are going to learn how to define our own types! To do so, we will define *classes*. A class is a collection of *attributes* and *behaviors* that completely describes something. More on *attributes* and *behaviors* to come.\n",
    "\n",
    "Programmatically, a class is a type definition, and an object is a variable of that type. We also say an object is an *instance* of a class.\n",
    "\n",
    "Imagine we are writing a program to manage the status of books at a library or bookstore. For this program, it would be useful to have a class called `Book` where we could store information (think variables, called *attributes* when the variables belong to objects) and operations (think functions, called *methods* when the functions belong to objects) related to a book. Using the reserved keyword `class` to define a `Book` class, we can define this type:"
   ]
  },
  {
   "cell_type": "code",
   "execution_count": 1,
   "metadata": {
    "collapsed": true
   },
   "outputs": [],
   "source": [
    "class Book:\n",
    "    '''\n",
    "    \n",
    "    '''"
   ]
  },
  {
   "cell_type": "markdown",
   "metadata": {},
   "source": [
    "We have a definition for a `Book`! This class is not very powerful (yet). Let's see how we can make an instance of this class, called an object:"
   ]
  },
  {
   "cell_type": "code",
   "execution_count": 2,
   "metadata": {},
   "outputs": [
    {
     "name": "stdout",
     "output_type": "stream",
     "text": [
      "<class '__main__.Book'>\n"
     ]
    }
   ],
   "source": [
    "# my_book is a Book object, i.e. it is an instance of the Book class\n",
    "my_book = Book()\n",
    "print(type(my_book))"
   ]
  },
  {
   "cell_type": "markdown",
   "metadata": {},
   "source": [
    "Now that we have a book class, let's add variables to the class to represent information about books, such as `title` (string), `author` (string), `isbn` (string), and `checked_out` (Boolean). We call variables associated with an object *attributes* to specify they are variables belonging to a class. We can declare and access the attributes of an object with the *member selection* (dot) operator:"
   ]
  },
  {
   "cell_type": "code",
   "execution_count": 4,
   "metadata": {
    "collapsed": true
   },
   "outputs": [],
   "source": [
    "my_book = Book()\n",
    "my_book.title = \"The Martian\"\n",
    "my_book.author = \"Andy Weir\"\n",
    "my_book.isbn = \"978-0-8041-3902-1\"\n",
    "my_book.checked_out = False # it's on the shelf"
   ]
  },
  {
   "cell_type": "markdown",
   "metadata": {},
   "source": [
    "We have actually seen and used the dot notation to access variables and functions before. Recall accessing pi in the math module (`math.pi`), calling a library function (`math.sqrt(4.0)`), and calling a method of a file object (`in_file.close()`) or a string object (`my_string.upper()`). \n",
    "\n",
    "We can display the attribute values just like other variables:"
   ]
  },
  {
   "cell_type": "code",
   "execution_count": 5,
   "metadata": {},
   "outputs": [
    {
     "name": "stdout",
     "output_type": "stream",
     "text": [
      "The book \"The Martian\" is available on the shelf\n"
     ]
    }
   ],
   "source": [
    "if my_book.checked_out:\n",
    "    print(\"The book \\\"%s\\\" is checked out\" %(my_book.title))\n",
    "else: # checked in\n",
    "    print(\"The book \\\"%s\\\" is available on the shelf\" %(my_book.title))"
   ]
  },
  {
   "cell_type": "markdown",
   "metadata": {},
   "source": [
    "Objects are mutable! We can change the status of a `Book` object should someone check in or check out a book from the library:"
   ]
  },
  {
   "cell_type": "code",
   "execution_count": 6,
   "metadata": {
    "collapsed": true
   },
   "outputs": [],
   "source": [
    "my_book.checked_out = True"
   ]
  },
  {
   "cell_type": "markdown",
   "metadata": {},
   "source": [
    "Now, let's modify an attribute 2 different ways:\n",
    "1. Via a function\n",
    "1. Via a method\n"
   ]
  },
  {
   "cell_type": "markdown",
   "metadata": {},
   "source": [
    "## Objects and Functions"
   ]
  },
  {
   "cell_type": "markdown",
   "metadata": {},
   "source": [
    "Remember when we learned about aliasing? We can pass a reference to an object into a function to create an alias. For example, supposed we have a `Book` object called `hp1`. We can make an alias called `book` for `hp1` if we pass in `hp1` into a function with a parameter called `book`:"
   ]
  },
  {
   "cell_type": "code",
   "execution_count": 6,
   "metadata": {},
   "outputs": [
    {
     "name": "stdout",
     "output_type": "stream",
     "text": [
      "The Sorcerer's Stone by J.K. Rowling\n",
      "The Sorcerer's Stone is checked out: True\n",
      "The Sorcerer's Stone is checked out: False\n"
     ]
    }
   ],
   "source": [
    "def display_book(book):\n",
    "    '''\n",
    "    \n",
    "    '''\n",
    "    print(\"%s by %s\" %(book.title, book.author))\n",
    "\n",
    "def display_book_status(book):\n",
    "    '''\n",
    "    \n",
    "    '''\n",
    "    print(\"%s is checked out: %s\" %(book.title, book.checked_out))\n",
    "    \n",
    "    \n",
    "def return_book(book):\n",
    "    '''\n",
    "    \n",
    "    '''\n",
    "    book.checked_out = False\n",
    "    \n",
    "hp1 = Book()\n",
    "hp1.title = \"The Sorcerer's Stone\"\n",
    "hp1.author = \"J.K. Rowling\"\n",
    "hp1.isbn = \"978-0439708180\"\n",
    "hp1.checked_out = True\n",
    "\n",
    "display_book(hp1)\n",
    "display_book_status(hp1)\n",
    "return_book(hp1)\n",
    "display_book_status(hp1)"
   ]
  },
  {
   "cell_type": "markdown",
   "metadata": {},
   "source": [
    "## Objects and Methods\n",
    "If we place a function *inside* a class definition, the function is a *method* associated with an instance of the class."
   ]
  },
  {
   "cell_type": "code",
   "execution_count": 8,
   "metadata": {},
   "outputs": [],
   "source": [
    "class Book:\n",
    "    '''\n",
    "    \n",
    "    '''\n",
    "    # simply indent the method definition to associate it with the class\n",
    "    # self is a reference to the calling object\n",
    "    def display_book(self):\n",
    "        '''\n",
    "\n",
    "        '''\n",
    "        print(\"%s by %s\" %(self.title, self.author))\n",
    "    \n",
    "    def display_book_status(self):\n",
    "        '''\n",
    "\n",
    "        '''\n",
    "        print(\"%s is checked out: %s\" %(self.title, self.checked_out))\n",
    "    \n",
    "    def return_book(self):\n",
    "        '''\n",
    "\n",
    "        '''\n",
    "        self.checked_out = False"
   ]
  },
  {
   "cell_type": "markdown",
   "metadata": {},
   "source": [
    "We do have to change one aspect of our function definitions to do this. When we call a method of a class, we do so in the form: `<object>.<method>()`. The method needs a reference to the object in order to access that particular instance's attributes. In Python, the `self` reference provides access to the *current* object. `self` is the first parameter of every method of every class, and it is *implicitly* passed into the method. This means, Python passes it in for us, we do not explicitly pass the object reference in as an argument of the method.\n",
    "\n",
    "Now, if we have a `Book` object (instance of the `Book` class), we can use the member selection operator to call the `display_book_status()` and `return_book()` methods associated with `Book`s:"
   ]
  },
  {
   "cell_type": "code",
   "execution_count": 9,
   "metadata": {},
   "outputs": [
    {
     "name": "stdout",
     "output_type": "stream",
     "text": [
      "The Sorcerer's Stone by J.K. Rowling\n",
      "The Sorcerer's Stone is checked out: True\n",
      "The Sorcerer's Stone is checked out: False\n",
      "<__main__.Book object at 0x000000163E8D45C0>\n"
     ]
    }
   ],
   "source": [
    "hp1 = Book()\n",
    "hp1.title = \"The Sorcerer's Stone\"\n",
    "hp1.author = \"J.K. Rowling\"\n",
    "hp1.isbn = \"978-0439708180\"\n",
    "hp1.checked_out = True\n",
    "\n",
    "hp1.display_book()\n",
    "hp1.display_book_status()\n",
    "hp1.return_book()\n",
    "hp1.display_book_status()\n",
    "print(hp1)"
   ]
  },
  {
   "cell_type": "markdown",
   "metadata": {},
   "source": [
    "## Special Methods"
   ]
  },
  {
   "cell_type": "markdown",
   "metadata": {},
   "source": [
    "### The `__str__()` Method\n",
    "The `__str__()` special method is called implicitly when a string representation of the object is required, such as `print(hp1)`. We have already written a method with similar functionality, `display_book()`. We just need to change the method identifier to `__str__()` and return the string instead of print the string, and we can achieve the `print(hp1)` functionality!"
   ]
  },
  {
   "cell_type": "code",
   "execution_count": 10,
   "metadata": {},
   "outputs": [
    {
     "name": "stdout",
     "output_type": "stream",
     "text": [
      "The Sorcerer's Stone by J.K. Rowling\n"
     ]
    }
   ],
   "source": [
    "class Book:\n",
    "    '''\n",
    "    \n",
    "    '''       \n",
    "    def __str__(self):\n",
    "        '''\n",
    "        \n",
    "        '''\n",
    "        return \"%s by %s\" %(self.title, self.author)\n",
    "        \n",
    "hp1 = Book()\n",
    "hp1.title = \"The Sorcerer's Stone\"\n",
    "hp1.author = \"J.K. Rowling\"\n",
    "hp1.isbn = \"978-0439708180\"\n",
    "hp1.checked_out = True\n",
    "print(hp1)"
   ]
  },
  {
   "cell_type": "markdown",
   "metadata": {},
   "source": [
    "Note: We can also explicitly call special methods: `hp1.__str__()`"
   ]
  },
  {
   "cell_type": "markdown",
   "metadata": {},
   "source": [
    "### The `__init__()` Method\n",
    "There is a special method identifier, `__init__()` (short for initialize) that is implicitly called by Python everytime you instantiate a new object. The double underscores denote that this method *special* in Python. We can write our own version of the `__init__()` method to specify attribute values at time of instantiation. Here is an example of the `__init__()` method for our `Book` class."
   ]
  },
  {
   "cell_type": "code",
   "execution_count": 11,
   "metadata": {
    "collapsed": true
   },
   "outputs": [],
   "source": [
    "class Book:\n",
    "    '''\n",
    "    \n",
    "    '''\n",
    "    def __init__(self, book_title, book_author, book_isbn, book_checked_out):\n",
    "        self.title = book_title\n",
    "        self.author = book_author\n",
    "        self.isbn = book_isbn\n",
    "        self.checked_out = book_checked_out\n",
    "        "
   ]
  },
  {
   "cell_type": "markdown",
   "metadata": {},
   "source": [
    "And now we will instantiate a Harry Potter `Book` object:"
   ]
  },
  {
   "cell_type": "code",
   "execution_count": 12,
   "metadata": {},
   "outputs": [],
   "source": [
    "hp1 = Book(\"The Sorcerer's Stone\", \"J.K. Rowling\", \"978-0439708180\", False)"
   ]
  },
  {
   "cell_type": "markdown",
   "metadata": {},
   "source": [
    "On this instantiation, the `__init__()` method we wrote is implicitly called and the attributes `title`, `author`, `isbn`, and `checked_out` are declared and initialized to the values we passed in as arguments."
   ]
  },
  {
   "cell_type": "markdown",
   "metadata": {},
   "source": [
    "## Lists of Objects\n",
    "Let's put together some of the topics we have learned so far to declare a bookshelf of `Books`. This will be a list of `Book` objects. We can declare this list just like any other list, and populate it with `Book` objects:`"
   ]
  },
  {
   "cell_type": "code",
   "execution_count": 4,
   "metadata": {},
   "outputs": [
    {
     "name": "stdout",
     "output_type": "stream",
     "text": [
      "The Sorcerer's Stone by J.K. Rowling\n",
      "The Chamber of Secrets by J.K. Rowling\n",
      "The Prisoner of Azkaban by J.K. Rowling\n",
      "The Goblet of Fire by J.K. Rowling\n",
      "The Order of the Phoenix by J.K. Rowling\n",
      "The Half Blood Prince by J.K. Rowling\n",
      "The Deathly Hallows by J.K. Rowling\n"
     ]
    }
   ],
   "source": [
    "book_shelf = []\n",
    "\n",
    "hp1 = Book(\"The Sorcerer's Stone\", \"J.K. Rowling\", \"978-0439708180\", True)\n",
    "book_shelf.append(hp1)\n",
    "\n",
    "hp2 = Book(\"The Chamber of Secrets\", \"J.K. Rowling\", \"978-0439708180\", False)\n",
    "book_shelf.append(hp2)\n",
    "\n",
    "hp3 = Book(\"The Prisoner of Azkaban\", \"J.K. Rowling\", \"978-0439708180\", True)\n",
    "book_shelf.append(hp3)\n",
    "\n",
    "hp4 = Book(\"The Goblet of Fire\", \"J.K. Rowling\", \"978-0439708180\", True)\n",
    "book_shelf.append(hp4)\n",
    "\n",
    "hp5 = Book(\"The Order of the Phoenix\", \"J.K. Rowling\", \"978-0439708180\", False)\n",
    "book_shelf.append(hp5)\n",
    "\n",
    "hp6 = Book(\"The Half Blood Prince\", \"J.K. Rowling\", \"978-0439708180\", False)\n",
    "book_shelf.append(hp6)\n",
    "\n",
    "hp7 = Book(\"The Deathly Hallows\", \"J.K. Rowling\", \"978-0439708180\", True)\n",
    "book_shelf.append(hp7)\n",
    "\n",
    "for book in book_shelf:\n",
    "    print(book)"
   ]
  },
  {
   "cell_type": "markdown",
   "metadata": {},
   "source": [
    "## Practice Problem\n",
    "### Part 1\n",
    "Define a class called `Point`. A `Point` represents a position in 2 dimensional space, defined by an x and a y coordinate (no need to define any methods *yet*). \n",
    "\n",
    "Instantiate a `Point` object representing the origin (0,0):"
   ]
  },
  {
   "cell_type": "code",
   "execution_count": null,
   "metadata": {
    "collapsed": true
   },
   "outputs": [],
   "source": [
    "class Point:\n",
    "    '''\n",
    "    \n",
    "    '''\n",
    "\n",
    "origin = Point()\n",
    "origin.x = 0\n",
    "origin.y = 0"
   ]
  },
  {
   "cell_type": "markdown",
   "metadata": {},
   "source": [
    "### Part 2\n",
    "Re-write your `Point` definition and instantiation of `Point` to make use of an `__init__()` method:"
   ]
  },
  {
   "cell_type": "code",
   "execution_count": null,
   "metadata": {
    "collapsed": true
   },
   "outputs": [],
   "source": [
    "class Point:\n",
    "    '''\n",
    "    \n",
    "    '''\n",
    "    def __init__(self, x, y):\n",
    "        '''\n",
    "        \n",
    "        '''\n",
    "        self.x = x\n",
    "        self.y = y\n",
    "    \n",
    "point = Point(1, 4)"
   ]
  },
  {
   "cell_type": "markdown",
   "metadata": {},
   "source": [
    "### Part 3\n",
    "Add a method to `Point` called `display_point()` that displays `Point` information in the form: `(x, y)`. Then call `display_point()` to print a `Point` object."
   ]
  },
  {
   "cell_type": "code",
   "execution_count": null,
   "metadata": {
    "collapsed": true
   },
   "outputs": [],
   "source": [
    "class Point:\n",
    "    '''\n",
    "    \n",
    "    '''\n",
    "    def __init__(self, x, y):\n",
    "        '''\n",
    "        \n",
    "        '''\n",
    "        self.x = x\n",
    "        self.y = y\n",
    "        \n",
    "    def display_point(self):\n",
    "        '''\n",
    "        \n",
    "        '''\n",
    "        print(\"(%d,%d)\" %(self.x, self.y), end=\"\")\n",
    "    \n",
    "point = Point(1, 4)\n",
    "point.display_point()"
   ]
  },
  {
   "cell_type": "markdown",
   "metadata": {},
   "source": [
    "### Part 4\n",
    "Modify `display_point()` to implement the special function `__str__()`. Then print a `Point` object."
   ]
  },
  {
   "cell_type": "code",
   "execution_count": 2,
   "metadata": {},
   "outputs": [
    {
     "name": "stdout",
     "output_type": "stream",
     "text": [
      "(1, 4)\n"
     ]
    }
   ],
   "source": [
    "class Point:\n",
    "    '''\n",
    "    \n",
    "    '''\n",
    "    def __init__(self, x, y):\n",
    "        '''\n",
    "        \n",
    "        '''\n",
    "        self.x = x\n",
    "        self.y = y\n",
    "        \n",
    "    def __str__(self):\n",
    "        '''\n",
    "        \n",
    "        '''\n",
    "        return \"(%d, %d)\" %(self.x, self.y)\n",
    "    \n",
    "point = Point(1, 4)\n",
    "print(point)"
   ]
  },
  {
   "cell_type": "markdown",
   "metadata": {},
   "source": [
    "### Part 5\n",
    "Add a predicate method to `Point` called `equals()` that accepts another `Point` object and determines if it has the same `x` and `y` values as the calling object (think `self`). Then call `equals()` to determine if 2 `Point` objects store equivalent data."
   ]
  },
  {
   "cell_type": "code",
   "execution_count": null,
   "metadata": {
    "collapsed": true
   },
   "outputs": [],
   "source": [
    "class Point:\n",
    "    '''\n",
    "    \n",
    "    '''\n",
    "    def __init__(self, x, y):\n",
    "        '''\n",
    "        \n",
    "        '''\n",
    "        self.x = x\n",
    "        self.y = y\n",
    "        \n",
    "    def display_point(self):\n",
    "        '''\n",
    "        \n",
    "        '''\n",
    "        print(\"(%d,%d)\" %(self.x, self.y), end=\"\")\n",
    "        \n",
    "    def equals(self, other_point):\n",
    "        '''\n",
    "        \n",
    "        '''\n",
    "        if self.x == other_point.x and self.y == other_point.y:\n",
    "            return True\n",
    "        return False\n",
    "    \n",
    "origin = Point(0, 0)\n",
    "\n",
    "some_other_point = Point(0, 0)\n",
    "\n",
    "origin.display_point()\n",
    "print(\" is equal to \", end=\"\")\n",
    "some_other_point.display_point()\n",
    "print(\": %s\" %(origin.equals(some_other_point)))"
   ]
  },
  {
   "cell_type": "markdown",
   "metadata": {},
   "source": [
    "## Object Oriented Programming\n",
    "Object oriented programming (OOP) involves designing programs where most of the computation involves operations on objects. Classes are implemented to represent things in the real world and how they interact. While OOP is a vast subject (and sometimes more of an art than a science), we are going to just scratch the surface on how powerful OOP iswith the following concepts:\n",
    "* Operator overloading\n",
    "* Composition\n",
    "\n",
    "Other OOP concepts include:\n",
    "\n",
    "* Abstraction\n",
    "* Encapsulation\n",
    "* Inheritance\n",
    "* Polymorphism\n",
    "* Among others!\n",
    "\n",
    "You can read more about OOP concepts in Chapter 18 of the Downey textbook, as well as online and in other textbooks."
   ]
  },
  {
   "cell_type": "markdown",
   "metadata": {},
   "source": [
    "### Operator Overloading\n",
    "What about changing the syntax to compare two `Point` objects for equality from `point1.equals(point2)` to `point1 == point2`? We can achieve such behavior with special methods for defining operator functionality. This is called *operator overloading*. In the equality example, we are going to define the behavior for comparing two `Point` objects with the `==` operator."
   ]
  },
  {
   "cell_type": "markdown",
   "metadata": {},
   "source": [
    "#### The `__eq__()` Method\n",
    "All we have to do is modify our `equals()` method to implement the special method `__eq__()`:"
   ]
  },
  {
   "cell_type": "code",
   "execution_count": 13,
   "metadata": {},
   "outputs": [
    {
     "name": "stdout",
     "output_type": "stream",
     "text": [
      "False\n",
      "True\n",
      "False\n"
     ]
    }
   ],
   "source": [
    "class Point:\n",
    "    '''\n",
    "    \n",
    "    '''\n",
    "    def __init__(self, x, y):\n",
    "        '''\n",
    "        \n",
    "        '''\n",
    "        self.x = x\n",
    "        self.y = y\n",
    "        \n",
    "    def __str__(self):\n",
    "        '''\n",
    "        \n",
    "        '''\n",
    "        return \"(%d,%d)\" %(self.x, self.y)\n",
    "        \n",
    "    def __eq__(self, other_point):\n",
    "        '''\n",
    "        \n",
    "        '''\n",
    "        if self.x == other_point.x and self.y == other_point.y:\n",
    "            return True\n",
    "        return False\n",
    "    \n",
    "point1 = Point(1, 4)\n",
    "point2 = Point(3, -2)\n",
    "point3 = Point(3, -2)\n",
    "\n",
    "# different x,y values\n",
    "print(point1 == point2)\n",
    "# same x,y values\n",
    "print(point2 == point3)\n",
    "# confirm they are different objects \n",
    "print(point2 is point3)"
   ]
  },
  {
   "cell_type": "markdown",
   "metadata": {},
   "source": [
    "#### Other Operators to Overload\n",
    "Try implementing the functionality for other operators:\n",
    "* `+`: `__add__()`\n",
    "* `-`: `__sub__()`\n",
    "* `<`: `__lt__()`\n",
    "* `>`: `__gt__()`\n",
    "* Read about more in the [Python documentation](https://docs.python.org/3/reference/datamodel.html#specialnames)"
   ]
  },
  {
   "cell_type": "markdown",
   "metadata": {},
   "source": [
    "## Polymorphism\n",
    "Suppose we want to overload the `+` add operator. We might want to define two types of functionality for `Point` adds:\n",
    "1. Adding two `Point` objects (add x + x and y + y): `Point + Point`\n",
    "1. Adding a numeric value to a single `Point` object (add value to x and y): `Point + 1`\n",
    "\n",
    "We need to define *multiple behaviors* for the add method. When our functions/methods are able to handle multiple data types, they are called *polymorphic*. From Greek roots, poly means \"many\" and morphe means \"form\".\n",
    "\n",
    "Let's write the `__add__()` method. We will have a parameter called `other`, that we will need to check the type of. If `other` is a `Point`, add the respective `x` and `y` values. Otherwise, add `other` as a numeric to each `x` and `y` of the current object."
   ]
  },
  {
   "cell_type": "code",
   "execution_count": 14,
   "metadata": {},
   "outputs": [
    {
     "name": "stdout",
     "output_type": "stream",
     "text": [
      "(1,1)\n",
      "(1,1) + (3,-2) = (4,-1)\n",
      "(4,-1) + 10 = (14,9)\n"
     ]
    }
   ],
   "source": [
    "class Point:\n",
    "    '''\n",
    "    \n",
    "    '''\n",
    "    def __init__(self, x, y):\n",
    "        '''\n",
    "        \n",
    "        '''\n",
    "        self.x = x\n",
    "        self.y = y\n",
    "        \n",
    "    def __str__(self):\n",
    "        '''\n",
    "        \n",
    "        '''\n",
    "        return \"(%d,%d)\" %(self.x, self.y)\n",
    "        \n",
    "    def __eq__(self, other_point):\n",
    "        '''\n",
    "        \n",
    "        '''\n",
    "        if self.x == other_point.x and self.y == other_point.y:\n",
    "            return True\n",
    "        return False\n",
    "    \n",
    "    def __add__(self, other):\n",
    "        '''\n",
    "        \n",
    "        '''\n",
    "        if isinstance(other, Point):\n",
    "            self.x += other.x\n",
    "            self.y += other.y\n",
    "        else: # not a Point object, for now, assume it is a numeric such as an int or float\n",
    "            # in the future, we would want to write this code to be more robust\n",
    "            self.x += other\n",
    "            self.y += other\n",
    "        return self\n",
    "    \n",
    "point1 = Point(1, 1)\n",
    "point2 = Point(3, -2)\n",
    "print(\"%s\" %(point1))\n",
    "print(\"%s + %s = %s\" %(str(point1), str(point2), str(point1 + point2)))\n",
    "offset = 10\n",
    "print(\"%s + %d = %s\" %(str(point1), offset, str(point1 + offset)))"
   ]
  },
  {
   "cell_type": "markdown",
   "metadata": {},
   "source": [
    "### Composition\n",
    "Objects can have attributes that are other objects. Let's define a `Circle` class that has 2 attributes:\n",
    "1. `center`: a `Point` object representing the location of the center of a circle\n",
    "1. `radius`: a numeric value representing the radius of the circle"
   ]
  },
  {
   "cell_type": "code",
   "execution_count": 15,
   "metadata": {},
   "outputs": [
    {
     "name": "stdout",
     "output_type": "stream",
     "text": [
      "Circle with center: (0,5) and radius 100.00\n"
     ]
    }
   ],
   "source": [
    "class Circle:\n",
    "    '''\n",
    "    \n",
    "    '''\n",
    "    def __init__(self, x, y, radius):\n",
    "        '''\n",
    "        \n",
    "        '''\n",
    "        center = Point(x, y)\n",
    "        self.center = center\n",
    "        self.radius = radius\n",
    "        \n",
    "    def __str__(self):\n",
    "        '''\n",
    "        \n",
    "        '''\n",
    "        return \"Circle with center: %s and radius %.2f\" %(self.center, self.radius)\n",
    "    \n",
    "circle = Circle(0, 5, 100.0)\n",
    "print(circle)"
   ]
  },
  {
   "cell_type": "markdown",
   "metadata": {},
   "source": [
    "Note: We can think of the relationship between a `Circle` and a `Point` as: \"a `Circle` **has a** `Point`\". The \"has a\" relationship is important to distinguish from the \"is a\" relationship of inheritance... "
   ]
  },
  {
   "cell_type": "markdown",
   "metadata": {},
   "source": [
    "## Inheritance\n",
    "We can define classes such that they are \"extensions\" of existing classes. For example, consider we have an object called `Animal` that defines certain traits and behaviors that all animals exhibit:\n",
    "1. A species name (string attribute)\n",
    "1. An energy level (integer attribute)\n",
    "1. A play activity (method that subtracts from the energy level)\n",
    "1. A rest activity (method that adds to the energy level)\n",
    "\n",
    "For each specific animal we define (`Lion`, `Tiger`, `Bear`, etc.), we don't want to have to implement these common attributes and methods each time. Instead, we could write classes for each animal, and state these classes *inherit* from `Animal` class, and thus have all the traits and behaviors of `Animal`s. We could then define specific traits and behaviors unique for each animal. For example, a `Lion` might have an attribute called `mane_length` that a `Bear` wouldn't have."
   ]
  },
  {
   "cell_type": "code",
   "execution_count": 16,
   "metadata": {},
   "outputs": [
    {
     "name": "stdout",
     "output_type": "stream",
     "text": [
      "Lion with energy 100\n",
      "GRRRRR\n",
      "Lion with energy 75\n",
      "grr\n"
     ]
    }
   ],
   "source": [
    "class Animal:\n",
    "    '''\n",
    "    \n",
    "    '''\n",
    "    def __init__(self, species, energy):\n",
    "        '''\n",
    "        \n",
    "        '''\n",
    "        self.species = species\n",
    "        self.energy = energy\n",
    "        \n",
    "    def __str__(self):\n",
    "        '''\n",
    "        \n",
    "        '''\n",
    "        return \"%s with energy %d\" %(self.species, self.energy)\n",
    "        \n",
    "    def play(self, expenditure):\n",
    "        '''\n",
    "        \n",
    "        '''\n",
    "        self.energy -= expenditure\n",
    "        \n",
    "    def rest(self, recovery):\n",
    "        '''\n",
    "        \n",
    "        '''\n",
    "        self.energy += recovery\n",
    "        \n",
    "    \n",
    "        \n",
    "class Lion(Animal):\n",
    "    '''\n",
    "    \n",
    "    '''\n",
    "    def __init__(self, species, energy, mane_length, roar):\n",
    "        '''\n",
    "        \n",
    "        '''\n",
    "        super().__init__(species, energy)\n",
    "        self.mane_length = mane_length\n",
    "        self.roar = roar\n",
    "        \n",
    "    def get_roar(self):\n",
    "        '''\n",
    "        \n",
    "        '''\n",
    "        return self.roar\n",
    "    \n",
    "king_lion = Lion(\"Lion\", 100, 24, \"GRRRRR\")\n",
    "cowardly_lion = Lion(\"Lion\", 75, 12, \"grr\")\n",
    "\n",
    "print(king_lion)\n",
    "print(king_lion.get_roar())\n",
    "print(cowardly_lion)\n",
    "print(cowardly_lion.get_roar())"
   ]
  },
  {
   "cell_type": "markdown",
   "metadata": {},
   "source": [
    "`super()` returns a reference to the parent class (`Animal` in this case). Thus, `super().__init__(species, energy)` invokes the initialize method of `Animal`.\n",
    "\n",
    "How cool is it that when we print a `Lion` object, `Animal`'s `__str__()` is implicitly invoked. Note: we could define a specific `__str__()` for `Lion` if we wanted to! Python figures out which method to call based on the more \"specific\" class (i.e. the child class, then the parent class). "
   ]
  }
 ],
 "metadata": {
  "anaconda-cloud": {},
  "kernelspec": {
   "display_name": "Python 3",
   "language": "python",
   "name": "python3"
  },
  "language_info": {
   "codemirror_mode": {
    "name": "ipython",
    "version": 3
   },
   "file_extension": ".py",
   "mimetype": "text/x-python",
   "name": "python",
   "nbconvert_exporter": "python",
   "pygments_lexer": "ipython3",
   "version": "3.7.1"
  }
 },
 "nbformat": 4,
 "nbformat_minor": 1
}
