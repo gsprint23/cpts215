{
 "cells": [
  {
   "cell_type": "markdown",
   "metadata": {},
   "source": [
    "# [CptS 215 Data Analytics Systems and Algorithms](https://github.com/gsprint23/cpts215)\n",
    "[Washington State University](https://wsu.edu)\n",
    "\n",
    "[Gina Sprint](http://eecs.wsu.edu/~gsprint/)\n",
    "# Jupyter Notebook\n",
    "\n",
    "Learner objectives for this lesson:\n",
    "* Launch Jupyter Notebook\n",
    "* Understand the basics of Notebook cells\n",
    "\n",
    "## Acknowledgments\n",
    "Content used in this lesson is based upon information in the following sources:\n",
    "* [Jupyter website](http://jupyter.org/)"
   ]
  },
  {
   "cell_type": "markdown",
   "metadata": {},
   "source": [
    "## Overview of Jupyter Notebook\n",
    "According to the [Jupyter website](http://jupyter.org/):\n",
    "\n",
    ">The Jupyter Notebook is a web application that allows you to create and share documents that contain live code, equations, visualizations and explanatory text. Uses include: data cleaning and transformation, numerical simulation, statistical modeling, machine learning and much more.\n",
    "\n",
    ">The notebook extends the console-based approach to interactive computing in a qualitatively new direction, providing a web-based application suitable for capturing the whole computation process: developing, documenting, and executing code, as well as communicating the results. The Jupyter notebook combines two components:\n",
    "1. A web application: a browser-based tool for interactive authoring of documents which combine explanatory text, mathematics, computations and their rich media output.\n",
    "1. Notebook documents: a representation of all content visible in the web application, including inputs and outputs of the computations, explanatory text, mathematics, images, and rich media representations of objects.\n",
    "\n",
    ">Main Features of the Web Application\n",
    "* In-browser editing for code, with automatic syntax highlighting, indentation, and tab completion/introspection.\n",
    "* The ability to execute code from the browser, with the results of computations attached to the code which generated them.\n",
    "* Displaying the result of computation using rich media representations, such as HTML, LaTeX, PNG, SVG, etc. For example, publication-quality figures rendered by the matplotlib library, can be included inline.\n",
    "* In-browser editing for rich text using the Markdown markup language, which can provide commentary for the code, is not limited to plain text.\n",
    "* The ability to easily include mathematical notation within markdown cells using LaTeX, and rendered natively by MathJax.\n",
    "\n",
    ">Notebook Documents\n",
    "Notebook documents contains the inputs and outputs of a interactive session as well as additional text that accompanies the code but is not meant for execution. In this way, notebook files can serve as a complete computational record of a session, interleaving executable code with explanatory text, mathematics, and rich representations of resulting objects. These documents are internally JSON files and are saved with the .ipynb extension. Since JSON is a plain text format, they can be version-controlled and shared with colleagues.\n",
    "\n",
    ">Notebooks may be exported to a range of static formats, including HTML (for example, for blog posts), reStructuredText, LaTeX, PDF, and slide shows, via the nbconvert command.\n",
    "\n",
    ">Furthermore, any .ipynb notebook document available from a public URL can be shared via the Jupyter Notebook Viewer (nbviewer). This service loads the notebook document from the URL and renders it as a static web page. The results may thus be shared with a colleague, or as a public blog post, without other users needing to install the Jupyter notebook themselves. In effect, nbviewer is simply nbconvert as a web service, so you can do your own static conversions with nbconvert, without relying on nbviewer.\n",
    "\n",
    "For more information on Jupyter Notebooks and their purpose, please read the [documentation](http://jupyter-notebook.readthedocs.io/en/latest/notebook.html).\n",
    "\n",
    "### Notebooks in CptS 215\n",
    "You are already somewhat familiar with Jupyter Notebooks, this is one! I write my notes in Jupyter Notebook because I can interleave nicely typeset explanations of code with the actual code and its output. We are going to cover Jupyter Notebooks for three main reasons:\n",
    "1. You can *run* my notes rather just *view* them on nbviewer\n",
    "1. You can create your own notebooks for assignments, especially assignments with plots\n",
    "    * Note: for some assignments in this class you will be required to use Jupyter Notebooks\n",
    "1. Jupyter Notebooks are popular in the data science community. \n",
    "    * They are used to tell *stories* about data. There is a nice post describing data storytelling, [\"Building a data science portfolio: Storytelling with data\"](https://www.dataquest.io/blog/data-science-portfolio-project/) by Vik Paruchuri. The following text is an excerpt:\n",
    "\n",
    "> Data science is fundamentally about communication. You'll discover some insight in the data, then figure out an effective way to communicate that insight to others, then sell them on the course of action you propose. One of the most critical skills in data science is being able to tell an effective story using data. An effective story can make your insights much more compelling, and help others understand your ideas.\n",
    "\n",
    ">A story in the data science context is a narrative around what you found, how you found it, and what it means. An example might be the discovery that your company's revenue has dropped 20% in the last year. Its not enough to just state that fact – you’ll have to communicate why revenue dropped, and how to potentially fix it.\n",
    "\n",
    ">The main components of storytelling with data are:\n",
    "* Understanding and setting the context\n",
    "* Exploring multiple angles\n",
    "* Using compelling visualizations\n",
    "* Using varied data sources\n",
    "* Having a consistent narrative\n",
    "\n",
    ">The best tool to effectively tell a story with data is Jupyter notebook. \n",
    "\n",
    "Note: Big companies like Google, Microsoft, and IBM use Jupyter Notebook, so learning to use Notebooks will make you more marketable!\n",
    "\n",
    "Jupyter Notebook is included in the Anaconda Python distribution you installed for this class."
   ]
  },
  {
   "cell_type": "markdown",
   "metadata": {},
   "source": [
    "### Starting the Notebook Server\n",
    "Jupyter Notebook runs as a light weight server running on your computer (localhost). There are two easy ways to launch the Notebook server:\n",
    "1. At the command line type: `jupyter notebook`. This will launch the Notebook with the same CWD as your command prompt/terminal.\n",
    "1. Open the Anaconda Navigator GUI. Click on Jupyter Notebook. This will launch the Notebook with your root directory as the CWD.\n",
    "\n",
    "This will print some information about the notebook server in your terminal, including the URL of the web application (by default, [http://localhost:8888](http://localhost:8888)):\n",
    "```\n",
    "jupyter notebook\n",
    "[I 08:58:24.417 NotebookApp] Serving notebooks from local directory: /Users/gsprint\n",
    "[I 08:58:24.417 NotebookApp] 0 active kernels\n",
    "[I 08:58:24.417 NotebookApp] The Jupyter Notebook is running at: http://localhost:8888/\n",
    "[I 08:58:24.417 NotebookApp] Use Control-C to stop this server and shut down all kernels (twice to skip confirmation).\n",
    "```\n",
    "\n",
    "It will then open your default web browser to this URL.\n",
    "\n",
    "When the notebook opens in your browser, you will see the Notebook Dashboard, which will show a list of the notebooks, files, and subdirectories in the directory where the notebook server was started. Most of the time, you will wish to start a notebook server in the highest level directory containing notebooks. Often this will be your home directory.\n",
    "\n",
    "<img src=\"http://jupyter-notebook.readthedocs.io/en/latest/_images/jupyter-notebook-dashboard.png\" width=800>\n",
    "(image from [http://jupyter-notebook.readthedocs.io/en/latest/ui_components.html](http://jupyter-notebook.readthedocs.io/en/latest/ui_components.html))\n",
    "\n",
    "Note: the notebook server provides help messages for other command line arguments using the --help flag: `jupyter notebook --help`"
   ]
  },
  {
   "cell_type": "markdown",
   "metadata": {},
   "source": [
    "### Opening Notebooks\n",
    "You can create new notebooks from the dashboard with the New Notebook button, or open existing ones by clicking on their name. You can also drag and drop .ipynb notebooks and standard .py Python source code files into the notebook list area.\n",
    "\n",
    "When starting a notebook server from the command line, you can also open a particular notebook directly, bypassing the dashboard, with jupyter notebook my_notebook.ipynb. The .ipynb extension is assumed if no extension is given.\n",
    "\n",
    "When you are inside an open notebook, the File | Open... menu option will open the dashboard in a new browser tab, to allow you to open another notebook from the notebook directory or to create a new notebook.\n",
    "\n",
    "### Notebook Editor\n",
    "Notebooks will open in the Notebook editor:\n",
    "<img src=\"http://jupyter-notebook.readthedocs.io/en/latest/_images/jupyter-notebook-default.png\" width=800>\n",
    "(image from [http://jupyter-notebook.readthedocs.io/en/latest/ui_components.html](http://jupyter-notebook.readthedocs.io/en/latest/ui_components.html))\n",
    "\n",
    "When you create a new notebook document, you will be presented with the notebook name, a menu bar, a tool bar and an empty code cell.\n",
    "* Notebook name: The name of the notebook document is displayed at the top of the page, next to the IP[y]: Notebook logo. This name reflects the name of the .ipynb notebook document file. Clicking on the notebook name brings up a dialog which allows you to rename it. Thus, renaming a notebook from \"Untitled0\" to \"My first notebook\" in the browser, renames the Untitled0.ipynb file to My first notebook.ipynb.\n",
    "* Menu bar: The menu bar presents different options that may be used to manipulate the way the notebook functions.\n",
    "* Tool bar: The tool bar gives a quick way of performing the most-used operations within the notebook, by clicking on an icon.\n",
    "* Code cell: the default type of cell, read on for an explanation of cells.\n",
    "\n",
    "### User Interface Tour\n",
    "If you would like to learn more about the specific elements within the Notebook Editor, you can go through the User Interface Tour by selecting Help in the menu bar then selecting User Interface Tour. **I highly recommend you take the Notebook \"User Interface Tour\"**.\n",
    "\n",
    "### Cells\n",
    "The notebook consists of a sequence of cells. A cell is a multiline text input field, and its contents can be executed by using Shift-Enter, or by clicking either the \"Play\" button the toolbar, or Cell | Run in the menu bar. The execution behavior of a cell is determined the cell's type. There are four types of cells:\n",
    "1. code cells\n",
    "1. markdown cells\n",
    "1. raw cells\n",
    "1. heading cells. \n",
    "\n",
    "Every cell starts off being a code cell, but its type can be changed by using a drop-down on the toolbar (which will be \"Code\", initially), or via keyboard shortcuts.\n",
    "\n",
    "#### Code Cells\n",
    "When a code cell is executed, code that it contains is sent to the kernel associated with the notebook. The results that are returned from this computation are then displayed in the notebook as the cell's output. The output is not limited to text, with many other possible forms of output are also possible, including [Matplotlib](https://matplotlib.org/) figures and HTML tables (as used, for example, in the [Pandas data analysis package](http://pandas.pydata.org/)). \n",
    "\n",
    "Example code cell:"
   ]
  },
  {
   "cell_type": "code",
   "execution_count": 10,
   "metadata": {},
   "outputs": [
    {
     "name": "stdout",
     "output_type": "stream",
     "text": [
      "0:)1:)2:)3:)4:)"
     ]
    }
   ],
   "source": [
    "x = 5\n",
    "for i in range(x):\n",
    "    print(i, end=\":)\")"
   ]
  },
  {
   "cell_type": "markdown",
   "metadata": {},
   "source": [
    "#### Markdown Cells\n",
    "(This is an example Markdown cell.)\n",
    "\n",
    "You can document the computational process in a literate way, alternating descriptive text with code, using rich text. In Jupyter Notebook this is accomplished by marking up text with the [Markdown markup language](https://en.wikipedia.org/wiki/Markdown). The corresponding cells are called Markdown cells. The Markdown language provides a simple way to perform this text markup, that is, to specify which parts of the text should be emphasized (italics), bold, form lists, etc.\n",
    "\n",
    "When a Markdown cell is executed, the Markdown code is converted into the corresponding formatted rich text. Markdown allows arbitrary HTML code for formatting.\n",
    "\n",
    "Within Markdown cells, you can also include mathematics in a straightforward way, using standard [LaTeX](https://www.latex-project.org/about/) notation: `$...$` for in line mathematics and `$$...$$` for displayed mathematics. When the Markdown cell is executed, the LaTeX portions are automatically rendered in the HTML output as equations with high quality typography. This is made possible by MathJax, which supports a large subset of LaTeX functionality.\n",
    "\n",
    "Note: We will learn more about Markdown and Latex soon!\n",
    "\n",
    "A notebook may be downloaded in either a .ipynb or .py file from the menu option File | Download as. Choosing the .py option downloads a Python .py script, in which all rich output has been removed and the content of markdown cells have been inserted as comments."
   ]
  },
  {
   "cell_type": "markdown",
   "metadata": {},
   "source": [
    "#### Raw Cells\n",
    "Raw cells provide a place in which you can write output directly. Raw cells are not evaluated by the notebook. When passed through nbconvert, raw cells arrive in the destination format unmodified. For example, this allows you to type full LaTeX into a raw cell, which will only be rendered by LaTeX after conversion by nbconvert."
   ]
  },
  {
   "cell_type": "markdown",
   "metadata": {},
   "source": [
    "#### Heading Cells\n",
    "If you want to provide structure for your document, you can use markdown headings. Markdown headings consist of 1 to 6 hash # signs # followed by a space and the title of your section. The markdown heading will be converted to a clickable link for a section of the notebook. It is also used as a hint when exporting to other document formats, like PDF. We recommend using only one markdown header in a cell and limit the cell's content to the header text. For flexibility of text format conversion, it is suggested to place additional text in the next notebook cell.\n",
    "\n",
    "Note: This is something I need to work on :)\n",
    "\n",
    "### Cell Modes\n",
    "The state of a cell is in one of two modes:\n",
    "1. Edit mode: you can modify the contents of a cell, i.e. add a line a code.\n",
    "1. Command mode: you can view the cell, but not modify the contents of a cell. You can issue commands in command mode, such as add a cell below, or change the type of cell.\n",
    "\n",
    "When a cell is in edit mode, the Cell Mode Indicator will change to reflect the cell's state. This state is indicated by a small pencil icon on the top right of the interface. When the cell is in command mode, there is no icon in that location.\n",
    "\n",
    "<img src=\"http://jupyter-notebook.readthedocs.io/en/latest/_images/jupyter-notebook-edit.png\" width=800>\n",
    "(image from [http://jupyter-notebook.readthedocs.io/en/latest/ui_components.html](http://jupyter-notebook.readthedocs.io/en/latest/ui_components.html))"
   ]
  },
  {
   "cell_type": "markdown",
   "metadata": {},
   "source": [
    "### Workflow\n",
    "Typically, you will work on a computational problem in pieces, organizing related ideas into cells and moving forward once previous parts work correctly. This is much more convenient for interactive exploration than breaking up a computation into scripts that must be executed together, as was previously necessary, especially if parts of them take a long time to run.\n",
    "\n",
    "When writing Jupyter Notebooks, you will alternate between describing a procedure in a Markdown cell and implementing a procedure in a code cell. All actions in the notebook can be performed with the mouse, but keyboard shortcuts are also available for the most common ones. The essential shortcuts to remember are the following:\n",
    "* Shift-Enter: run cell\n",
    "    * Execute the current cell, show output (if any), and jump to the next cell below. If Shift-Enter is invoked on the last cell, a new code cell will also be created. Note that in the notebook, typing Enter on its own never forces execution, but rather just inserts a new line in the current cell. Shift-Enter is equivalent to clicking the Cell | Run menu item.\n",
    "* Ctrl-Enter: run cell in-place\n",
    "    * Execute the current cell as if it were in \"terminal mode\", where any output is shown, but the cursor remains in the current cell. The cell's entire contents are selected after execution, so you can just start typing and only the new input will be in the cell. This is convenient for doing quick experiments in place, or for querying things like filesystem content, without needing to create additional cells that you may not want to be saved in the notebook.\n",
    "* Alt-Enter: run cell, insert below\n",
    "    * Executes the current cell, shows the output, and inserts a new cell between the current cell and the cell below (if one exists). This is thus a shortcut for the sequence Shift-Enter, Ctrl-m a. (Ctrl-m a adds a new cell above the current one.)\n",
    "* Esc and Enter: Command mode and edit mode\n",
    "    * In command mode, you can easily navigate around the notebook using keyboard shortcuts. In edit mode, you can edit text in cells.\n",
    "\n",
    "Command mode command shortcuts:\n",
    "* u: insert a cell above\n",
    "* b: insert a cell below\n",
    "* m: convert cell to markdown cell\n",
    "* y: convert cell to code cell\n",
    "* dd: delete a cell\n",
    "\n",
    "For the full list of available shortcuts, click Help, Keyboard Shortcuts in the notebook menus."
   ]
  },
  {
   "cell_type": "markdown",
   "metadata": {},
   "source": [
    "## Spell Check\n",
    "The standard Jupyter Notebook does not include a spell checker for Markdown cells :( Spell checking is important though! I found and use a helpful 3rd party spell checker that adds to the Notebook toolbar: [http://www.simulkade.com/posts/2015-04-07-spell-checking-in-jupyter-notebooks.html](http://www.simulkade.com/posts/2015-04-07-spell-checking-in-jupyter-notebooks.html). I highly recommend you install it as well, especially since you will code some assignments in CptS 215 in Jupyter Notebook. You don't want to turn in assignments with typos!"
   ]
  }
 ],
 "metadata": {
  "anaconda-cloud": {},
  "kernelspec": {
   "display_name": "Python 3",
   "language": "python",
   "name": "python3"
  },
  "language_info": {
   "codemirror_mode": {
    "name": "ipython",
    "version": 3
   },
   "file_extension": ".py",
   "mimetype": "text/x-python",
   "name": "python",
   "nbconvert_exporter": "python",
   "pygments_lexer": "ipython3",
   "version": "3.7.1"
  }
 },
 "nbformat": 4,
 "nbformat_minor": 1
}
