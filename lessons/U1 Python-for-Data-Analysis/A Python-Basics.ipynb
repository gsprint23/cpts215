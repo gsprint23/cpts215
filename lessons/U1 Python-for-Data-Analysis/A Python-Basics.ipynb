{
 "cells": [
  {
   "cell_type": "markdown",
   "metadata": {},
   "source": [
    "# [CptS 215 Data Analytics Systems and Algorithms](https://github.com/gsprint23/cpts215)\n",
    "[Washington State University](https://wsu.edu)\n",
    "\n",
    "[Gina Sprint](http://eecs.wsu.edu/~gsprint/)\n",
    "# Python Basics\n",
    "\n",
    "Learner objectives for this lesson:\n",
    "* Understand syntax of the Python programming language\n",
    "* Implement basic programming constructs in Python\n",
    "\n",
    "Content used in this lesson is based upon information in the following sources:\n",
    "* None to report"
   ]
  },
  {
   "cell_type": "markdown",
   "metadata": {},
   "source": [
    "## Python Basics\n",
    "Python was created by Guido van Rossum in the late 1980s. It is an open source, general-purpose language. It is flexible and powerful, yet still simple enough to be quickly picked up by new programmers. Python is fairly high on the high-level programming languages spectrum, meaning its syntax and grammar is fairly close to pseudo-code.\n",
    "![](https://raw.githubusercontent.com/gsprint23/cpts215/master/lessons/figures/language_continuum.jpg)\n",
    "\n",
    "Python can be run on any computer architecture, so long as a Python interpreter is installed on the machine. This is similar to Java in the sense that as long as Java (more specifically, a Java Virtual Machine) is installed on your computer (you've seen the pesky Java update dialogs), you can run Java code written on any other architecture. It is convenient, cross-platform approach to application development. In contrast to *interpreted languages*, *compiled languages* are translated into specific computer architecture machine code (i.e. for a specific Intel processor instead of an AMD processor). Interpreted languages, such as Python and Java, tend to run slower than compiled languages, such as C and Fortran. \n",
    "\n",
    "### Python Language Elements\n",
    "Python programs contain instructions that specify what the computer is supposed to \"compute\".\n",
    "\n",
    "#### Comments"
   ]
  },
  {
   "cell_type": "code",
   "execution_count": 1,
   "metadata": {
    "collapsed": true
   },
   "outputs": [],
   "source": [
    "# get radius from user"
   ]
  },
  {
   "cell_type": "markdown",
   "metadata": {},
   "source": [
    "The above instruction is an example of a **single line comment**. *Comments are ignored by the Python interpreter*. Single line comments are denoted by a `#` symbol; any code after the `#` symbol is simply text and is not going to be run by Python."
   ]
  },
  {
   "cell_type": "code",
   "execution_count": 2,
   "metadata": {},
   "outputs": [
    {
     "data": {
      "text/plain": [
       "'So is this!'"
      ]
     },
     "execution_count": 2,
     "metadata": {},
     "output_type": "execute_result"
    }
   ],
   "source": [
    "'''This is an example \n",
    "of a multi-line comment'''\n",
    "\n",
    "\"\"\"So is this!\"\"\""
   ]
  },
  {
   "cell_type": "markdown",
   "metadata": {},
   "source": [
    "Use comments liberally in your code! They help others read your code (including yourself, months later when it isn't so fresh in your mind). In this class, you will be required to comment your code by adhering to the CptS 215 [Coding Standard](http://nbviewer.jupyter.org/github/gsprint23/cpts215/blob/master/CptS215CodingStandard.ipynb).\n",
    "\n",
    "#### Standard Identifiers\n",
    "Represent names of built-in variables (data) and functions (operations) in Python, such as `print` and `input`. It is not recommended to redefine these identifiers.\n",
    "* `print(<text to display>)` displays text to the screen\n",
    "* `input()` reads input from the keyboard\n",
    "\n",
    "#### User-defined Identifiers\n",
    "Names memory cells used for computations (\"variables\"). We will also later be able to name our own algorithms (\"functions\").\n",
    "* Identifiers can only contain letters, numbers, and underscores\n",
    "* Cannot begin with digits\n",
    "* Should not redefine standard Python standard identifiers\n",
    "* Should choose meaningful variable names (i.e. `radius` to store the radius of a cone, versus `my_variable`)\n",
    "* Use underscores between words for readability (e.g. `cone_volume`)\n",
    "* Make your variable names sufficiently different so you don't get them confused\n",
    "\n",
    "Note: Python is case sensitive.\n",
    "\n",
    "#### Reserved Keywords\n",
    "Python has reserved several identifiers as keywords that have special meaning about the nature of your program. You cannot use reserved keywords as user-defined identifiers in your program. Examples of reserved keywords include `True`, `False`, `None`, `and`, `or`, `not`, `if`, `else`, `elif`, `in`, `is`, `pass`, `return`, `for`, `while`, etc. In the near future, you will learn about these keywords and what they do!\n",
    "\n",
    "### Variable Declarations\n",
    "Declaring a variable reserves memory space for a value. It also associates a name with a memory cell (user-defined identifier)."
   ]
  },
  {
   "cell_type": "code",
   "execution_count": 3,
   "metadata": {
    "collapsed": true
   },
   "outputs": [],
   "source": [
    "radius = 0.0"
   ]
  },
  {
   "cell_type": "markdown",
   "metadata": {},
   "source": [
    "The above instruction declares a variable called `radius` and stores the value `0.0` in the memory location associated with `radius`. `radius` is an example of a user-defined identifier.\n",
    "\n",
    "### Data Types\n",
    "All variables have an associated data type. A **data type is a set of values and a set of operations on those values.** Examples of data types include:\n",
    "* Integer (numeric)\n",
    "    * Values: integer whole numbers e.g. 1, -10, 5000, etc.\n",
    "    * Operations: several, including + - * / // (integer division) % (mod) and comparisons > < <= >= == !=\n",
    "* Float (numeric)\n",
    "    * Values: real numbers (must include a decimal point) e.g. 3.14, -1000.0, etc.\n",
    "    * Operations: several, including + - * / and comparisons > < <= >= == !=\n",
    "* String (sequence of characters)\n",
    "    * Values: characters e.g. \"cpts215\", \"ABCD\", '123ABC', etc.\n",
    "    * Operations: several, including + (string concatenation, joins strings by linking them end-to-end), * (repetition, repeats strings), etc. We will learn more about string operations later in the course.\n",
    "    * *Note: You can use either double or single quotes to specify a string.*\n",
    "    * *Note: Even though some strings look like numbers (e.g. \"2\"), they are not numbers. For example: `\"5\" + \"7\"` returns the string \"57\" because \"5\" and \"7\" are strings, not integers.\n",
    "\n",
    "If you want to find out what data type a variable is, Python will tell you. Use the function `type(<variable name.)` to find out."
   ]
  },
  {
   "cell_type": "code",
   "execution_count": 4,
   "metadata": {},
   "outputs": [
    {
     "name": "stdout",
     "output_type": "stream",
     "text": [
      "<class 'int'>\n",
      "<class 'float'>\n",
      "<class 'str'>\n"
     ]
    }
   ],
   "source": [
    "x = 77.0\n",
    "\n",
    "print(type(5))\n",
    "print(type(x))\n",
    "print(type('this is a string'))"
   ]
  },
  {
   "cell_type": "markdown",
   "metadata": {},
   "source": [
    "### Executable Statements\n",
    "Do the work of the algorithm by transforming inputs into outputs. For example, consider the volume of the cone example:"
   ]
  },
  {
   "cell_type": "code",
   "execution_count": 5,
   "metadata": {},
   "outputs": [
    {
     "ename": "NameError",
     "evalue": "name 'height' is not defined",
     "output_type": "error",
     "traceback": [
      "\u001b[1;31m---------------------------------------------------------------------------\u001b[0m",
      "\u001b[1;31mNameError\u001b[0m                                 Traceback (most recent call last)",
      "\u001b[1;32m<ipython-input-5-c1dc61f39172>\u001b[0m in \u001b[0;36m<module>\u001b[1;34m()\u001b[0m\n\u001b[1;32m----> 1\u001b[1;33m \u001b[0mvolume\u001b[0m \u001b[1;33m=\u001b[0m \u001b[1;36m1\u001b[0m \u001b[1;33m/\u001b[0m \u001b[1;36m3\u001b[0m \u001b[1;33m*\u001b[0m \u001b[1;36m3.14\u001b[0m \u001b[1;33m*\u001b[0m \u001b[0mradius\u001b[0m \u001b[1;33m**\u001b[0m \u001b[1;36m2\u001b[0m \u001b[1;33m*\u001b[0m \u001b[0mheight\u001b[0m\u001b[1;33m\u001b[0m\u001b[0m\n\u001b[0m",
      "\u001b[1;31mNameError\u001b[0m: name 'height' is not defined"
     ]
    }
   ],
   "source": [
    "volume = 1 / 3 * 3.14 * radius ** 2 * height"
   ]
  },
  {
   "cell_type": "markdown",
   "metadata": {},
   "source": [
    "When the code statement above is executed by Python (the program is running), Python *evaluates* the expression on the right hand side of the assignment operator (=), and assigns the result to the variable `volume`. \n",
    "\n",
    "Python evaluates arithmetic expressions according to the same order of operation precedence you are familiar with (think PEMDAS: **P**arenthesis, **E**xponents, **M**ultiplication, **D**ivision, **A**ddition, **S**ubtraction), plus a few more operators. \n",
    "\n",
    "Check out this [Python precedence table](http://thepythonguru.com/wp-content/uploads/2015/08/python-operator-precedence1.jpg) to learn more.\n",
    "\n",
    "#### Assignment Statements\n",
    "Store a computational result into a variable\n",
    "* The = operator does the assignment\n",
    "* The *, -, +, /, // operators perform the computation"
   ]
  },
  {
   "cell_type": "markdown",
   "metadata": {},
   "source": [
    "The assignment operator '=' in programing is not the same as = in math\n",
    "* Math: y = x means y is equivalent to x\n",
    "* Programming: y = x means \"y is assigned x\"\n",
    " * = is an operator, not a relationship\n",
    " * Don't read it as \"y equals x\" \n",
    " * **Read it as \"y gets x\" or \"y is assigned to x\"** \n",
    "* Example: x = x + 1\n",
    "![](https://raw.githubusercontent.com/gsprint23/cpts215/master/lessons/figures/assignment_example.png)\n",
    "Clearly not mathematically \"equal\"\n",
    "\n",
    "We can also assign the value of one variable to another:"
   ]
  },
  {
   "cell_type": "code",
   "execution_count": 6,
   "metadata": {
    "collapsed": true
   },
   "outputs": [],
   "source": [
    "x = 5 # declare a new variable, x, and assign it the integer 5\n",
    "y = x # declare a new variable, y, and assign it the value of x (which is 5)\n",
    "y = -x # compute the negation of x (-5) and assign it to y"
   ]
  },
  {
   "cell_type": "markdown",
   "metadata": {},
   "source": [
    "#### Shorthand Assignment Operators\n",
    "Code such as, `x = x + 1` is quite common, in fact, it is so common that Python has a shorthand operator (+=) to shorten this code: `x += 1`. There are other shorthand operators for other arithmetic operators too:"
   ]
  },
  {
   "cell_type": "code",
   "execution_count": 7,
   "metadata": {},
   "outputs": [
    {
     "name": "stdout",
     "output_type": "stream",
     "text": [
      "0\n",
      "1\n",
      "4\n",
      "1\n",
      "5\n"
     ]
    }
   ],
   "source": [
    "x = 0\n",
    "print(x)\n",
    "x = x + 1\n",
    "print(x)\n",
    "x += 3\n",
    "print(x)\n",
    "x -= 3\n",
    "print(x)\n",
    "x *= 5\n",
    "print(x)"
   ]
  },
  {
   "cell_type": "markdown",
   "metadata": {},
   "source": [
    "#### Input/Output Statements\n",
    "It is extremely useful to obtain input data interactively from the user, and to display output results to the user\n",
    "\n",
    "Python offers several *functions* that perform input and output operations.\n",
    "\n",
    "Begin Digression: Functions\n",
    "\n",
    "A function is a set of statements that perform a task.\n",
    "A function performs the task, hiding from you the details of how it performs the task (they're irrelevant). We'll study functions in depth!\n",
    "\n",
    "End Digression\n",
    "\n",
    "##### Output\n",
    "The [`print()`](https://docs.python.org/3/library/functions.html#print) function is used to display text output of the program to the user, via the console. We have already seen the `print()` function in action:"
   ]
  },
  {
   "cell_type": "code",
   "execution_count": 8,
   "metadata": {},
   "outputs": [
    {
     "ename": "NameError",
     "evalue": "name 'height' is not defined",
     "output_type": "error",
     "traceback": [
      "\u001b[1;31m---------------------------------------------------------------------------\u001b[0m",
      "\u001b[1;31mNameError\u001b[0m                                 Traceback (most recent call last)",
      "\u001b[1;32m<ipython-input-8-2c036907b442>\u001b[0m in \u001b[0;36m<module>\u001b[1;34m()\u001b[0m\n\u001b[1;32m----> 1\u001b[1;33m \u001b[0mprint\u001b[0m\u001b[1;33m(\u001b[0m\u001b[1;34m\"The volume of a cone with radius %.2f and height %.2f is %.2f\"\u001b[0m \u001b[1;33m%\u001b[0m\u001b[1;33m(\u001b[0m\u001b[0mradius\u001b[0m\u001b[1;33m,\u001b[0m \u001b[0mheight\u001b[0m\u001b[1;33m,\u001b[0m \u001b[0mvolume\u001b[0m\u001b[1;33m)\u001b[0m\u001b[1;33m)\u001b[0m\u001b[1;33m\u001b[0m\u001b[0m\n\u001b[0m",
      "\u001b[1;31mNameError\u001b[0m: name 'height' is not defined"
     ]
    }
   ],
   "source": [
    "print(\"The volume of a cone with radius %.2f and height %.2f is %.2f\" %(radius, height, volume))"
   ]
  },
  {
   "cell_type": "markdown",
   "metadata": {},
   "source": [
    "The text in red and surrounded by quotes is called a *string*, which is a sequence of characters. This is what will be displayed to the screen. \n",
    "\n",
    "The `%.2f` is called a *placeholder* for a floating point number (i.e. the f) with 2 decimal places (i.e. the .2). `%d` is used as placeholder for integers and `%s` is used as a placeholder for strings. \n",
    "\n",
    "The variable names at the end of the statement in parenthesis are the list of values corresponding to the placeholder (order matters!). The value of `radius` will be inserted at the first placeholder, the value of `height` for the second, and the value of `volume` for the third. Do you see that order matters?\n",
    "\n",
    "Note: Adding `\"\\n\"` to a string will print a newline character, a non-printable character that starts the cursor on a new line. This can be useful if you want to add extra space between text without writing extra `print()` statements."
   ]
  },
  {
   "cell_type": "code",
   "execution_count": 9,
   "metadata": {},
   "outputs": [
    {
     "name": "stdout",
     "output_type": "stream",
     "text": [
      "Standard spacing\n",
      "Adding extra space with the newline character\n",
      "\n",
      "**Next line**\n"
     ]
    }
   ],
   "source": [
    "print(\"Standard spacing\")\n",
    "print(\"Adding extra space with the newline character\\n\")\n",
    "print(\"**Next line**\")"
   ]
  },
  {
   "cell_type": "markdown",
   "metadata": {},
   "source": [
    "##### Input\n",
    "The [`input()`](https://docs.python.org/3/library/functions.html#input) function is used to collect input from the user of our programs via the keyboard. We have already seen the `input()` function in action:"
   ]
  },
  {
   "cell_type": "code",
   "execution_count": 11,
   "metadata": {},
   "outputs": [
    {
     "name": "stdout",
     "output_type": "stream",
     "text": [
      "5\n"
     ]
    }
   ],
   "source": [
    "radius = float(input())"
   ]
  },
  {
   "cell_type": "markdown",
   "metadata": {},
   "source": [
    "This statement forces the program to pause until the user enters a value from the keyboard and hits the return key. `input()` returns a string representation of the text entered by the user (recall a string is a sequence of characters). Since we want to assign a floating point number to the variable `radius` for use in arithmetic computation later, we *type cast* the string entered by the user into a value of type `float`.\n",
    "\n",
    "Notes on input/output:\n",
    "* `input()` should always be used in conjunction with a `print()` statement that displays a prompt, so that the user knows that an input value is expected.\n",
    "* You can actually combine the prompt and the read input statements in one line. Simply place a string inside of the parentheses for `input()`: `radius = float(input(\"Please enter the radius\"))`. In this case, the inner-most function (`input()`) is executed first. Once the user has pressed enter and the value is read in, the value is converted to a float by the type cast.\n",
    "\n",
    "### Getting `help()`\n",
    "If you want more information about how to use a function, such as `print()`, ask Python! Type `help(<identifier name>)` to get more information about a variable, data type, function, etc. "
   ]
  },
  {
   "cell_type": "code",
   "execution_count": 12,
   "metadata": {},
   "outputs": [
    {
     "name": "stdout",
     "output_type": "stream",
     "text": [
      "Help on built-in function print in module builtins:\n",
      "\n",
      "print(...)\n",
      "    print(value, ..., sep=' ', end='\\n', file=sys.stdout, flush=False)\n",
      "    \n",
      "    Prints the values to a stream, or to sys.stdout by default.\n",
      "    Optional keyword arguments:\n",
      "    file:  a file-like object (stream); defaults to the current sys.stdout.\n",
      "    sep:   string inserted between values, default a space.\n",
      "    end:   string appended after the last value, default a newline.\n",
      "    flush: whether to forcibly flush the stream.\n",
      "\n"
     ]
    }
   ],
   "source": [
    "help(print)"
   ]
  },
  {
   "cell_type": "markdown",
   "metadata": {},
   "source": [
    "## Arithmetic Expressions\n",
    "Form: `operand1 operator operand2`\n",
    "* i.e. `x + y`\n",
    "\n",
    "Note: the type of result dependent on operand types\n",
    "\n",
    "### Arithmetic Operators in Python\n",
    "|Operator|Representation|Example|\n",
    "|----------|-----|-----|\n",
    "|+|Addition|10 + 5 = 15|\n",
    "|||1.55 + 13.3 = 14.85|\n",
    "|||3 + 100.7 = 103.7|\n",
    "|-|Subtraction|10 - 5 = 5|\n",
    "|||5.0 - 10.0 = -5.0|\n",
    "|||10 - 5.0 = 5.0|\n",
    "|\\*|Multiplication|1 * 5 = 5|\n",
    "|||1.000 * 10.0 = 10.0|\n",
    "|||5 * 5.0 = 25.0|\n",
    "|/|Floating Point Division|2 / 3 = 0.66|\n",
    "|||10.0 / 4.0 = 2.5|\n",
    "|||10 / 3.0 = 3.33|\n",
    "|//|Integer Division|2 // 3 = 0|\n",
    "|||10.0 // 4.0 = 2.0|\n",
    "|||10 // 3.0 = 3.0|\n",
    "|%|Modulus (AKA Remainder)|5 % 2 = 1|\n",
    "|||2 % 5 = 2|\n",
    "|||6 % 0 = undefined|\n",
    "|||6.0 % 3 = 0.0|\n",
    "|\\*\\*|Exponentiation|2 \\*\\* 3 = 8|\n",
    "|||2 \\*\\* 3 \\*\\* 2 = 512|\n",
    "|||4 \\*\\* (2 / 4) = 2.0|\n",
    "\n",
    "Note: The result of a modulus operation is the same as the remainder from integer division. Remember long division?\n",
    "![](https://raw.githubusercontent.com/gsprint23/cpts215/master/lessons/figures/long_division.gif)\n",
    "(Image from https://dj1hlxw0wr920.cloudfront.net/userfiles/wyzfiles/b410fcc6-7a7b-45a0-81b9-354423866db9.gif)\n",
    "\n",
    "In the above example, 128 // 5 is 25 and 128 % 5 is 3 (the remainder).\n",
    "\n",
    "Note: Exponentiation groups from right to left."
   ]
  },
  {
   "cell_type": "code",
   "execution_count": 13,
   "metadata": {},
   "outputs": [
    {
     "name": "stdout",
     "output_type": "stream",
     "text": [
      "512\n",
      "4.0\n",
      "2.0\n"
     ]
    }
   ],
   "source": [
    "print(2 ** 3 ** 2) # move from right to left for exponentiation\n",
    "print(4 ** 2 / 4) # exponentiation has higher precedence than division\n",
    "print(4 ** (2 / 4)) # square root"
   ]
  },
  {
   "cell_type": "markdown",
   "metadata": {},
   "source": [
    "## Changing Type\n",
    "We have already seen type conversions to change a value of certain a data type into another data type\n",
    "\n",
    "Two kinds of type conversions (also called casts) exist:\n",
    "1. Implicit\n",
    "1. Explicit\n",
    "\n",
    "Implicit type conversion example:"
   ]
  },
  {
   "cell_type": "code",
   "execution_count": 14,
   "metadata": {},
   "outputs": [
    {
     "name": "stdout",
     "output_type": "stream",
     "text": [
      "12 <class 'int'>\n"
     ]
    }
   ],
   "source": [
    "num1 = 12 # int\n",
    "num2 = 0.0 # float\n",
    "num2 = num1 # num2 is now an int\n",
    "print(num2, type(num2))"
   ]
  },
  {
   "cell_type": "markdown",
   "metadata": {},
   "source": [
    "Explicit type conversion example:"
   ]
  },
  {
   "cell_type": "code",
   "execution_count": 15,
   "metadata": {},
   "outputs": [
    {
     "name": "stdout",
     "output_type": "stream",
     "text": [
      "1 <class 'int'>\n"
     ]
    }
   ],
   "source": [
    "num1 = 1.7 # float\n",
    "num1 = int(num1) # 1.7 explicitly casted to type int, 1\n",
    "print(num1, type(num1))"
   ]
  },
  {
   "cell_type": "markdown",
   "metadata": {},
   "source": [
    "Note: `int()` truncates the fractional part of a floating point number. If you want to round the float instead, use `round()`. `round()` allows you to round a float to as many decimal places as you like: `round(<float>, n)` where `n` = number of decimal places. If you omit `n`, then `round(<float>)` returns a rounded integer:"
   ]
  },
  {
   "cell_type": "code",
   "execution_count": 16,
   "metadata": {},
   "outputs": [
    {
     "name": "stdout",
     "output_type": "stream",
     "text": [
      "5\n",
      "6\n",
      "5.9\n"
     ]
    }
   ],
   "source": [
    "x = 5.87\n",
    "print(int(x)) # truncates\n",
    "print(round(x)) # rounds to nearest integer\n",
    "print(round(x, 1)) # rounds to one decimal place"
   ]
  },
  {
   "cell_type": "markdown",
   "metadata": {},
   "source": [
    "## Formatting Numbers\n",
    "Python defines \"default\" output style for each data type\n",
    "* No leading blanks for `int` and `float`\n",
    "* `float` displayed with digits to right of decimal point\n",
    "\n",
    "You can override these defaults by specifying custom format strings to `print()` function. For float output, format string is of form `%n.mf`, where `n` is total width (number of columns) of formatted number, and `m` is the number of digits to the right of decimal point to display. It is possible to omit `n`. In that case, no leading spaces are printed. `m` can still specify the number of decimal places (e.g., `%.2f`).\n"
   ]
  },
  {
   "cell_type": "code",
   "execution_count": 17,
   "metadata": {},
   "outputs": [
    {
     "name": "stdout",
     "output_type": "stream",
     "text": [
      "x is  3. y is  2.2.\n"
     ]
    }
   ],
   "source": [
    "x = 3\n",
    "y = 2.17\n",
    "# outputs 2 spaces before the 3 and 2 spaces before the 2.2\n",
    "print(\"x is%3d. y is%5.1f.\" %(x, y))"
   ]
  },
  {
   "cell_type": "markdown",
   "metadata": {},
   "source": [
    "## Python Modules\n",
    "A *module* is a file that contains a collection of related variables and functions. Python provides several modules for us programmers to use in our programs. In order to use the variables and functions within a module, we have to let Python know we want to use the module with an `import <name of module>` statement. "
   ]
  },
  {
   "cell_type": "code",
   "execution_count": 18,
   "metadata": {
    "collapsed": true
   },
   "outputs": [],
   "source": [
    "import math # math is a module containing... math functions!"
   ]
  },
  {
   "cell_type": "markdown",
   "metadata": {},
   "source": [
    "To access one of the variables or functions in a module, you type the module name (somewhere in the code *after* you import the module, remember Python executes code from top to bottom), followed by a dot, and then the name of the variable or function. For example, we can access an approximation of the mathematical constant `pi` ($\\pi$) in the `math` module:"
   ]
  },
  {
   "cell_type": "code",
   "execution_count": 19,
   "metadata": {},
   "outputs": [
    {
     "name": "stdout",
     "output_type": "stream",
     "text": [
      "3.141592653589793\n"
     ]
    }
   ],
   "source": [
    "print(math.pi)"
   ]
  },
  {
   "cell_type": "markdown",
   "metadata": {},
   "source": [
    "As another example, to access the square root function of the `math` module, use `math.sqrt()`:"
   ]
  },
  {
   "cell_type": "code",
   "execution_count": 20,
   "metadata": {},
   "outputs": [
    {
     "name": "stdout",
     "output_type": "stream",
     "text": [
      "Help on built-in function sqrt in module math:\n",
      "\n",
      "sqrt(...)\n",
      "    sqrt(x)\n",
      "    \n",
      "    Return the square root of x.\n",
      "\n",
      "None\n",
      "2.0\n"
     ]
    }
   ],
   "source": [
    "# don't forget the help() command to learn more about a function\n",
    "print(help(math.sqrt))\n",
    "\n",
    "print(math.sqrt(4))"
   ]
  },
  {
   "cell_type": "markdown",
   "metadata": {},
   "source": [
    "## Math Functions\n",
    "The Python math module defines numerous useful mathematical functions. This library is an excellent example of the power of functions: commonly-used mathematical operations are packaged up in functions that can be re-used over and over. We don't have to define these functions or know how they work, we can simply call the functions and use the return value(s). Examples of math functions available for our use include:\n",
    "* `fabs()` for absolute values\n",
    "* `ceil()` for computing the ceiling of a number\n",
    "* `floor()` for computing the floor of a number\n",
    "* `cos()` for cosine function\n",
    "* `sin()` for sine function\n",
    "* `tan()` for tangent function\n",
    "* `pow()` for raising a number to its power\n",
    "* `log()` for logarithms (see also `log2()` and `log10()`\n",
    "* `sqrt()` for computing square roots\n",
    "\n",
    "Note: trig functions expect arguments in radians, not degrees. To convert degrees to radians, multiply by (`math.pi` / 180) or use the `radians()` function in the `math` module.\n",
    "\n",
    "You can find out all the functions available within a module by importing the module, typing the module name and a dot, then pressing tab. This \"auto-complete\" feature is super helpful when learning a new library or when you can't remember the name of a function."
   ]
  },
  {
   "cell_type": "code",
   "execution_count": 21,
   "metadata": {},
   "outputs": [
    {
     "name": "stdout",
     "output_type": "stream",
     "text": [
      "Absolute value of -5: 5\n",
      "45 degrees in radians is 0.79\n",
      "The sine of 45 degrees is 0.71\n"
     ]
    }
   ],
   "source": [
    "x = -5\n",
    "print(\"Absolute value of %d: %d\" %(x, math.fabs(x)))\n",
    "\n",
    "degrees = 45\n",
    "rads = degrees * (math.pi / 180.0)\n",
    "print(\"%d degrees in radians is %.2f\" %(degrees, rads))\n",
    "print(\"The sine of %d degrees is %.2f\" %(degrees, math.sin(rads)))"
   ]
  },
  {
   "cell_type": "markdown",
   "metadata": {},
   "source": [
    "### Defining a Function\n",
    "A *function definition* specifies the name of the function and the statements to be executed when the function is \"called\". We call a program by its name when we want to run it. A function definition follows the general template:\n",
    "```\n",
    "def <function_name>(input parameters)\n",
    "    '''\n",
    "    docstring\n",
    "    '''\n",
    "    executable statements\n",
    "    ...\n",
    "    return <output parameters>\n",
    "```\n",
    "There are several aspects of a function to note:\n",
    "* `def` is a keyword that let's Python know you are about to declare a function\n",
    "* The function name should follow similar naming conventions and style guidelines as function names. Note that function names are user-defined identifiers and should not redefine standard-identifiers (e.g. built-in functions) or previously declared user-identifiers (e.g. your own variables you've already declared).\n",
    "* The input parameters represent data coming in to your function. Don't forget the colon after the last paren.\n",
    "* Together, `def`, function name, and input parameters form the *function header*\n",
    "* The remaining portion of the function is called the *function body*. **All statements of the function body should be indented 4 spaces**. Indentation is how Python *groups* the code you've written with the function header to collectively form the *function definition*.\n",
    "* A multi-line comment, called a docstring, immediately follows the function header. This is where you explain what the function does, what inputs it expects, what outputs it produces, what assumptions the function makes, etc. When you type `help(<function_name>)`, the text in the docstring is what shows up (cool!).\n",
    "* Following the docstring are one or more executable statements.\n",
    "* `return()` statements specify the output parameters (results) of your function. Although you can have multiple return statements, in this class we will typically only have one (good style usually dictates only having one return statement per function anyways).\n",
    "\n",
    "## Example Revisited: Enter Functions\n",
    "Let's write a function called `get_grade_point()`:"
   ]
  },
  {
   "cell_type": "code",
   "execution_count": 22,
   "metadata": {},
   "outputs": [
    {
     "name": "stdout",
     "output_type": "stream",
     "text": [
      "Help on function get_grade_point in module __main__:\n",
      "\n",
      "get_grade_point(course_name)\n",
      "    docstring for get_grade_point()\n",
      "    \n",
      "    Prompts the user for a grade point based on a course.\n",
      "\n",
      "None\n",
      "Please enter the gpa for computer science: \n",
      "4.0\n",
      "4.0\n"
     ]
    }
   ],
   "source": [
    "def get_grade_point(course_name):\n",
    "    '''\n",
    "    docstring for get_grade_point()\n",
    "    \n",
    "    Prompts the user for a grade point based on a course.\n",
    "    '''\n",
    "    print(\"Please enter the gpa for %s: \" %(course_name))\n",
    "    gpa = float(input())\n",
    "    return gpa\n",
    "\n",
    "print(help(get_grade_point))\n",
    "gpa1 = get_grade_point(\"computer science\")\n",
    "print(gpa1)"
   ]
  },
  {
   "cell_type": "markdown",
   "metadata": {},
   "source": [
    "## Body-less Functions\n",
    "You can define a function without adding a body by simply placing the reserved keyword `pass` in the body. This can be useful when you want to test your program one function at a time or when you want to organize your program without actually writing the functions (or as a placeholder if someone else is writing the function). Example:"
   ]
  },
  {
   "cell_type": "code",
   "execution_count": 23,
   "metadata": {
    "collapsed": true
   },
   "outputs": [],
   "source": [
    "def quadratic_root_finder(a, b, c):\n",
    "    '''\n",
    "    Applies the quadratic equation to find the roots of\n",
    "    a quadratic function specified by the formula ax^2 + bx + c = 0\n",
    "    \n",
    "    To efficiently be implemented by someone else!\n",
    "    '''\n",
    "    pass"
   ]
  },
  {
   "cell_type": "markdown",
   "metadata": {},
   "source": [
    "## The `if` Statement\n",
    "The if statement supports conditional execution in Python:\n",
    "```\n",
    "if <test>:\n",
    "    <body>\n",
    "```\n",
    "\n",
    "`<test>` must be an expression that can be evaluated to either `True` or `False` (non-zero or zero), i.e. `<test>` is a **Boolean condition**\n",
    "`<body>` is one or more Python statements that are **indented** 4 spaces (or one tab, depending on your text editor)"
   ]
  },
  {
   "cell_type": "code",
   "execution_count": 24,
   "metadata": {},
   "outputs": [
    {
     "name": "stdout",
     "output_type": "stream",
     "text": [
      "x is 5!!\n"
     ]
    }
   ],
   "source": [
    "x = 5\n",
    "\n",
    "if x == 5:\n",
    "    print(\"x is 5!!\")\n",
    "    \n",
    "if x == 7:\n",
    "    print(\"x is 7!!\")"
   ]
  },
  {
   "cell_type": "markdown",
   "metadata": {},
   "source": [
    "Python also defines an `if`-`else` statement:\n",
    "```\n",
    "if <test>:\n",
    "    <body-if-test-is-true>\n",
    "else:\n",
    "    <body-if-test-is-false>\n",
    "```\n",
    "\n",
    "**Only one of the two `<body>` blocks can be executed each time through this code**. In other words, they are \"mutually exclusive\".\n",
    "\n",
    "Note: the `else` has no `<test>` condition. The `else` body executes when the complement of `<test>` is True (i.e. `<test>` is False)."
   ]
  },
  {
   "cell_type": "code",
   "execution_count": 25,
   "metadata": {},
   "outputs": [
    {
     "name": "stdout",
     "output_type": "stream",
     "text": [
      "Brrrrr...\n"
     ]
    }
   ],
   "source": [
    "temperature = 10\n",
    "\n",
    "if temperature > 32:\n",
    "    print(\"It is warm out!\")\n",
    "else: # temperature <= 32\n",
    "    print(\"Brrrrr...\")"
   ]
  },
  {
   "cell_type": "markdown",
   "metadata": {},
   "source": [
    "## Nested `if` Statements\n",
    "When a player's guess is not the number to guess (BC1 is False), we could give the hint in the body of the `else`. This would make sense because we only want to give a hint with BC1 is false, that is `players_guess != num_to_guess`. To do this, we can *nest* BC2 and BC3 in the `else` *body* of BC1 by indenting:"
   ]
  },
  {
   "cell_type": "code",
   "execution_count": 26,
   "metadata": {},
   "outputs": [
    {
     "name": "stdout",
     "output_type": "stream",
     "text": [
      "Please enter a number between 1 and 10 inclusive\n",
      "5\n",
      "Unfortunately, you guessed the number incorrectly; however, I will give you a hint\n",
      "Your guess was too high\n"
     ]
    }
   ],
   "source": [
    "num_to_guess = 4\n",
    "players_guess = 0\n",
    "\n",
    "print(\"Please enter a number between 1 and 10 inclusive\")\n",
    "players_guess = int(input())\n",
    "\n",
    "if players_guess == num_to_guess: # BC 1\n",
    "    print(\"Congrats, you guessed the number correctly\")\n",
    "else: # players_guess != num_to_guess:\n",
    "    print(\"Unfortunately, you guessed the number incorrectly; however, I will give you a hint\")\n",
    "    if players_guess > num_to_guess: # BC 2\n",
    "        print(\"Your guess was too high\")\n",
    "    # this fixes the boundary case of == num_to_guess that we had previously\n",
    "    else: # players_Guess <= num_to_guess\n",
    "        print(\"Your guess was too low\")"
   ]
  },
  {
   "cell_type": "markdown",
   "metadata": {},
   "source": [
    "You can nest `if` statements as many times as you like; however, try to keep your code readable! Also, try to collapse your boolean conditions when appropriate. For example:"
   ]
  },
  {
   "cell_type": "code",
   "execution_count": 27,
   "metadata": {},
   "outputs": [
    {
     "name": "stdout",
     "output_type": "stream",
     "text": [
      "Please enter a number between 1 and 10 inclusive\n",
      "6\n",
      "You are wrong but you get to try again\n",
      "You are wrong but you get to try again\n"
     ]
    }
   ],
   "source": [
    "num_guesses = 3\n",
    "\n",
    "print(\"Please enter a number between 1 and 10 inclusive\")\n",
    "players_guess = int(input())\n",
    "\n",
    "if players_guess != num_to_guess:\n",
    "    if num_guesses > 0:\n",
    "        print(\"You are wrong but you get to try again\")\n",
    "        \n",
    "# the above nested if can collapse into a compound condition\n",
    "if players_guess != num_to_guess and num_guesses > 0:\n",
    "    print(\"You are wrong but you get to try again\")"
   ]
  },
  {
   "cell_type": "markdown",
   "metadata": {},
   "source": [
    "## Multiple-Alternative `if` Statements\n",
    "Sometimes we want to have multiple boolean conditions in the same block of mutually exclusive `if` statements. We can do this with *multiple-alternative if statements* and the `elif` keyword. `elif` stands for `else-if`. Think of `elif` like an `else` with a Boolean condition to test.\n",
    "\n",
    "Consider yet another rewrite of the guessing game code:"
   ]
  },
  {
   "cell_type": "code",
   "execution_count": 28,
   "metadata": {},
   "outputs": [
    {
     "name": "stdout",
     "output_type": "stream",
     "text": [
      "Please enter a number between 1 and 10 inclusive\n",
      "5\n",
      "Your guess was too high\n"
     ]
    }
   ],
   "source": [
    "num_to_guess = 4\n",
    "players_guess = 0\n",
    "\n",
    "print(\"Please enter a number between 1 and 10 inclusive\")\n",
    "players_guess = int(input())\n",
    "\n",
    "# a guess is either equal to, greater than, or less than \n",
    "if players_guess == num_to_guess: # BC 1\n",
    "    print(\"Congrats, you guessed the number correctly\")\n",
    "elif players_guess > num_to_guess: # BC 2\n",
    "    print(\"Your guess was too high\")\n",
    "else: # players_guess < num_to_guess\n",
    "    print(\"Your guess was too low\")"
   ]
  },
  {
   "cell_type": "markdown",
   "metadata": {},
   "source": [
    "## The `while` Loop\n",
    "The `while` loop is of the following general form:\n",
    "\n",
    "```\n",
    "while <test>:\n",
    "    <body>\n",
    "```\n",
    "\n",
    "Where `<test>` is a Boolean condition and **`<body>` contains indented code that progresses towards the Boolean condition testing `False`** (a way to exit the loop).\n",
    "* `<test>` is evaluated at the beginning of the loop\n",
    "    * if `<test>` is `True`, `<body>` will be executed.\n",
    "    * if `<test>` is `False`, the first line of code *after* the indented `<body>` is executed.\n",
    "* After the last statement in `<body>` is executed, control is shifted back to the beginning of the loop and `<test>` is re-evaluated.\n",
    "* Progress towards the Boolean condition becoming `False` must be made in `<body>` Otherwise, we will have an infinite loop!\n",
    "\n",
    "![](http://www.tutorialspoint.com/python/images/python_while_loop.jpg)\n",
    "(Image from [http://www.tutorialspoint.com/python/images/python_while_loop.jpg](http://www.tutorialspoint.com/python/images/python_while_loop.jpg))\n",
    "\n",
    "Let's look at an example. Write a program to print `num_stars` number of stars:"
   ]
  },
  {
   "cell_type": "code",
   "execution_count": 29,
   "metadata": {},
   "outputs": [
    {
     "name": "stdout",
     "output_type": "stream",
     "text": [
      "**********\n",
      "\n"
     ]
    }
   ],
   "source": [
    "# initialize a loop control variable\n",
    "num_stars = 10\n",
    "\n",
    "while num_stars > 0: # boolean condition\n",
    "    # body of while loop. These indented statements will be repeated when the boolean condition is True\n",
    "    print(\"*\", end=\"\")\n",
    "    num_stars -= 1 # progress towards boolean condition being False\n",
    "\n",
    "# this is the first line of code to be executed once the boolean condition is False\n",
    "print(\"\\n\")"
   ]
  },
  {
   "cell_type": "markdown",
   "metadata": {},
   "source": [
    "<img src=\"https://raw.githubusercontent.com/gsprint23/cpts215/master/lessons/figures/while_loop_example.png\" width=\"400\">"
   ]
  },
  {
   "cell_type": "markdown",
   "metadata": {},
   "source": [
    "## The `for` Loop\n",
    "In addition to `while` loops, Python has another type of loop, the `for` loop. `for` loops have the general template\n",
    "\n",
    "```\n",
    "for <item> in <sequence>:\n",
    "    <body>\n",
    "```\n",
    "\n",
    "Where `<sequence>` contains a *finite number of items* to be iterated through. If `<sequence>` is not finite, then we have an infinite loop!\n",
    "\n",
    "![](http://www.tutorialspoint.com/python/images/python_for_loop.jpg)\n",
    "(image taken from [http://www.tutorialspoint.com/python/images/python_for_loop.jpg](http://www.tutorialspoint.com/python/images/python_for_loop.jpg))"
   ]
  },
  {
   "cell_type": "markdown",
   "metadata": {},
   "source": [
    "## `range()`\n",
    "Often we want to run a loop for sequence of values starting at `start`, ending at `stop`, and incrementing by `step`. For example, consider the first 20 even numbers. We want to start generating numbers at 2, end at 40 (and include 40), and increase by 2: 2, 4, 6, 8,..., 38, 40.\n",
    "\n",
    "We can accomplish this by generating this sequence with the [`range()`](https://docs.python.org/3/library/functions.html#func-range) built-in Python function:\n",
    "\n",
    "`range(start, stop, step)`\n",
    "\n",
    "Let's re-write our \"first 20 even number code\" using a `for` loop:"
   ]
  },
  {
   "cell_type": "code",
   "execution_count": 30,
   "metadata": {},
   "outputs": [
    {
     "name": "stdout",
     "output_type": "stream",
     "text": [
      "2\n",
      "4\n",
      "6\n",
      "8\n",
      "10\n",
      "12\n",
      "14\n",
      "16\n",
      "18\n",
      "20\n",
      "22\n",
      "24\n",
      "26\n",
      "28\n",
      "30\n",
      "32\n",
      "34\n",
      "36\n",
      "38\n",
      "40\n",
      "\n",
      "\n",
      "2\n",
      "3\n",
      "4\n",
      "5\n",
      "6\n",
      "7\n",
      "8\n",
      "9\n",
      "10\n",
      "11\n",
      "12\n",
      "13\n",
      "14\n",
      "15\n",
      "16\n",
      "17\n",
      "18\n",
      "19\n",
      "20\n",
      "21\n",
      "22\n",
      "23\n",
      "24\n",
      "25\n",
      "26\n",
      "27\n",
      "28\n",
      "29\n",
      "30\n",
      "31\n",
      "32\n",
      "33\n",
      "34\n",
      "35\n",
      "36\n",
      "37\n",
      "38\n",
      "39\n",
      "40\n",
      "41\n",
      "\n",
      "\n",
      "0\n",
      "1\n"
     ]
    }
   ],
   "source": [
    "for number in range(2, 42, 2):\n",
    "    print(number)\n",
    "    \n",
    "print(\"\\n\")\n",
    "\n",
    "for number in range(2, 42):\n",
    "    print(number)\n",
    "    \n",
    "print(\"\\n\")\n",
    "\n",
    "for number in range(2):\n",
    "    print(number)"
   ]
  },
  {
   "cell_type": "markdown",
   "metadata": {},
   "source": [
    "Note: `stop` specifies the index at which to terminate the loop. This is the Boolean condition, `number < stop`. When `number` equals or exceeds `stop`, the Boolean condition is `False` and the loop ends.\n",
    "\n",
    "Note: If you do not specify a `step`, it is assumed to be 1: `range(0, 10)`\n",
    "\n",
    "Note: If you only pass in one input argument to `range`, i.e. `range(10)`, `start` is assumed to be 0 and `stop` is the input argument value.\n",
    "\n",
    "In summary: `range(0, 10, 1):` is equivalent to `range(0, 10):` is equivalent to `range(10):`\n",
    "\n",
    "Try writing a program to prompt the user to enter a number, then using `for` loop to print as many stars as the number the user entered."
   ]
  },
  {
   "cell_type": "code",
   "execution_count": 31,
   "metadata": {},
   "outputs": [
    {
     "name": "stdout",
     "output_type": "stream",
     "text": [
      "Please enter the number of stars to print: 5\n",
      "*****"
     ]
    }
   ],
   "source": [
    "num_stars = int(input(\"Please enter the number of stars to print: \"))\n",
    "\n",
    "for i in range(num_stars):\n",
    "    print(\"*\", end=\"\")"
   ]
  },
  {
   "cell_type": "markdown",
   "metadata": {},
   "source": [
    "## `while` or `for` Loops?\n",
    "When to use which loop? Each loop construct lends itself more suitable for certain tasks:\n",
    "\n",
    "`for` loops:\n",
    "* Iterating through sequences\n",
    "    * Using `range()`\n",
    "    * Files\n",
    "    * Strings\n",
    "    * To be learned soon: lists, dictionaries\n",
    "* When we know the number of times we want to run our loop\n",
    "\n",
    "`while` loops:\n",
    "* Prompting the user for input\n",
    "    * Menus\n",
    "* When we don't know the number of times we want to run our loop"
   ]
  },
  {
   "cell_type": "markdown",
   "metadata": {},
   "source": [
    "## `break` Statement\n",
    "Sometimes we need to \"break\" out of a loop early, i.e. before the Boolean condition is `False`. We can accomplish this anywhere in the body of the loop with the `break` statement. \n",
    "\n",
    "As an example, suppose we want to get input from the user until they enter the string \"stop\". When the user enters \"stop\", we want to stop getting numbers from the user and take an early exit of our loop:"
   ]
  },
  {
   "cell_type": "code",
   "execution_count": 32,
   "metadata": {},
   "outputs": [
    {
     "name": "stdout",
     "output_type": "stream",
     "text": [
      "Please enter a string: hello\n",
      "Please enter a string: stop\n"
     ]
    }
   ],
   "source": [
    "while True:\n",
    "    line = input(\"Please enter a string: \")\n",
    "    if line == \"stop\":\n",
    "        break"
   ]
  },
  {
   "cell_type": "markdown",
   "metadata": {},
   "source": [
    "## Nested Loops\n",
    "Loops within loops! Just like how we can have `if` statements within `if` statements (nested `if` statements), we do the same with loops. We just need to be conscientious of:\n",
    "* Indenting the bodies of the loops correctly\n",
    "* Progress towards all of the Boolean conditions eventually being false"
   ]
  },
  {
   "cell_type": "code",
   "execution_count": 33,
   "metadata": {},
   "outputs": [
    {
     "name": "stdout",
     "output_type": "stream",
     "text": [
      "0 \n",
      "1 0 \n",
      "2 0 1 \n",
      "3 0 1 2 \n",
      "4 0 1 2 3 \n"
     ]
    }
   ],
   "source": [
    "for i in range(0, 5):\n",
    "    print(\"%d \" %(i), end=\"\")\n",
    "    for j in range(0, i):\n",
    "        print(\"%d\" %(j), end=\" \")\n",
    "    print(\"\")"
   ]
  },
  {
   "cell_type": "markdown",
   "metadata": {},
   "source": [
    "## Random Numbers\n",
    "To generate random numbers, we need to import the `random` module. Then, we will call the function `randrange(start, stop)` to generate a random number in the range `start` to `stop - 1`."
   ]
  },
  {
   "cell_type": "code",
   "execution_count": 34,
   "metadata": {},
   "outputs": [
    {
     "name": "stdout",
     "output_type": "stream",
     "text": [
      "9\n"
     ]
    }
   ],
   "source": [
    "import random\n",
    "\n",
    "# get a random number in the range [0, 9] inclusive\n",
    "rand_num = random.randrange(0, 10)\n",
    "print(rand_num)"
   ]
  }
 ],
 "metadata": {
  "anaconda-cloud": {},
  "kernelspec": {
   "display_name": "Python 3",
   "language": "python",
   "name": "python3"
  },
  "language_info": {
   "codemirror_mode": {
    "name": "ipython",
    "version": 3
   },
   "file_extension": ".py",
   "mimetype": "text/x-python",
   "name": "python",
   "nbconvert_exporter": "python",
   "pygments_lexer": "ipython3",
   "version": "3.7.1"
  }
 },
 "nbformat": 4,
 "nbformat_minor": 1
}
