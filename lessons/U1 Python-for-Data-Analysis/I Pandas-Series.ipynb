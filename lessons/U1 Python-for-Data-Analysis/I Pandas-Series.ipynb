{
 "cells": [
  {
   "cell_type": "markdown",
   "metadata": {},
   "source": [
    "# [CptS 215 Data Analytics Systems and Algorithms](https://github.com/gsprint23/cpts215)\n",
    "[Washington State University](https://wsu.edu)\n",
    "\n",
    "[Gina Sprint](http://eecs.wsu.edu/~gsprint/)\n",
    "# Pandas `Series`\n",
    "\n",
    "Learner objectives for this lesson:\n",
    "* Learn about the Pandas library\n",
    "* Work with Pandas `Series` objects\n",
    "\n",
    "## Acknowledgments\n",
    "Content used in this lesson is based upon information in the following sources:\n",
    "* [Pandas website](http://pandas.pydata.org/)\n",
    "* Python for Data Analysis by Wes McKinney"
   ]
  },
  {
   "cell_type": "markdown",
   "metadata": {},
   "source": [
    "## Pandas Overview\n",
    "From the [Pandas website](http://pandas.pydata.org/):\n",
    ">pandas is an open source, BSD-licensed library providing high-performance, easy-to-use data structures and data analysis tools for the Python programming language.\n",
    "\n",
    "The data structures objects in Pandas have axes that are *labeled*. This is quite useful for implementing software for data analytics. There are three main data structures objects in the Pandas library:\n",
    "1. `Series`: a one dimensional labeled array.\n",
    "1. `DataFrame`: a two dimensional labeled data structure.\n",
    "1. `Panel`: a three dimensional labeled data structure.\n",
    "\n",
    "In this class, we will mostly work with `Series` and `DataFrames`.\n",
    "\n",
    "Typically, we will import the Pandas library as pd:"
   ]
  },
  {
   "cell_type": "code",
   "execution_count": 1,
   "metadata": {
    "collapsed": true
   },
   "outputs": [],
   "source": [
    "import pandas as pd"
   ]
  },
  {
   "cell_type": "markdown",
   "metadata": {},
   "source": [
    "## `Series`\n",
    "`Series` is a one dimensional labeled array. The axis labels are collectively referred to as the *index*. Each index value *maps* to a data item in the `Series`. You can think of a `Series` as being similar to an ordered dictionary augmented with data analysis functionality.\n",
    "\n",
    "Suppose we have a dictionary of city (key) and population (value) pairs that we want to convert into a `Series`:"
   ]
  },
  {
   "cell_type": "code",
   "execution_count": 2,
   "metadata": {},
   "outputs": [
    {
     "name": "stdout",
     "output_type": "stream",
     "text": [
      "Bellevue       133992\n",
      "Leavenworth      1992\n",
      "Seattle        652405\n",
      "Spokane        210721\n",
      "dtype: int64\n"
     ]
    }
   ],
   "source": [
    "my_dict = {\"Seattle\": 652405, \"Spokane\": 210721, \"Bellevue\": 133992, \"Leavenworth\": 1992}\n",
    "ser = pd.Series(my_dict)\n",
    "print(ser)"
   ]
  },
  {
   "cell_type": "markdown",
   "metadata": {},
   "source": [
    "As you can see in the output, the left column is the index (the keys) and the right column is the data (values). The data type of the data (population) is int64.\n",
    "\n",
    "We can also pass in a list or an `ndarry`."
   ]
  },
  {
   "cell_type": "code",
   "execution_count": 3,
   "metadata": {},
   "outputs": [
    {
     "name": "stdout",
     "output_type": "stream",
     "text": [
      "0    1\n",
      "1    2\n",
      "2    3\n",
      "3    4\n",
      "dtype: int64\n",
      "0    0.497088\n",
      "1    0.522258\n",
      "2    0.634724\n",
      "3   -0.006576\n",
      "4   -0.123352\n",
      "dtype: float64\n"
     ]
    }
   ],
   "source": [
    "data = list([1, 2, 3, 4])\n",
    "ser = pd.Series(data)\n",
    "print(ser)\n",
    "\n",
    "import numpy as np\n",
    "data = np.random.randn(5)\n",
    "ser = pd.Series(data)\n",
    "print(ser)"
   ]
  },
  {
   "cell_type": "markdown",
   "metadata": {},
   "source": [
    "As you can see in the output, by default the index for a `Series` is numeric: integers starting at 0 and increasing by 1. We can explicitly set the index at instantiation time with the reserved keyword `index`:"
   ]
  },
  {
   "cell_type": "code",
   "execution_count": 4,
   "metadata": {},
   "outputs": [
    {
     "name": "stdout",
     "output_type": "stream",
     "text": [
      "a    1.176157\n",
      "b   -0.398128\n",
      "c    1.163027\n",
      "d   -0.143429\n",
      "e   -1.024642\n",
      "dtype: float64\n"
     ]
    }
   ],
   "source": [
    "import string\n",
    "alpha = list(string.ascii_lowercase[:5])\n",
    "data = np.random.randn(5)\n",
    "ser = pd.Series(data, index=alpha)\n",
    "print(ser)"
   ]
  },
  {
   "cell_type": "markdown",
   "metadata": {},
   "source": [
    "### `name` Attribute\n",
    "Both the data and index of a `Series` can be named. We will see this is especially useful for integrating `Series` into `DataFrames`."
   ]
  },
  {
   "cell_type": "code",
   "execution_count": 5,
   "metadata": {},
   "outputs": [
    {
     "name": "stdout",
     "output_type": "stream",
     "text": [
      "Bellevue       133992\n",
      "Leavenworth      1992\n",
      "Seattle        652405\n",
      "Spokane        210721\n",
      "dtype: int64\n",
      "After naming the data and index\n",
      "City\n",
      "Bellevue       133992\n",
      "Leavenworth      1992\n",
      "Seattle        652405\n",
      "Spokane        210721\n",
      "Name: Population, dtype: int64\n"
     ]
    }
   ],
   "source": [
    "my_dict = {\"Seattle\": 652405, \"Spokane\": 210721, \"Bellevue\": 133992, \"Leavenworth\": 1992}\n",
    "ser = pd.Series(my_dict)\n",
    "print(ser)\n",
    "ser.name = \"Population\"\n",
    "ser.index.name = \"City\"\n",
    "print(\"After naming the data and index\")\n",
    "print(ser)"
   ]
  },
  {
   "cell_type": "markdown",
   "metadata": {},
   "source": [
    "### Descriptive and Summary Statistics\n",
    "Like Numpy ufuncs, Pandas objects (e.g. `Series` and `DataFrames`) included mathematical and statistical methods. Examples of such methods include:\n",
    "* `count()`: Count the number of non-NA values\n",
    "* `min()`, `max()`: Compute minimum and maximum values\n",
    "* `argmin()`, `argmax()`: Compute index locations (integers) at which minimum or maximum value obtained\n",
    "* `idxmin()`, `idxmax()`: Compute index values (labels) at which minimum or maximum value obtained\n",
    "* `quantile()`: Compute sample quantile ranging from 0 to 1\n",
    "* `sum()`: Sum of values\n",
    "* `cumsum()`: Cumulative sum of values\n",
    "* `mean()`: Mean of values\n",
    "* `median()`: Arithmetic median (50% quantile) of values\n",
    "* Many others!"
   ]
  },
  {
   "cell_type": "markdown",
   "metadata": {
    "collapsed": true
   },
   "source": [
    "### Similarities between `Series` and `ndarray`\n",
    "`Series` is `ndarray`-like, which means `Series` is similar to `ndarray` in many ways, for example:\n",
    "* `Series` has attributes/methods/ similar to `ndarray`\n",
    "* You can pass a `Series` instead of an `ndarray` to most NumPy functions (ufuncs)\n",
    "    * Vectorization\n",
    "    * Overloaded operators\n",
    "* You can index and slice `Series` like `ndarray`"
   ]
  },
  {
   "cell_type": "code",
   "execution_count": 7,
   "metadata": {},
   "outputs": [
    {
     "name": "stdout",
     "output_type": "stream",
     "text": [
      "Bellevue       133992\n",
      "Leavenworth      1992\n",
      "Seattle        652405\n",
      "Spokane        210721\n",
      "dtype: int64\n",
      "ser.shape:(4,)\n",
      "ser.dtype:int64\n",
      "ser.mean():249777.5\n",
      "np.mean(ser):249777.5\n",
      "np.sqrt(ser):\n",
      "Bellevue       366.049177\n",
      "Leavenworth     44.631827\n",
      "Seattle        807.715915\n",
      "Spokane        459.043571\n",
      "dtype: float64\n",
      "ser + ser:\n",
      "Bellevue        267984\n",
      "Leavenworth       3984\n",
      "Seattle        1304810\n",
      "Spokane         421442\n",
      "dtype: int64\n",
      "ser * 10:\n",
      "Bellevue       1339920\n",
      "Leavenworth      19920\n",
      "Seattle        6524050\n",
      "Spokane        2107210\n",
      "dtype: int64\n",
      "Indexing ser[0]:133992\n",
      "Indexing ser[[0, 2]]:\n",
      "Bellevue    133992\n",
      "Seattle     652405\n",
      "dtype: int64\n",
      "Boolean indexing ser[[ser > ser.median()]]:\n",
      "Seattle    652405\n",
      "Spokane    210721\n",
      "dtype: int64\n",
      "Slicing ser[0:2]:\n",
      "Bellevue       133992\n",
      "Leavenworth      1992\n",
      "dtype: int64\n",
      "Slicing ser[2:]:\n",
      "Seattle    652405\n",
      "Spokane    210721\n",
      "dtype: int64\n"
     ]
    }
   ],
   "source": [
    "my_dict = {\"Seattle\": 652405, \"Spokane\": 210721, \"Bellevue\": 133992, \"Leavenworth\": 1992}\n",
    "ser = pd.Series(my_dict)\n",
    "print(ser)\n",
    "# attributes\n",
    "print(\"ser.shape:%s\" %(str(ser.shape)))\n",
    "print(\"ser.dtype:%s\" %(str(ser.dtype)))\n",
    "# methods\n",
    "print(\"ser.mean():%s\" %(str(ser.mean())))\n",
    "# numpy ufuncs\n",
    "print(\"np.mean(ser):%s\" %(str(np.mean(ser))))\n",
    "# vectorization\n",
    "print(\"np.sqrt(ser):\\n%s\" %(str(np.sqrt(ser))))\n",
    "print(\"ser + ser:\\n%s\" %(str(ser + ser)))\n",
    "print(\"ser * 10:\\n%s\" %(str(ser * 10)))\n",
    "# indeing\n",
    "print(\"Indexing ser[0]:%s\" %(str(ser[0])))\n",
    "print(\"Indexing ser[[0, 2]]:\\n%s\" %(str(ser[[0, 2]])))\n",
    "print(\"Boolean indexing ser[[ser > ser.median()]]:\\n%s\" %(str(ser[ser > ser.median()])))\n",
    "print(\"Slicing ser[0:2]:\\n%s\" %(str(ser[0:2])))\n",
    "print(\"Slicing ser[2:]:\\n%s\" %(str(ser[2:])))"
   ]
  },
  {
   "cell_type": "markdown",
   "metadata": {},
   "source": [
    "### Differences between `Series` and `ndarray`\n",
    "From the [Pandas website](http://pandas.pydata.org/):\n",
    "\n",
    ">A key difference between `Series` and `ndarray` is that operations between Series automatically align the data based on label. Thus, you can write computations without giving consideration to whether the Series involved have the same labels. The result of an operation between unaligned Series will have the union of the indexes involved. If a label is not found in one Series or the other, the result will be marked as missing NaN. Being able to write code without doing any explicit data alignment grants immense freedom and flexibility in interactive data analysis and research. The integrated data alignment features of the pandas data structures set pandas apart from the majority of related tools for working with labeled data."
   ]
  }
 ],
 "metadata": {
  "anaconda-cloud": {},
  "kernelspec": {
   "display_name": "Python 3",
   "language": "python",
   "name": "python3"
  },
  "language_info": {
   "codemirror_mode": {
    "name": "ipython",
    "version": 3
   },
   "file_extension": ".py",
   "mimetype": "text/x-python",
   "name": "python",
   "nbconvert_exporter": "python",
   "pygments_lexer": "ipython3",
   "version": "3.7.1"
  }
 },
 "nbformat": 4,
 "nbformat_minor": 1
}
